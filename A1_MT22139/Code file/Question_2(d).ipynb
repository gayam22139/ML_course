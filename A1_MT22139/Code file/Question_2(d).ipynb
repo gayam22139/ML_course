{
  "nbformat": 4,
  "nbformat_minor": 0,
  "metadata": {
    "colab": {
      "provenance": [],
      "collapsed_sections": []
    },
    "kernelspec": {
      "name": "python3",
      "display_name": "Python 3"
    },
    "language_info": {
      "name": "python"
    }
  },
  "cells": [
    {
      "cell_type": "markdown",
      "source": [
        "## Question 2(d)\n",
        "(i). Visualize the data-set.\n",
        "\n",
        "(ii). After the necessary data preparation, make a linear regression model to predict the target variable.\n",
        "\n",
        "• Briefly explain the following losses : RMSE, MSE, MAE.\n",
        "\n",
        "• Write a function from scratch to find any one of these loss functions.\n",
        "\n",
        "• Also check the value of this loss using sklearn library.\n",
        "\n",
        "• Report the accuracy and R2\n",
        "score of your model for both training and test data"
      ],
      "metadata": {
        "id": "WFN7TAp3gC5J"
      }
    },
    {
      "cell_type": "markdown",
      "source": [
        "##**(i) Data visualization**"
      ],
      "metadata": {
        "id": "eJYvPrsDhJ8w"
      }
    },
    {
      "cell_type": "code",
      "execution_count": null,
      "metadata": {
        "id": "-doUDjz5gBAE"
      },
      "outputs": [],
      "source": [
        "import numpy as np\n",
        "import pandas as pd\n",
        "import matplotlib.pyplot as plt"
      ]
    },
    {
      "cell_type": "code",
      "source": [
        "df = pd.read_table('https://archive.ics.uci.edu/ml/machine-learning-databases/00291/airfoil_self_noise.dat',names =[\"Freqency(in Hertz)\", \"Angle of attack (in deg)\", \"Length of chord (in meters)\", \"Free stream velocity ( in meter/sec)\", \"Suction side displacement thickness (in meters)\", \"Scaled sound pressure level (in dB)\"])\n",
        "df #As the data didn't have column names I have added while loading the data"
      ],
      "metadata": {
        "colab": {
          "base_uri": "https://localhost:8080/",
          "height": 485
        },
        "id": "Dc6HL3YPiB9W",
        "outputId": "0bf06a6e-c726-4321-8718-4079512e61ab"
      },
      "execution_count": null,
      "outputs": [
        {
          "output_type": "execute_result",
          "data": {
            "text/plain": [
              "      Freqency(in Hertz)  Angle of attack (in deg)  \\\n",
              "0                    800                       0.0   \n",
              "1                   1000                       0.0   \n",
              "2                   1250                       0.0   \n",
              "3                   1600                       0.0   \n",
              "4                   2000                       0.0   \n",
              "...                  ...                       ...   \n",
              "1498                2500                      15.6   \n",
              "1499                3150                      15.6   \n",
              "1500                4000                      15.6   \n",
              "1501                5000                      15.6   \n",
              "1502                6300                      15.6   \n",
              "\n",
              "      Length of chord (in meters)  Free stream velocity ( in meter/sec)  \\\n",
              "0                          0.3048                                  71.3   \n",
              "1                          0.3048                                  71.3   \n",
              "2                          0.3048                                  71.3   \n",
              "3                          0.3048                                  71.3   \n",
              "4                          0.3048                                  71.3   \n",
              "...                           ...                                   ...   \n",
              "1498                       0.1016                                  39.6   \n",
              "1499                       0.1016                                  39.6   \n",
              "1500                       0.1016                                  39.6   \n",
              "1501                       0.1016                                  39.6   \n",
              "1502                       0.1016                                  39.6   \n",
              "\n",
              "      Suction side displacement thickness (in meters)  \\\n",
              "0                                            0.002663   \n",
              "1                                            0.002663   \n",
              "2                                            0.002663   \n",
              "3                                            0.002663   \n",
              "4                                            0.002663   \n",
              "...                                               ...   \n",
              "1498                                         0.052849   \n",
              "1499                                         0.052849   \n",
              "1500                                         0.052849   \n",
              "1501                                         0.052849   \n",
              "1502                                         0.052849   \n",
              "\n",
              "      Scaled sound pressure level (in dB)  \n",
              "0                                 126.201  \n",
              "1                                 125.201  \n",
              "2                                 125.951  \n",
              "3                                 127.591  \n",
              "4                                 127.461  \n",
              "...                                   ...  \n",
              "1498                              110.264  \n",
              "1499                              109.254  \n",
              "1500                              106.604  \n",
              "1501                              106.224  \n",
              "1502                              104.204  \n",
              "\n",
              "[1503 rows x 6 columns]"
            ],
            "text/html": [
              "\n",
              "  <div id=\"df-2a937ddd-3564-476e-94ad-fb62ae38729c\">\n",
              "    <div class=\"colab-df-container\">\n",
              "      <div>\n",
              "<style scoped>\n",
              "    .dataframe tbody tr th:only-of-type {\n",
              "        vertical-align: middle;\n",
              "    }\n",
              "\n",
              "    .dataframe tbody tr th {\n",
              "        vertical-align: top;\n",
              "    }\n",
              "\n",
              "    .dataframe thead th {\n",
              "        text-align: right;\n",
              "    }\n",
              "</style>\n",
              "<table border=\"1\" class=\"dataframe\">\n",
              "  <thead>\n",
              "    <tr style=\"text-align: right;\">\n",
              "      <th></th>\n",
              "      <th>Freqency(in Hertz)</th>\n",
              "      <th>Angle of attack (in deg)</th>\n",
              "      <th>Length of chord (in meters)</th>\n",
              "      <th>Free stream velocity ( in meter/sec)</th>\n",
              "      <th>Suction side displacement thickness (in meters)</th>\n",
              "      <th>Scaled sound pressure level (in dB)</th>\n",
              "    </tr>\n",
              "  </thead>\n",
              "  <tbody>\n",
              "    <tr>\n",
              "      <th>0</th>\n",
              "      <td>800</td>\n",
              "      <td>0.0</td>\n",
              "      <td>0.3048</td>\n",
              "      <td>71.3</td>\n",
              "      <td>0.002663</td>\n",
              "      <td>126.201</td>\n",
              "    </tr>\n",
              "    <tr>\n",
              "      <th>1</th>\n",
              "      <td>1000</td>\n",
              "      <td>0.0</td>\n",
              "      <td>0.3048</td>\n",
              "      <td>71.3</td>\n",
              "      <td>0.002663</td>\n",
              "      <td>125.201</td>\n",
              "    </tr>\n",
              "    <tr>\n",
              "      <th>2</th>\n",
              "      <td>1250</td>\n",
              "      <td>0.0</td>\n",
              "      <td>0.3048</td>\n",
              "      <td>71.3</td>\n",
              "      <td>0.002663</td>\n",
              "      <td>125.951</td>\n",
              "    </tr>\n",
              "    <tr>\n",
              "      <th>3</th>\n",
              "      <td>1600</td>\n",
              "      <td>0.0</td>\n",
              "      <td>0.3048</td>\n",
              "      <td>71.3</td>\n",
              "      <td>0.002663</td>\n",
              "      <td>127.591</td>\n",
              "    </tr>\n",
              "    <tr>\n",
              "      <th>4</th>\n",
              "      <td>2000</td>\n",
              "      <td>0.0</td>\n",
              "      <td>0.3048</td>\n",
              "      <td>71.3</td>\n",
              "      <td>0.002663</td>\n",
              "      <td>127.461</td>\n",
              "    </tr>\n",
              "    <tr>\n",
              "      <th>...</th>\n",
              "      <td>...</td>\n",
              "      <td>...</td>\n",
              "      <td>...</td>\n",
              "      <td>...</td>\n",
              "      <td>...</td>\n",
              "      <td>...</td>\n",
              "    </tr>\n",
              "    <tr>\n",
              "      <th>1498</th>\n",
              "      <td>2500</td>\n",
              "      <td>15.6</td>\n",
              "      <td>0.1016</td>\n",
              "      <td>39.6</td>\n",
              "      <td>0.052849</td>\n",
              "      <td>110.264</td>\n",
              "    </tr>\n",
              "    <tr>\n",
              "      <th>1499</th>\n",
              "      <td>3150</td>\n",
              "      <td>15.6</td>\n",
              "      <td>0.1016</td>\n",
              "      <td>39.6</td>\n",
              "      <td>0.052849</td>\n",
              "      <td>109.254</td>\n",
              "    </tr>\n",
              "    <tr>\n",
              "      <th>1500</th>\n",
              "      <td>4000</td>\n",
              "      <td>15.6</td>\n",
              "      <td>0.1016</td>\n",
              "      <td>39.6</td>\n",
              "      <td>0.052849</td>\n",
              "      <td>106.604</td>\n",
              "    </tr>\n",
              "    <tr>\n",
              "      <th>1501</th>\n",
              "      <td>5000</td>\n",
              "      <td>15.6</td>\n",
              "      <td>0.1016</td>\n",
              "      <td>39.6</td>\n",
              "      <td>0.052849</td>\n",
              "      <td>106.224</td>\n",
              "    </tr>\n",
              "    <tr>\n",
              "      <th>1502</th>\n",
              "      <td>6300</td>\n",
              "      <td>15.6</td>\n",
              "      <td>0.1016</td>\n",
              "      <td>39.6</td>\n",
              "      <td>0.052849</td>\n",
              "      <td>104.204</td>\n",
              "    </tr>\n",
              "  </tbody>\n",
              "</table>\n",
              "<p>1503 rows × 6 columns</p>\n",
              "</div>\n",
              "      <button class=\"colab-df-convert\" onclick=\"convertToInteractive('df-2a937ddd-3564-476e-94ad-fb62ae38729c')\"\n",
              "              title=\"Convert this dataframe to an interactive table.\"\n",
              "              style=\"display:none;\">\n",
              "        \n",
              "  <svg xmlns=\"http://www.w3.org/2000/svg\" height=\"24px\"viewBox=\"0 0 24 24\"\n",
              "       width=\"24px\">\n",
              "    <path d=\"M0 0h24v24H0V0z\" fill=\"none\"/>\n",
              "    <path d=\"M18.56 5.44l.94 2.06.94-2.06 2.06-.94-2.06-.94-.94-2.06-.94 2.06-2.06.94zm-11 1L8.5 8.5l.94-2.06 2.06-.94-2.06-.94L8.5 2.5l-.94 2.06-2.06.94zm10 10l.94 2.06.94-2.06 2.06-.94-2.06-.94-.94-2.06-.94 2.06-2.06.94z\"/><path d=\"M17.41 7.96l-1.37-1.37c-.4-.4-.92-.59-1.43-.59-.52 0-1.04.2-1.43.59L10.3 9.45l-7.72 7.72c-.78.78-.78 2.05 0 2.83L4 21.41c.39.39.9.59 1.41.59.51 0 1.02-.2 1.41-.59l7.78-7.78 2.81-2.81c.8-.78.8-2.07 0-2.86zM5.41 20L4 18.59l7.72-7.72 1.47 1.35L5.41 20z\"/>\n",
              "  </svg>\n",
              "      </button>\n",
              "      \n",
              "  <style>\n",
              "    .colab-df-container {\n",
              "      display:flex;\n",
              "      flex-wrap:wrap;\n",
              "      gap: 12px;\n",
              "    }\n",
              "\n",
              "    .colab-df-convert {\n",
              "      background-color: #E8F0FE;\n",
              "      border: none;\n",
              "      border-radius: 50%;\n",
              "      cursor: pointer;\n",
              "      display: none;\n",
              "      fill: #1967D2;\n",
              "      height: 32px;\n",
              "      padding: 0 0 0 0;\n",
              "      width: 32px;\n",
              "    }\n",
              "\n",
              "    .colab-df-convert:hover {\n",
              "      background-color: #E2EBFA;\n",
              "      box-shadow: 0px 1px 2px rgba(60, 64, 67, 0.3), 0px 1px 3px 1px rgba(60, 64, 67, 0.15);\n",
              "      fill: #174EA6;\n",
              "    }\n",
              "\n",
              "    [theme=dark] .colab-df-convert {\n",
              "      background-color: #3B4455;\n",
              "      fill: #D2E3FC;\n",
              "    }\n",
              "\n",
              "    [theme=dark] .colab-df-convert:hover {\n",
              "      background-color: #434B5C;\n",
              "      box-shadow: 0px 1px 3px 1px rgba(0, 0, 0, 0.15);\n",
              "      filter: drop-shadow(0px 1px 2px rgba(0, 0, 0, 0.3));\n",
              "      fill: #FFFFFF;\n",
              "    }\n",
              "  </style>\n",
              "\n",
              "      <script>\n",
              "        const buttonEl =\n",
              "          document.querySelector('#df-2a937ddd-3564-476e-94ad-fb62ae38729c button.colab-df-convert');\n",
              "        buttonEl.style.display =\n",
              "          google.colab.kernel.accessAllowed ? 'block' : 'none';\n",
              "\n",
              "        async function convertToInteractive(key) {\n",
              "          const element = document.querySelector('#df-2a937ddd-3564-476e-94ad-fb62ae38729c');\n",
              "          const dataTable =\n",
              "            await google.colab.kernel.invokeFunction('convertToInteractive',\n",
              "                                                     [key], {});\n",
              "          if (!dataTable) return;\n",
              "\n",
              "          const docLinkHtml = 'Like what you see? Visit the ' +\n",
              "            '<a target=\"_blank\" href=https://colab.research.google.com/notebooks/data_table.ipynb>data table notebook</a>'\n",
              "            + ' to learn more about interactive tables.';\n",
              "          element.innerHTML = '';\n",
              "          dataTable['output_type'] = 'display_data';\n",
              "          await google.colab.output.renderOutput(dataTable, element);\n",
              "          const docLink = document.createElement('div');\n",
              "          docLink.innerHTML = docLinkHtml;\n",
              "          element.appendChild(docLink);\n",
              "        }\n",
              "      </script>\n",
              "    </div>\n",
              "  </div>\n",
              "  "
            ]
          },
          "metadata": {},
          "execution_count": 2
        }
      ]
    },
    {
      "cell_type": "markdown",
      "source": [
        "## **(ii) data preparation, make a linear regression model to predict the target variable.**"
      ],
      "metadata": {
        "id": "gSHg7fu5zaun"
      }
    },
    {
      "cell_type": "markdown",
      "source": [
        "preparing input and output data "
      ],
      "metadata": {
        "id": "8-rxlocQhhff"
      }
    },
    {
      "cell_type": "code",
      "source": [
        "# taking all the features by excluding type column \n",
        "x=df.drop(['Scaled sound pressure level (in dB)'], axis=1)#features\n",
        "y=df['Scaled sound pressure level (in dB)']"
      ],
      "metadata": {
        "id": "Tmwomr7bn1Ig"
      },
      "execution_count": null,
      "outputs": []
    },
    {
      "cell_type": "markdown",
      "source": [
        "display input data"
      ],
      "metadata": {
        "id": "8Cz6dR5Jp0sM"
      }
    },
    {
      "cell_type": "code",
      "source": [
        "x"
      ],
      "metadata": {
        "colab": {
          "base_uri": "https://localhost:8080/",
          "height": 485
        },
        "id": "Qx22Xmg9p8ga",
        "outputId": "0ad38ea8-1c8b-4fcf-e8b0-751178168cd1"
      },
      "execution_count": null,
      "outputs": [
        {
          "output_type": "execute_result",
          "data": {
            "text/plain": [
              "      Freqency(in Hertz)  Angle of attack (in deg)  \\\n",
              "0                    800                       0.0   \n",
              "1                   1000                       0.0   \n",
              "2                   1250                       0.0   \n",
              "3                   1600                       0.0   \n",
              "4                   2000                       0.0   \n",
              "...                  ...                       ...   \n",
              "1498                2500                      15.6   \n",
              "1499                3150                      15.6   \n",
              "1500                4000                      15.6   \n",
              "1501                5000                      15.6   \n",
              "1502                6300                      15.6   \n",
              "\n",
              "      Length of chord (in meters)  Free stream velocity ( in meter/sec)  \\\n",
              "0                          0.3048                                  71.3   \n",
              "1                          0.3048                                  71.3   \n",
              "2                          0.3048                                  71.3   \n",
              "3                          0.3048                                  71.3   \n",
              "4                          0.3048                                  71.3   \n",
              "...                           ...                                   ...   \n",
              "1498                       0.1016                                  39.6   \n",
              "1499                       0.1016                                  39.6   \n",
              "1500                       0.1016                                  39.6   \n",
              "1501                       0.1016                                  39.6   \n",
              "1502                       0.1016                                  39.6   \n",
              "\n",
              "      Suction side displacement thickness (in meters)  \n",
              "0                                            0.002663  \n",
              "1                                            0.002663  \n",
              "2                                            0.002663  \n",
              "3                                            0.002663  \n",
              "4                                            0.002663  \n",
              "...                                               ...  \n",
              "1498                                         0.052849  \n",
              "1499                                         0.052849  \n",
              "1500                                         0.052849  \n",
              "1501                                         0.052849  \n",
              "1502                                         0.052849  \n",
              "\n",
              "[1503 rows x 5 columns]"
            ],
            "text/html": [
              "\n",
              "  <div id=\"df-32434a29-17ca-4d61-b79d-39dc42ebe141\">\n",
              "    <div class=\"colab-df-container\">\n",
              "      <div>\n",
              "<style scoped>\n",
              "    .dataframe tbody tr th:only-of-type {\n",
              "        vertical-align: middle;\n",
              "    }\n",
              "\n",
              "    .dataframe tbody tr th {\n",
              "        vertical-align: top;\n",
              "    }\n",
              "\n",
              "    .dataframe thead th {\n",
              "        text-align: right;\n",
              "    }\n",
              "</style>\n",
              "<table border=\"1\" class=\"dataframe\">\n",
              "  <thead>\n",
              "    <tr style=\"text-align: right;\">\n",
              "      <th></th>\n",
              "      <th>Freqency(in Hertz)</th>\n",
              "      <th>Angle of attack (in deg)</th>\n",
              "      <th>Length of chord (in meters)</th>\n",
              "      <th>Free stream velocity ( in meter/sec)</th>\n",
              "      <th>Suction side displacement thickness (in meters)</th>\n",
              "    </tr>\n",
              "  </thead>\n",
              "  <tbody>\n",
              "    <tr>\n",
              "      <th>0</th>\n",
              "      <td>800</td>\n",
              "      <td>0.0</td>\n",
              "      <td>0.3048</td>\n",
              "      <td>71.3</td>\n",
              "      <td>0.002663</td>\n",
              "    </tr>\n",
              "    <tr>\n",
              "      <th>1</th>\n",
              "      <td>1000</td>\n",
              "      <td>0.0</td>\n",
              "      <td>0.3048</td>\n",
              "      <td>71.3</td>\n",
              "      <td>0.002663</td>\n",
              "    </tr>\n",
              "    <tr>\n",
              "      <th>2</th>\n",
              "      <td>1250</td>\n",
              "      <td>0.0</td>\n",
              "      <td>0.3048</td>\n",
              "      <td>71.3</td>\n",
              "      <td>0.002663</td>\n",
              "    </tr>\n",
              "    <tr>\n",
              "      <th>3</th>\n",
              "      <td>1600</td>\n",
              "      <td>0.0</td>\n",
              "      <td>0.3048</td>\n",
              "      <td>71.3</td>\n",
              "      <td>0.002663</td>\n",
              "    </tr>\n",
              "    <tr>\n",
              "      <th>4</th>\n",
              "      <td>2000</td>\n",
              "      <td>0.0</td>\n",
              "      <td>0.3048</td>\n",
              "      <td>71.3</td>\n",
              "      <td>0.002663</td>\n",
              "    </tr>\n",
              "    <tr>\n",
              "      <th>...</th>\n",
              "      <td>...</td>\n",
              "      <td>...</td>\n",
              "      <td>...</td>\n",
              "      <td>...</td>\n",
              "      <td>...</td>\n",
              "    </tr>\n",
              "    <tr>\n",
              "      <th>1498</th>\n",
              "      <td>2500</td>\n",
              "      <td>15.6</td>\n",
              "      <td>0.1016</td>\n",
              "      <td>39.6</td>\n",
              "      <td>0.052849</td>\n",
              "    </tr>\n",
              "    <tr>\n",
              "      <th>1499</th>\n",
              "      <td>3150</td>\n",
              "      <td>15.6</td>\n",
              "      <td>0.1016</td>\n",
              "      <td>39.6</td>\n",
              "      <td>0.052849</td>\n",
              "    </tr>\n",
              "    <tr>\n",
              "      <th>1500</th>\n",
              "      <td>4000</td>\n",
              "      <td>15.6</td>\n",
              "      <td>0.1016</td>\n",
              "      <td>39.6</td>\n",
              "      <td>0.052849</td>\n",
              "    </tr>\n",
              "    <tr>\n",
              "      <th>1501</th>\n",
              "      <td>5000</td>\n",
              "      <td>15.6</td>\n",
              "      <td>0.1016</td>\n",
              "      <td>39.6</td>\n",
              "      <td>0.052849</td>\n",
              "    </tr>\n",
              "    <tr>\n",
              "      <th>1502</th>\n",
              "      <td>6300</td>\n",
              "      <td>15.6</td>\n",
              "      <td>0.1016</td>\n",
              "      <td>39.6</td>\n",
              "      <td>0.052849</td>\n",
              "    </tr>\n",
              "  </tbody>\n",
              "</table>\n",
              "<p>1503 rows × 5 columns</p>\n",
              "</div>\n",
              "      <button class=\"colab-df-convert\" onclick=\"convertToInteractive('df-32434a29-17ca-4d61-b79d-39dc42ebe141')\"\n",
              "              title=\"Convert this dataframe to an interactive table.\"\n",
              "              style=\"display:none;\">\n",
              "        \n",
              "  <svg xmlns=\"http://www.w3.org/2000/svg\" height=\"24px\"viewBox=\"0 0 24 24\"\n",
              "       width=\"24px\">\n",
              "    <path d=\"M0 0h24v24H0V0z\" fill=\"none\"/>\n",
              "    <path d=\"M18.56 5.44l.94 2.06.94-2.06 2.06-.94-2.06-.94-.94-2.06-.94 2.06-2.06.94zm-11 1L8.5 8.5l.94-2.06 2.06-.94-2.06-.94L8.5 2.5l-.94 2.06-2.06.94zm10 10l.94 2.06.94-2.06 2.06-.94-2.06-.94-.94-2.06-.94 2.06-2.06.94z\"/><path d=\"M17.41 7.96l-1.37-1.37c-.4-.4-.92-.59-1.43-.59-.52 0-1.04.2-1.43.59L10.3 9.45l-7.72 7.72c-.78.78-.78 2.05 0 2.83L4 21.41c.39.39.9.59 1.41.59.51 0 1.02-.2 1.41-.59l7.78-7.78 2.81-2.81c.8-.78.8-2.07 0-2.86zM5.41 20L4 18.59l7.72-7.72 1.47 1.35L5.41 20z\"/>\n",
              "  </svg>\n",
              "      </button>\n",
              "      \n",
              "  <style>\n",
              "    .colab-df-container {\n",
              "      display:flex;\n",
              "      flex-wrap:wrap;\n",
              "      gap: 12px;\n",
              "    }\n",
              "\n",
              "    .colab-df-convert {\n",
              "      background-color: #E8F0FE;\n",
              "      border: none;\n",
              "      border-radius: 50%;\n",
              "      cursor: pointer;\n",
              "      display: none;\n",
              "      fill: #1967D2;\n",
              "      height: 32px;\n",
              "      padding: 0 0 0 0;\n",
              "      width: 32px;\n",
              "    }\n",
              "\n",
              "    .colab-df-convert:hover {\n",
              "      background-color: #E2EBFA;\n",
              "      box-shadow: 0px 1px 2px rgba(60, 64, 67, 0.3), 0px 1px 3px 1px rgba(60, 64, 67, 0.15);\n",
              "      fill: #174EA6;\n",
              "    }\n",
              "\n",
              "    [theme=dark] .colab-df-convert {\n",
              "      background-color: #3B4455;\n",
              "      fill: #D2E3FC;\n",
              "    }\n",
              "\n",
              "    [theme=dark] .colab-df-convert:hover {\n",
              "      background-color: #434B5C;\n",
              "      box-shadow: 0px 1px 3px 1px rgba(0, 0, 0, 0.15);\n",
              "      filter: drop-shadow(0px 1px 2px rgba(0, 0, 0, 0.3));\n",
              "      fill: #FFFFFF;\n",
              "    }\n",
              "  </style>\n",
              "\n",
              "      <script>\n",
              "        const buttonEl =\n",
              "          document.querySelector('#df-32434a29-17ca-4d61-b79d-39dc42ebe141 button.colab-df-convert');\n",
              "        buttonEl.style.display =\n",
              "          google.colab.kernel.accessAllowed ? 'block' : 'none';\n",
              "\n",
              "        async function convertToInteractive(key) {\n",
              "          const element = document.querySelector('#df-32434a29-17ca-4d61-b79d-39dc42ebe141');\n",
              "          const dataTable =\n",
              "            await google.colab.kernel.invokeFunction('convertToInteractive',\n",
              "                                                     [key], {});\n",
              "          if (!dataTable) return;\n",
              "\n",
              "          const docLinkHtml = 'Like what you see? Visit the ' +\n",
              "            '<a target=\"_blank\" href=https://colab.research.google.com/notebooks/data_table.ipynb>data table notebook</a>'\n",
              "            + ' to learn more about interactive tables.';\n",
              "          element.innerHTML = '';\n",
              "          dataTable['output_type'] = 'display_data';\n",
              "          await google.colab.output.renderOutput(dataTable, element);\n",
              "          const docLink = document.createElement('div');\n",
              "          docLink.innerHTML = docLinkHtml;\n",
              "          element.appendChild(docLink);\n",
              "        }\n",
              "      </script>\n",
              "    </div>\n",
              "  </div>\n",
              "  "
            ]
          },
          "metadata": {},
          "execution_count": 4
        }
      ]
    },
    {
      "cell_type": "markdown",
      "source": [
        "display output data"
      ],
      "metadata": {
        "id": "6ByX4SnJruoe"
      }
    },
    {
      "cell_type": "code",
      "source": [
        "y"
      ],
      "metadata": {
        "colab": {
          "base_uri": "https://localhost:8080/"
        },
        "id": "4WOaB_sip9Nb",
        "outputId": "a52cad34-99e3-4ce9-80ce-17e977742f30"
      },
      "execution_count": null,
      "outputs": [
        {
          "output_type": "execute_result",
          "data": {
            "text/plain": [
              "0       126.201\n",
              "1       125.201\n",
              "2       125.951\n",
              "3       127.591\n",
              "4       127.461\n",
              "         ...   \n",
              "1498    110.264\n",
              "1499    109.254\n",
              "1500    106.604\n",
              "1501    106.224\n",
              "1502    104.204\n",
              "Name: Scaled sound pressure level (in dB), Length: 1503, dtype: float64"
            ]
          },
          "metadata": {},
          "execution_count": 5
        }
      ]
    },
    {
      "cell_type": "markdown",
      "source": [
        "splitting the data into training data and testing data by using sklearn library I have taken test set to be 30% of the rows of data x and y"
      ],
      "metadata": {
        "id": "zCZhZpu5scdJ"
      }
    },
    {
      "cell_type": "code",
      "source": [
        "from sklearn.model_selection import train_test_split\n",
        "from sklearn.linear_model import LinearRegression\n",
        "from sklearn import metrics\n",
        "x_train, x_test, y_train, y_test = train_test_split(x, y, test_size=0.3)"
      ],
      "metadata": {
        "id": "rxGpkB9Ip9pE"
      },
      "execution_count": null,
      "outputs": []
    },
    {
      "cell_type": "code",
      "source": [
        "x_test #displaying input test data"
      ],
      "metadata": {
        "colab": {
          "base_uri": "https://localhost:8080/",
          "height": 485
        },
        "id": "u51v7tmj2j5T",
        "outputId": "58badc8a-b33d-4db8-9e0b-37351f829d38"
      },
      "execution_count": null,
      "outputs": [
        {
          "output_type": "execute_result",
          "data": {
            "text/plain": [
              "      Freqency(in Hertz)  Angle of attack (in deg)  \\\n",
              "1356                1250                       6.7   \n",
              "51                   400                       0.0   \n",
              "738                  800                       0.0   \n",
              "408                  315                       7.3   \n",
              "1072                1000                       9.5   \n",
              "...                  ...                       ...   \n",
              "1353                 630                       6.7   \n",
              "330                  315                       4.0   \n",
              "1070                 630                       9.5   \n",
              "1201                 800                      17.4   \n",
              "979                10000                       0.0   \n",
              "\n",
              "      Length of chord (in meters)  Free stream velocity ( in meter/sec)  \\\n",
              "1356                       0.1016                                  55.5   \n",
              "51                         0.3048                                  31.7   \n",
              "738                        0.0508                                  55.5   \n",
              "408                        0.2286                                  55.5   \n",
              "1072                       0.0254                                  55.5   \n",
              "...                           ...                                   ...   \n",
              "1353                       0.1016                                  55.5   \n",
              "330                        0.2286                                  39.6   \n",
              "1070                       0.0254                                  55.5   \n",
              "1201                       0.0254                                  31.7   \n",
              "979                        0.0254                                  55.5   \n",
              "\n",
              "      Suction side displacement thickness (in meters)  \n",
              "1356                                         0.005214  \n",
              "51                                           0.003313  \n",
              "738                                          0.000762  \n",
              "408                                          0.011171  \n",
              "1072                                         0.004328  \n",
              "...                                               ...  \n",
              "1353                                         0.005214  \n",
              "330                                          0.004738  \n",
              "1070                                         0.004328  \n",
              "1201                                         0.017663  \n",
              "979                                          0.000412  \n",
              "\n",
              "[451 rows x 5 columns]"
            ],
            "text/html": [
              "\n",
              "  <div id=\"df-33f9298a-b161-4854-a7e5-d984049975e3\">\n",
              "    <div class=\"colab-df-container\">\n",
              "      <div>\n",
              "<style scoped>\n",
              "    .dataframe tbody tr th:only-of-type {\n",
              "        vertical-align: middle;\n",
              "    }\n",
              "\n",
              "    .dataframe tbody tr th {\n",
              "        vertical-align: top;\n",
              "    }\n",
              "\n",
              "    .dataframe thead th {\n",
              "        text-align: right;\n",
              "    }\n",
              "</style>\n",
              "<table border=\"1\" class=\"dataframe\">\n",
              "  <thead>\n",
              "    <tr style=\"text-align: right;\">\n",
              "      <th></th>\n",
              "      <th>Freqency(in Hertz)</th>\n",
              "      <th>Angle of attack (in deg)</th>\n",
              "      <th>Length of chord (in meters)</th>\n",
              "      <th>Free stream velocity ( in meter/sec)</th>\n",
              "      <th>Suction side displacement thickness (in meters)</th>\n",
              "    </tr>\n",
              "  </thead>\n",
              "  <tbody>\n",
              "    <tr>\n",
              "      <th>1356</th>\n",
              "      <td>1250</td>\n",
              "      <td>6.7</td>\n",
              "      <td>0.1016</td>\n",
              "      <td>55.5</td>\n",
              "      <td>0.005214</td>\n",
              "    </tr>\n",
              "    <tr>\n",
              "      <th>51</th>\n",
              "      <td>400</td>\n",
              "      <td>0.0</td>\n",
              "      <td>0.3048</td>\n",
              "      <td>31.7</td>\n",
              "      <td>0.003313</td>\n",
              "    </tr>\n",
              "    <tr>\n",
              "      <th>738</th>\n",
              "      <td>800</td>\n",
              "      <td>0.0</td>\n",
              "      <td>0.0508</td>\n",
              "      <td>55.5</td>\n",
              "      <td>0.000762</td>\n",
              "    </tr>\n",
              "    <tr>\n",
              "      <th>408</th>\n",
              "      <td>315</td>\n",
              "      <td>7.3</td>\n",
              "      <td>0.2286</td>\n",
              "      <td>55.5</td>\n",
              "      <td>0.011171</td>\n",
              "    </tr>\n",
              "    <tr>\n",
              "      <th>1072</th>\n",
              "      <td>1000</td>\n",
              "      <td>9.5</td>\n",
              "      <td>0.0254</td>\n",
              "      <td>55.5</td>\n",
              "      <td>0.004328</td>\n",
              "    </tr>\n",
              "    <tr>\n",
              "      <th>...</th>\n",
              "      <td>...</td>\n",
              "      <td>...</td>\n",
              "      <td>...</td>\n",
              "      <td>...</td>\n",
              "      <td>...</td>\n",
              "    </tr>\n",
              "    <tr>\n",
              "      <th>1353</th>\n",
              "      <td>630</td>\n",
              "      <td>6.7</td>\n",
              "      <td>0.1016</td>\n",
              "      <td>55.5</td>\n",
              "      <td>0.005214</td>\n",
              "    </tr>\n",
              "    <tr>\n",
              "      <th>330</th>\n",
              "      <td>315</td>\n",
              "      <td>4.0</td>\n",
              "      <td>0.2286</td>\n",
              "      <td>39.6</td>\n",
              "      <td>0.004738</td>\n",
              "    </tr>\n",
              "    <tr>\n",
              "      <th>1070</th>\n",
              "      <td>630</td>\n",
              "      <td>9.5</td>\n",
              "      <td>0.0254</td>\n",
              "      <td>55.5</td>\n",
              "      <td>0.004328</td>\n",
              "    </tr>\n",
              "    <tr>\n",
              "      <th>1201</th>\n",
              "      <td>800</td>\n",
              "      <td>17.4</td>\n",
              "      <td>0.0254</td>\n",
              "      <td>31.7</td>\n",
              "      <td>0.017663</td>\n",
              "    </tr>\n",
              "    <tr>\n",
              "      <th>979</th>\n",
              "      <td>10000</td>\n",
              "      <td>0.0</td>\n",
              "      <td>0.0254</td>\n",
              "      <td>55.5</td>\n",
              "      <td>0.000412</td>\n",
              "    </tr>\n",
              "  </tbody>\n",
              "</table>\n",
              "<p>451 rows × 5 columns</p>\n",
              "</div>\n",
              "      <button class=\"colab-df-convert\" onclick=\"convertToInteractive('df-33f9298a-b161-4854-a7e5-d984049975e3')\"\n",
              "              title=\"Convert this dataframe to an interactive table.\"\n",
              "              style=\"display:none;\">\n",
              "        \n",
              "  <svg xmlns=\"http://www.w3.org/2000/svg\" height=\"24px\"viewBox=\"0 0 24 24\"\n",
              "       width=\"24px\">\n",
              "    <path d=\"M0 0h24v24H0V0z\" fill=\"none\"/>\n",
              "    <path d=\"M18.56 5.44l.94 2.06.94-2.06 2.06-.94-2.06-.94-.94-2.06-.94 2.06-2.06.94zm-11 1L8.5 8.5l.94-2.06 2.06-.94-2.06-.94L8.5 2.5l-.94 2.06-2.06.94zm10 10l.94 2.06.94-2.06 2.06-.94-2.06-.94-.94-2.06-.94 2.06-2.06.94z\"/><path d=\"M17.41 7.96l-1.37-1.37c-.4-.4-.92-.59-1.43-.59-.52 0-1.04.2-1.43.59L10.3 9.45l-7.72 7.72c-.78.78-.78 2.05 0 2.83L4 21.41c.39.39.9.59 1.41.59.51 0 1.02-.2 1.41-.59l7.78-7.78 2.81-2.81c.8-.78.8-2.07 0-2.86zM5.41 20L4 18.59l7.72-7.72 1.47 1.35L5.41 20z\"/>\n",
              "  </svg>\n",
              "      </button>\n",
              "      \n",
              "  <style>\n",
              "    .colab-df-container {\n",
              "      display:flex;\n",
              "      flex-wrap:wrap;\n",
              "      gap: 12px;\n",
              "    }\n",
              "\n",
              "    .colab-df-convert {\n",
              "      background-color: #E8F0FE;\n",
              "      border: none;\n",
              "      border-radius: 50%;\n",
              "      cursor: pointer;\n",
              "      display: none;\n",
              "      fill: #1967D2;\n",
              "      height: 32px;\n",
              "      padding: 0 0 0 0;\n",
              "      width: 32px;\n",
              "    }\n",
              "\n",
              "    .colab-df-convert:hover {\n",
              "      background-color: #E2EBFA;\n",
              "      box-shadow: 0px 1px 2px rgba(60, 64, 67, 0.3), 0px 1px 3px 1px rgba(60, 64, 67, 0.15);\n",
              "      fill: #174EA6;\n",
              "    }\n",
              "\n",
              "    [theme=dark] .colab-df-convert {\n",
              "      background-color: #3B4455;\n",
              "      fill: #D2E3FC;\n",
              "    }\n",
              "\n",
              "    [theme=dark] .colab-df-convert:hover {\n",
              "      background-color: #434B5C;\n",
              "      box-shadow: 0px 1px 3px 1px rgba(0, 0, 0, 0.15);\n",
              "      filter: drop-shadow(0px 1px 2px rgba(0, 0, 0, 0.3));\n",
              "      fill: #FFFFFF;\n",
              "    }\n",
              "  </style>\n",
              "\n",
              "      <script>\n",
              "        const buttonEl =\n",
              "          document.querySelector('#df-33f9298a-b161-4854-a7e5-d984049975e3 button.colab-df-convert');\n",
              "        buttonEl.style.display =\n",
              "          google.colab.kernel.accessAllowed ? 'block' : 'none';\n",
              "\n",
              "        async function convertToInteractive(key) {\n",
              "          const element = document.querySelector('#df-33f9298a-b161-4854-a7e5-d984049975e3');\n",
              "          const dataTable =\n",
              "            await google.colab.kernel.invokeFunction('convertToInteractive',\n",
              "                                                     [key], {});\n",
              "          if (!dataTable) return;\n",
              "\n",
              "          const docLinkHtml = 'Like what you see? Visit the ' +\n",
              "            '<a target=\"_blank\" href=https://colab.research.google.com/notebooks/data_table.ipynb>data table notebook</a>'\n",
              "            + ' to learn more about interactive tables.';\n",
              "          element.innerHTML = '';\n",
              "          dataTable['output_type'] = 'display_data';\n",
              "          await google.colab.output.renderOutput(dataTable, element);\n",
              "          const docLink = document.createElement('div');\n",
              "          docLink.innerHTML = docLinkHtml;\n",
              "          element.appendChild(docLink);\n",
              "        }\n",
              "      </script>\n",
              "    </div>\n",
              "  </div>\n",
              "  "
            ]
          },
          "metadata": {},
          "execution_count": 7
        }
      ]
    },
    {
      "cell_type": "code",
      "source": [
        "y_test #displaying output data"
      ],
      "metadata": {
        "colab": {
          "base_uri": "https://localhost:8080/"
        },
        "id": "o4g1omIUJnZB",
        "outputId": "c1968aa7-5e38-4fb9-e1db-ee9a5cb18a03"
      },
      "execution_count": null,
      "outputs": [
        {
          "output_type": "execute_result",
          "data": {
            "text/plain": [
              "1356    136.883\n",
              "51      125.045\n",
              "738     124.336\n",
              "408     136.284\n",
              "1072    130.332\n",
              "         ...   \n",
              "1353    133.023\n",
              "330     122.229\n",
              "1070    125.452\n",
              "1201    139.226\n",
              "979     134.563\n",
              "Name: Scaled sound pressure level (in dB), Length: 451, dtype: float64"
            ]
          },
          "metadata": {},
          "execution_count": 8
        }
      ]
    },
    {
      "cell_type": "markdown",
      "source": [
        "Making the linear regression model"
      ],
      "metadata": {
        "id": "OIgCuTiGuvC6"
      }
    },
    {
      "cell_type": "code",
      "source": [
        "linear_regression_model= LinearRegression()\n",
        "linear_regression_model = linear_regression_model.fit(x_train,y_train)#this command fits the linear model for the data we used to train the model"
      ],
      "metadata": {
        "id": "ZppW15YgsgrE"
      },
      "execution_count": null,
      "outputs": []
    },
    {
      "cell_type": "code",
      "source": [
        "y_predict = linear_regression_model.predict(x_test) # finding the predicted values from the model by giving test inputs"
      ],
      "metadata": {
        "id": "KvCe2AkB6ZUJ"
      },
      "execution_count": null,
      "outputs": []
    },
    {
      "cell_type": "markdown",
      "source": [
        "plot of actual and predicted outputs after applying test data to the model"
      ],
      "metadata": {
        "id": "IoUjQHTiw1B_"
      }
    },
    {
      "cell_type": "code",
      "source": [
        "plt.scatter(y_test,y_predict,c=\"g\")\n",
        "plt.plot(y_test,y_test,c=\"blue\")\n",
        "plt.show()"
      ],
      "metadata": {
        "colab": {
          "base_uri": "https://localhost:8080/",
          "height": 265
        },
        "id": "T2XI5GuRxR04",
        "outputId": "07f7f140-a95e-4728-8030-63251d0e10f4"
      },
      "execution_count": null,
      "outputs": [
        {
          "output_type": "display_data",
          "data": {
            "text/plain": [
              "<Figure size 432x288 with 1 Axes>"
            ],
            "image/png": "[encoded data removed]"
          },
          "metadata": {
            "needs_background": "light"
          }
        }
      ]
    },
    {
      "cell_type": "markdown",
      "source": [
        "**Calculating RMSE, MSE, MAE**"
      ],
      "metadata": {
        "id": "2jhU0m8ky6Et"
      }
    },
    {
      "cell_type": "markdown",
      "source": [
        "### **RMSE** : Heuristically RMSE can be thought of normolaised distance between the actual vector and predicted vector.\n",
        "\n",
        "### **MSE** : The average square of the discrepancy between the estimated and actual values.\n",
        "\n",
        "### **MAE** : The magnitude of the discrepancy between an observation's true value and its prediction is referred to as the absolute error."
      ],
      "metadata": {
        "id": "AbM5W7KAfwA6"
      }
    },
    {
      "cell_type": "code",
      "source": [
        "from sklearn.metrics import mean_squared_error,r2_score,mean_absolute_error\n",
        "RMSE = np.sqrt(mean_squared_error(y_test,y_predict)) # Using the inbuilt functions to calucate the errors from sklearn library\n",
        "MSE = mean_squared_error(y_test,y_predict)\n",
        "R2_SCORE = r2_score(y_test,y_predict)\n",
        "MAE =  mean_absolute_error(y_test,y_predict)\n",
        "\n",
        "print(\"metrics calculated on the data are:\\n\")\n",
        "print(\"RMSE(Root Mean sqaure Error) is :\",RMSE)\n",
        "print(\"MSE(Root Mean sqaure Error) is :\",MSE)\n",
        "print(\"R2_SCORE is :\",MAE)\n",
        "print(\"MSE(Mean Absolute Error) is :\",MAE)"
      ],
      "metadata": {
        "colab": {
          "base_uri": "https://localhost:8080/"
        },
        "id": "gTFTkAdyy2q8",
        "outputId": "d4632dcf-2614-4a2d-82e3-2236f7e3c091"
      },
      "execution_count": null,
      "outputs": [
        {
          "output_type": "stream",
          "name": "stdout",
          "text": [
            "metrics calculated on the data are:\n",
            "\n",
            "RMSE(Root Mean sqaure Error) is : 4.852882148013258\n",
            "MSE(Root Mean sqaure Error) is : 23.550465142505768\n",
            "R2_SCORE is : 3.7680313995213948\n",
            "MSE(Mean Absolute Error) is : 3.7680313995213948\n"
          ]
        }
      ]
    },
    {
      "cell_type": "markdown",
      "source": [
        "Writing a function to find mean square error from scratch and checkig the correctness using inbuilt function\n"
      ],
      "metadata": {
        "id": "eIg-hUIhDOuE"
      }
    },
    {
      "cell_type": "code",
      "source": [
        "import statistics\n",
        "def root_mean_square_loss(lst1,lst2): # function to find RMSE\n",
        "# lst1= y_test and lst2= y_predicted values\n",
        "  diff = lst1-lst2\n",
        "  sqr = abs(diff)**2\n",
        "  mse = statistics.mean(sqr) # first found mean square error \n",
        "  rmse = np.sqrt(mse) # then taken square root of it\n",
        "  return rmse\n",
        "mse_from_scratch = root_mean_square_loss(y_test,y_predict)\n",
        "print(\"root_mean_square_loss calculated using function from scractch\",mse_from_scratch)\n",
        "rmse_using_inbuilt = np.sqrt(mean_squared_error(y_test,y_predict)) # checking that with inbuilt function\n",
        "print(\"root_mean_square_loss calculated using sklearn library function\",rmse_using_inbuilt)"
      ],
      "metadata": {
        "colab": {
          "base_uri": "https://localhost:8080/"
        },
        "id": "T1IB0_uTAmsC",
        "outputId": "a20db423-bb20-4574-dcd1-d9f5e4144815"
      },
      "execution_count": null,
      "outputs": [
        {
          "output_type": "stream",
          "name": "stdout",
          "text": [
            "root_mean_square_loss calculated using function from scractch 4.852882148013258\n",
            "root_mean_square_loss calculated using sklearn library function 4.852882148013258\n"
          ]
        }
      ]
    },
    {
      "cell_type": "markdown",
      "source": [
        "**Calculating Accuracy**"
      ],
      "metadata": {
        "id": "WfCf4mzGAnrD"
      }
    },
    {
      "cell_type": "code",
      "source": [
        "#y_predict= linear_regression_model.predict(x_test)\n",
        "Accuracy = 100- metrics.mean_absolute_percentage_error(y_test,y_predict)\n",
        "print(\"Accuracy of data which is predicted using linear regression model is\",Accuracy)\n",
        "\n",
        "# from sklearn.metrics import accuracy_score\n",
        "# score = accuracy_score(y_test,y_predict)\n",
        "# score"
      ],
      "metadata": {
        "colab": {
          "base_uri": "https://localhost:8080/"
        },
        "id": "A-s2C3ZZy3ed",
        "outputId": "e7bc06c1-e2c3-43bd-8e43-0ab8512a3b31"
      },
      "execution_count": null,
      "outputs": [
        {
          "output_type": "stream",
          "name": "stdout",
          "text": [
            "Accuracy of data which is predicted using linear regression model is 99.96983042944977\n"
          ]
        }
      ]
    },
    {
      "cell_type": "markdown",
      "source": [
        "**R2 score for training and testing data**\n",
        "\n",
        "R2 score is used to find the performance of the model if it's value is 1 then the model is perfect if the value is zero that means the performance of model is bad"
      ],
      "metadata": {
        "id": "mz0o0xbmy38x"
      }
    },
    {
      "cell_type": "code",
      "source": [
        "#R2 score of training data\n",
        "y_predict_train = linear_regression_model.predict(x_train)\n",
        "r2_train= r2_score(y_train,y_predict_train) # the obtained r2 score of \n",
        "print(\"R2 score of training dataset:\",r2_train)"
      ],
      "metadata": {
        "colab": {
          "base_uri": "https://localhost:8080/"
        },
        "id": "dMKUJjWjy4I5",
        "outputId": "9d462bfc-8141-4e63-8204-070cd1de91cb"
      },
      "execution_count": null,
      "outputs": [
        {
          "output_type": "stream",
          "name": "stdout",
          "text": [
            "R2 score of training dataset: 0.5094132333173876\n"
          ]
        }
      ]
    },
    {
      "cell_type": "code",
      "source": [
        "y_predict_train = linear_regression_model.predict(x_test)\n",
        "r2_test= r2_score(y_test,y_predict)\n",
        "print(\"R2 score of test dataset is \",r2_test) #the obtained r2 score of test data is 0.52 "
      ],
      "metadata": {
        "colab": {
          "base_uri": "https://localhost:8080/"
        },
        "id": "8VDjdhNEF4HL",
        "outputId": "a5cfe577-d058-45b1-c5a7-104817055489"
      },
      "execution_count": null,
      "outputs": [
        {
          "output_type": "stream",
          "name": "stdout",
          "text": [
            "R2 score of test dataset is  0.5204536183918511\n"
          ]
        }
      ]
    },
    {
      "cell_type": "code",
      "source": [],
      "metadata": {
        "id": "Llk9OKlyFrOa"
      },
      "execution_count": null,
      "outputs": []
    }
  ]
}