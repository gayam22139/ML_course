{
  "cells": [
    {
      "cell_type": "markdown",
      "metadata": {
        "id": "nVU-ECkyzcvn"
      },
      "source": [
        "# Loading the Dataset"
      ]
    },
    {
      "cell_type": "code",
      "execution_count": null,
      "metadata": {
        "id": "4GYaWqJ6zmb0"
      },
      "outputs": [],
      "source": [
        "import matplotlib.pyplot as plt\n",
        "import seaborn as sns\n",
        "import pandas as pd\n",
        "import operator"
      ]
    },
    {
      "cell_type": "code",
      "execution_count": null,
      "metadata": {
        "id": "bmdQKdfGZ_OG"
      },
      "outputs": [],
      "source": [
        "song_metadata = pd.read_csv('ml_project_dataset_1/song_data.csv')"
      ]
    },
    {
      "cell_type": "code",
      "execution_count": null,
      "metadata": {
        "id": "cgaXyjNnZ_OG",
        "outputId": "36d8cf28-e4d8-49ec-f84e-d9a1d9e80c66"
      },
      "outputs": [
        {
          "data": {
            "text/html": [
              "<div>\n",
              "<style scoped>\n",
              "    .dataframe tbody tr th:only-of-type {\n",
              "        vertical-align: middle;\n",
              "    }\n",
              "\n",
              "    .dataframe tbody tr th {\n",
              "        vertical-align: top;\n",
              "    }\n",
              "\n",
              "    .dataframe thead th {\n",
              "        text-align: right;\n",
              "    }\n",
              "</style>\n",
              "<table border=\"1\" class=\"dataframe\">\n",
              "  <thead>\n",
              "    <tr style=\"text-align: right;\">\n",
              "      <th></th>\n",
              "      <th>song_id</th>\n",
              "      <th>title</th>\n",
              "      <th>release</th>\n",
              "      <th>artist_name</th>\n",
              "      <th>year</th>\n",
              "    </tr>\n",
              "  </thead>\n",
              "  <tbody>\n",
              "    <tr>\n",
              "      <th>0</th>\n",
              "      <td>SOQMMHC12AB0180CB8</td>\n",
              "      <td>Silent Night</td>\n",
              "      <td>Monster Ballads X-Mas</td>\n",
              "      <td>Faster Pussy cat</td>\n",
              "      <td>2003</td>\n",
              "    </tr>\n",
              "    <tr>\n",
              "      <th>1</th>\n",
              "      <td>SOVFVAK12A8C1350D9</td>\n",
              "      <td>Tanssi vaan</td>\n",
              "      <td>Karkuteillä</td>\n",
              "      <td>Karkkiautomaatti</td>\n",
              "      <td>1995</td>\n",
              "    </tr>\n",
              "    <tr>\n",
              "      <th>2</th>\n",
              "      <td>SOGTUKN12AB017F4F1</td>\n",
              "      <td>No One Could Ever</td>\n",
              "      <td>Butter</td>\n",
              "      <td>Hudson Mohawke</td>\n",
              "      <td>2006</td>\n",
              "    </tr>\n",
              "    <tr>\n",
              "      <th>3</th>\n",
              "      <td>SOBNYVR12A8C13558C</td>\n",
              "      <td>Si Vos Querés</td>\n",
              "      <td>De Culo</td>\n",
              "      <td>Yerba Brava</td>\n",
              "      <td>2003</td>\n",
              "    </tr>\n",
              "    <tr>\n",
              "      <th>4</th>\n",
              "      <td>SOHSBXH12A8C13B0DF</td>\n",
              "      <td>Tangle Of Aspens</td>\n",
              "      <td>Rene Ablaze Presents Winter Sessions</td>\n",
              "      <td>Der Mystic</td>\n",
              "      <td>0</td>\n",
              "    </tr>\n",
              "  </tbody>\n",
              "</table>\n",
              "</div>"
            ],
            "text/plain": [
              "              song_id              title  \\\n",
              "0  SOQMMHC12AB0180CB8       Silent Night   \n",
              "1  SOVFVAK12A8C1350D9        Tanssi vaan   \n",
              "2  SOGTUKN12AB017F4F1  No One Could Ever   \n",
              "3  SOBNYVR12A8C13558C      Si Vos Querés   \n",
              "4  SOHSBXH12A8C13B0DF   Tangle Of Aspens   \n",
              "\n",
              "                                release       artist_name  year  \n",
              "0                 Monster Ballads X-Mas  Faster Pussy cat  2003  \n",
              "1                           Karkuteillä  Karkkiautomaatti  1995  \n",
              "2                                Butter    Hudson Mohawke  2006  \n",
              "3                               De Culo       Yerba Brava  2003  \n",
              "4  Rene Ablaze Presents Winter Sessions        Der Mystic     0  "
            ]
          },
          "execution_count": 82,
          "metadata": {},
          "output_type": "execute_result"
        }
      ],
      "source": [
        "song_metadata.head()"
      ]
    },
    {
      "cell_type": "code",
      "execution_count": null,
      "metadata": {
        "id": "7QsGCawxZ_OH",
        "outputId": "cbb78e51-63b6-4541-93a3-2c5377cc532c"
      },
      "outputs": [
        {
          "data": {
            "text/plain": [
              "song_id        999056\n",
              "title          702428\n",
              "release        149288\n",
              "artist_name     72665\n",
              "year               90\n",
              "dtype: int64"
            ]
          },
          "execution_count": 83,
          "metadata": {},
          "output_type": "execute_result"
        }
      ],
      "source": [
        "song_metadata.nunique()"
      ]
    },
    {
      "cell_type": "code",
      "execution_count": null,
      "metadata": {
        "id": "naJHDEtHZ_OI",
        "outputId": "bfa41475-39cb-4431-fd6d-f6e0c1992fb7"
      },
      "outputs": [
        {
          "name": "stdout",
          "output_type": "stream",
          "text": [
            "<class 'pandas.core.frame.DataFrame'>\n",
            "RangeIndex: 1000000 entries, 0 to 999999\n",
            "Data columns (total 5 columns):\n",
            " #   Column       Non-Null Count    Dtype \n",
            "---  ------       --------------    ----- \n",
            " 0   song_id      1000000 non-null  object\n",
            " 1   title        999985 non-null   object\n",
            " 2   release      999995 non-null   object\n",
            " 3   artist_name  1000000 non-null  object\n",
            " 4   year         1000000 non-null  int64 \n",
            "dtypes: int64(1), object(4)\n",
            "memory usage: 38.1+ MB\n"
          ]
        }
      ],
      "source": [
        "song_metadata.info()"
      ]
    },
    {
      "cell_type": "code",
      "execution_count": null,
      "metadata": {
        "id": "yTKn3uhJZ_OI"
      },
      "outputs": [],
      "source": [
        "song_metadata.dropna(inplace=True)"
      ]
    },
    {
      "cell_type": "code",
      "source": [],
      "metadata": {
        "id": "FfCPzhOVT83m"
      },
      "execution_count": null,
      "outputs": []
    },
    {
      "cell_type": "code",
      "source": [],
      "metadata": {
        "id": "uJ7r4p58T9Cn"
      },
      "execution_count": null,
      "outputs": []
    },
    {
      "cell_type": "code",
      "source": [],
      "metadata": {
        "id": "WL2hiYbST9Ut"
      },
      "execution_count": null,
      "outputs": []
    },
    {
      "cell_type": "code",
      "execution_count": null,
      "metadata": {
        "id": "UeHWa4_WZ_OK"
      },
      "outputs": [],
      "source": [
        "user_song_info = pd.read_csv('ml_project_dataset_1/10000.txt',sep='\\t',header=None)\n",
        "user_song_info.columns = ['user_id', 'song_id', 'listen_count']"
      ]
    },
    {
      "cell_type": "code",
      "execution_count": null,
      "metadata": {
        "id": "p0le_FPfZ_OK"
      },
      "outputs": [],
      "source": [
        "user_song_info.dropna(inplace=True)"
      ]
    },
    {
      "cell_type": "code",
      "execution_count": null,
      "metadata": {
        "id": "9eBB_6KkZ_OK",
        "outputId": "2ee0f0c5-49fb-4830-84f9-9850c002e191"
      },
      "outputs": [
        {
          "data": {
            "text/html": [
              "<div>\n",
              "<style scoped>\n",
              "    .dataframe tbody tr th:only-of-type {\n",
              "        vertical-align: middle;\n",
              "    }\n",
              "\n",
              "    .dataframe tbody tr th {\n",
              "        vertical-align: top;\n",
              "    }\n",
              "\n",
              "    .dataframe thead th {\n",
              "        text-align: right;\n",
              "    }\n",
              "</style>\n",
              "<table border=\"1\" class=\"dataframe\">\n",
              "  <thead>\n",
              "    <tr style=\"text-align: right;\">\n",
              "      <th></th>\n",
              "      <th>user_id</th>\n",
              "      <th>song_id</th>\n",
              "      <th>listen_count</th>\n",
              "    </tr>\n",
              "  </thead>\n",
              "  <tbody>\n",
              "    <tr>\n",
              "      <th>0</th>\n",
              "      <td>b80344d063b5ccb3212f76538f3d9e43d87dca9e</td>\n",
              "      <td>SOAKIMP12A8C130995</td>\n",
              "      <td>1</td>\n",
              "    </tr>\n",
              "    <tr>\n",
              "      <th>1</th>\n",
              "      <td>b80344d063b5ccb3212f76538f3d9e43d87dca9e</td>\n",
              "      <td>SOBBMDR12A8C13253B</td>\n",
              "      <td>2</td>\n",
              "    </tr>\n",
              "    <tr>\n",
              "      <th>2</th>\n",
              "      <td>b80344d063b5ccb3212f76538f3d9e43d87dca9e</td>\n",
              "      <td>SOBXHDL12A81C204C0</td>\n",
              "      <td>1</td>\n",
              "    </tr>\n",
              "    <tr>\n",
              "      <th>3</th>\n",
              "      <td>b80344d063b5ccb3212f76538f3d9e43d87dca9e</td>\n",
              "      <td>SOBYHAJ12A6701BF1D</td>\n",
              "      <td>1</td>\n",
              "    </tr>\n",
              "    <tr>\n",
              "      <th>4</th>\n",
              "      <td>b80344d063b5ccb3212f76538f3d9e43d87dca9e</td>\n",
              "      <td>SODACBL12A8C13C273</td>\n",
              "      <td>1</td>\n",
              "    </tr>\n",
              "  </tbody>\n",
              "</table>\n",
              "</div>"
            ],
            "text/plain": [
              "                                    user_id             song_id  listen_count\n",
              "0  b80344d063b5ccb3212f76538f3d9e43d87dca9e  SOAKIMP12A8C130995             1\n",
              "1  b80344d063b5ccb3212f76538f3d9e43d87dca9e  SOBBMDR12A8C13253B             2\n",
              "2  b80344d063b5ccb3212f76538f3d9e43d87dca9e  SOBXHDL12A81C204C0             1\n",
              "3  b80344d063b5ccb3212f76538f3d9e43d87dca9e  SOBYHAJ12A6701BF1D             1\n",
              "4  b80344d063b5ccb3212f76538f3d9e43d87dca9e  SODACBL12A8C13C273             1"
            ]
          },
          "execution_count": 88,
          "metadata": {},
          "output_type": "execute_result"
        }
      ],
      "source": [
        "user_song_info.head()"
      ]
    },
    {
      "cell_type": "code",
      "execution_count": null,
      "metadata": {
        "id": "BwCV0yMuZ_OL",
        "outputId": "b089b72f-5348-4aad-b0ca-0ed224018cc5"
      },
      "outputs": [
        {
          "data": {
            "text/html": [
              "<div>\n",
              "<style scoped>\n",
              "    .dataframe tbody tr th:only-of-type {\n",
              "        vertical-align: middle;\n",
              "    }\n",
              "\n",
              "    .dataframe tbody tr th {\n",
              "        vertical-align: top;\n",
              "    }\n",
              "\n",
              "    .dataframe thead th {\n",
              "        text-align: right;\n",
              "    }\n",
              "</style>\n",
              "<table border=\"1\" class=\"dataframe\">\n",
              "  <thead>\n",
              "    <tr style=\"text-align: right;\">\n",
              "      <th></th>\n",
              "      <th>Unique count</th>\n",
              "    </tr>\n",
              "    <tr>\n",
              "      <th>field</th>\n",
              "      <th></th>\n",
              "    </tr>\n",
              "  </thead>\n",
              "  <tbody>\n",
              "    <tr>\n",
              "      <th>user_id</th>\n",
              "      <td>76353</td>\n",
              "    </tr>\n",
              "    <tr>\n",
              "      <th>song_id</th>\n",
              "      <td>10000</td>\n",
              "    </tr>\n",
              "    <tr>\n",
              "      <th>listen_count</th>\n",
              "      <td>295</td>\n",
              "    </tr>\n",
              "  </tbody>\n",
              "</table>\n",
              "</div>"
            ],
            "text/plain": [
              "              Unique count\n",
              "field                     \n",
              "user_id              76353\n",
              "song_id              10000\n",
              "listen_count           295"
            ]
          },
          "execution_count": 89,
          "metadata": {},
          "output_type": "execute_result"
        }
      ],
      "source": [
        "## Unique count of each column\n",
        "pd.DataFrame(user_song_info.nunique()).rename(columns={0:'Unique count'}).rename_axis(index='field')"
      ]
    },
    {
      "cell_type": "code",
      "execution_count": null,
      "metadata": {
        "id": "p1Co9nCnZ_OL",
        "outputId": "7587effe-bc69-4942-861b-4d65f57ec6a0"
      },
      "outputs": [
        {
          "data": {
            "text/plain": [
              "(2000000, 3)"
            ]
          },
          "execution_count": 90,
          "metadata": {},
          "output_type": "execute_result"
        }
      ],
      "source": [
        "user_song_info.shape"
      ]
    },
    {
      "cell_type": "code",
      "execution_count": null,
      "metadata": {
        "id": "ZUQg_j0aZ_OM"
      },
      "outputs": [],
      "source": []
    },
    {
      "cell_type": "code",
      "execution_count": null,
      "metadata": {
        "id": "oOZvXdRoZ_OM"
      },
      "outputs": [],
      "source": []
    },
    {
      "cell_type": "code",
      "execution_count": null,
      "metadata": {
        "id": "-SavNWk6Z_OM",
        "outputId": "06ddd892-45c1-4e24-f452-ffa616425d5a"
      },
      "outputs": [
        {
          "name": "stdout",
          "output_type": "stream",
          "text": [
            "76353\n"
          ]
        }
      ],
      "source": [
        "total_users = user_song_info['user_id'].nunique()\n",
        "print(total_users)"
      ]
    },
    {
      "cell_type": "code",
      "execution_count": null,
      "metadata": {
        "id": "a-yf-wNCZ_OM",
        "outputId": "e9c67cb9-3a72-41a4-d836-a5140599dc03"
      },
      "outputs": [
        {
          "name": "stdout",
          "output_type": "stream",
          "text": [
            "10000\n"
          ]
        }
      ],
      "source": [
        "total_songs = user_song_info['song_id'].nunique()\n",
        "print(total_songs)"
      ]
    },
    {
      "cell_type": "code",
      "execution_count": null,
      "metadata": {
        "id": "PjeZKbX5Z_OM"
      },
      "outputs": [],
      "source": [
        "#Questions to be answered\n",
        "\n",
        "#User based analysis\n",
        "\n",
        "#What is the average number of songs a user listens?\n",
        "#What is the average number of times a user listens to a song?\n",
        "#What is the maximum number of times a user listened to a song?\n",
        "\n",
        "#song based analysis\n",
        "\n",
        "#What is the maximum number of songs listened by a single user?\n",
        "#What is the number of times a song was listened to -> {total_number_of_plays}\n",
        "#What is the maximum number of times a song was listened to(by a single user)?(Addictive songs)\n",
        "#What is the most addictive song (song_score)?\n",
        "\n",
        "#Year-wise user-song subscription(all users)\n",
        "#Artist popularity(Subscribed users count)\n",
        "#user-wise subscription to songs of an year\n",
        "#Presence of an artist in various years\n",
        "#Yearwise releases of a Release(company)\n",
        "#Artist-Yearwise releases"
      ]
    },
    {
      "cell_type": "markdown",
      "metadata": {
        "id": "Ey3GT7J0Z_ON"
      },
      "source": [
        "### User based analysis"
      ]
    },
    {
      "cell_type": "code",
      "execution_count": null,
      "metadata": {
        "id": "piDp0EJAZ_ON"
      },
      "outputs": [],
      "source": [
        "user_group = user_song_info.groupby('user_id')"
      ]
    },
    {
      "cell_type": "code",
      "execution_count": null,
      "metadata": {
        "id": "_eNDYQN0Z_ON"
      },
      "outputs": [],
      "source": [
        "#Columns are - user_id,song_id,listen_count"
      ]
    },
    {
      "cell_type": "code",
      "execution_count": null,
      "metadata": {
        "id": "114_iZsMZ_ON"
      },
      "outputs": [],
      "source": [
        "# user_songs_mapping = {'user_id':[],'songs_listened':[],'average_listen_count':[],'songs':[]}\n",
        "# songs = []\n",
        "\n",
        "user_songs_mapping = {'user_id':[],'songs_listened':[],'average_listen_count':[],'songs':[]}\n",
        "songs = []"
      ]
    },
    {
      "cell_type": "code",
      "execution_count": null,
      "metadata": {
        "id": "ZFaEhx4-Z_OO"
      },
      "outputs": [],
      "source": [
        "for user,user_df in user_group:\n",
        "\n",
        "    user_songs_mapping['user_id'].append(user)\n",
        "    user_songs_mapping['songs_listened'].append(user_df['song_id'].count())\n",
        "\n",
        "    user_songs_mapping['average_listen_count'].append(user_df['listen_count'].sum()/user_df['song_id'].count())\n",
        "\n",
        "    user_songs_mapping['songs'].append(dict(zip(user_df['song_id'],user_df['listen_count'])))"
      ]
    },
    {
      "cell_type": "code",
      "source": [],
      "metadata": {
        "id": "fDHrMvYqYwIv"
      },
      "execution_count": null,
      "outputs": []
    },
    {
      "cell_type": "code",
      "execution_count": null,
      "metadata": {
        "id": "Y75Ljb-LZ_OO"
      },
      "outputs": [],
      "source": [
        "user_songs_df = pd.DataFrame(user_songs_mapping)"
      ]
    },
    {
      "cell_type": "code",
      "execution_count": null,
      "metadata": {
        "id": "E3M-Y7O0Z_OO"
      },
      "outputs": [],
      "source": [
        "user_songs_df = user_songs_df.sort_values(by='songs_listened',ascending=False)"
      ]
    },
    {
      "cell_type": "code",
      "execution_count": null,
      "metadata": {
        "id": "s6Ol9Bc7Z_OO",
        "outputId": "9f1f257d-7d35-4c75-d934-9b3b1739a626"
      },
      "outputs": [
        {
          "name": "stdout",
          "output_type": "stream",
          "text": [
            "A user on an average listens to : 26.194124657839247 songs\n",
            "A user on an average listens to a song 3.1965333469117465 times\n"
          ]
        }
      ],
      "source": [
        "average_songs_per_user = user_songs_df['songs_listened'].mean()\n",
        "print(f'A user on an average listens to : {average_songs_per_user} songs')\n",
        "average_listen_count = user_songs_df['average_listen_count'].mean()\n",
        "print(f'A user on an average listens to a song {average_listen_count} times')"
      ]
    },
    {
      "cell_type": "code",
      "execution_count": null,
      "metadata": {
        "id": "5xSbJVF4Z_OP",
        "outputId": "0433ede3-4171-4852-a124-8ba87068ad3d"
      },
      "outputs": [
        {
          "data": {
            "text/html": [
              "<div>\n",
              "<style scoped>\n",
              "    .dataframe tbody tr th:only-of-type {\n",
              "        vertical-align: middle;\n",
              "    }\n",
              "\n",
              "    .dataframe tbody tr th {\n",
              "        vertical-align: top;\n",
              "    }\n",
              "\n",
              "    .dataframe thead th {\n",
              "        text-align: right;\n",
              "    }\n",
              "</style>\n",
              "<table border=\"1\" class=\"dataframe\">\n",
              "  <thead>\n",
              "    <tr style=\"text-align: right;\">\n",
              "      <th></th>\n",
              "      <th>user_id</th>\n",
              "      <th>songs_listened</th>\n",
              "      <th>average_listen_count</th>\n",
              "      <th>songs</th>\n",
              "    </tr>\n",
              "  </thead>\n",
              "  <tbody>\n",
              "    <tr>\n",
              "      <th>32542</th>\n",
              "      <td>6d625c6557df84b60d90426c0116138b617b9449</td>\n",
              "      <td>711</td>\n",
              "      <td>4.897328</td>\n",
              "      <td>{'SOACRBY12AB017C757': 9, 'SOADFMR12A6701FB5F'...</td>\n",
              "    </tr>\n",
              "    <tr>\n",
              "      <th>75144</th>\n",
              "      <td>fbee1c8ce1a346fa07d2ef648cec81117438b91f</td>\n",
              "      <td>643</td>\n",
              "      <td>1.908243</td>\n",
              "      <td>{'SOABJTC12A58A7DE0E': 2, 'SOACPBY12A8C13FEF9'...</td>\n",
              "    </tr>\n",
              "    <tr>\n",
              "      <th>23297</th>\n",
              "      <td>4e11f45d732f4861772b2906f81a7d384552ad12</td>\n",
              "      <td>556</td>\n",
              "      <td>1.818345</td>\n",
              "      <td>{'SOABJBU12A8C13F63F': 2, 'SOADISH12AB018DFAC'...</td>\n",
              "    </tr>\n",
              "    <tr>\n",
              "      <th>10807</th>\n",
              "      <td>24b98f8ab023f6e7a1c37c7729c623f7b821eb95</td>\n",
              "      <td>540</td>\n",
              "      <td>2.137037</td>\n",
              "      <td>{'SOAAMOW12AB018149B': 1, 'SOAARXR12A8C133D15'...</td>\n",
              "    </tr>\n",
              "    <tr>\n",
              "      <th>7834</th>\n",
              "      <td>1aa4fd215aadb160965110ed8a829745cde319eb</td>\n",
              "      <td>533</td>\n",
              "      <td>2.675422</td>\n",
              "      <td>{'SOAAFAC12A67ADF7EB': 3, 'SOAFTRR12AF72A8D4D'...</td>\n",
              "    </tr>\n",
              "    <tr>\n",
              "      <th>...</th>\n",
              "      <td>...</td>\n",
              "      <td>...</td>\n",
              "      <td>...</td>\n",
              "      <td>...</td>\n",
              "    </tr>\n",
              "    <tr>\n",
              "      <th>4929</th>\n",
              "      <td>10d3b027f494805b9223551e3db03f903953e2cf</td>\n",
              "      <td>1</td>\n",
              "      <td>2.000000</td>\n",
              "      <td>{'SOJPPGA12A58A769A7': 2}</td>\n",
              "    </tr>\n",
              "    <tr>\n",
              "      <th>40445</th>\n",
              "      <td>87c22fcd7f5f833a8e33ba8bc5c7f4863dab5aa8</td>\n",
              "      <td>1</td>\n",
              "      <td>2.000000</td>\n",
              "      <td>{'SOSGEGU12AB018188A': 2}</td>\n",
              "    </tr>\n",
              "    <tr>\n",
              "      <th>19698</th>\n",
              "      <td>421be8356c6464ae9da340754c1b0b9510ae50b5</td>\n",
              "      <td>1</td>\n",
              "      <td>6.000000</td>\n",
              "      <td>{'SOQPYQS12A58A7B8DF': 6}</td>\n",
              "    </tr>\n",
              "    <tr>\n",
              "      <th>40417</th>\n",
              "      <td>87a2826a059570052283d542fc03651c3a570afb</td>\n",
              "      <td>1</td>\n",
              "      <td>2.000000</td>\n",
              "      <td>{'SOWGXOP12A6701E93A': 2}</td>\n",
              "    </tr>\n",
              "    <tr>\n",
              "      <th>56932</th>\n",
              "      <td>bec79e2e90bf0fe7238385b2ae6af711dd6c6d1d</td>\n",
              "      <td>1</td>\n",
              "      <td>4.000000</td>\n",
              "      <td>{'SOFPEJX12A81C221C4': 4}</td>\n",
              "    </tr>\n",
              "  </tbody>\n",
              "</table>\n",
              "<p>76353 rows × 4 columns</p>\n",
              "</div>"
            ],
            "text/plain": [
              "                                        user_id  songs_listened  \\\n",
              "32542  6d625c6557df84b60d90426c0116138b617b9449             711   \n",
              "75144  fbee1c8ce1a346fa07d2ef648cec81117438b91f             643   \n",
              "23297  4e11f45d732f4861772b2906f81a7d384552ad12             556   \n",
              "10807  24b98f8ab023f6e7a1c37c7729c623f7b821eb95             540   \n",
              "7834   1aa4fd215aadb160965110ed8a829745cde319eb             533   \n",
              "...                                         ...             ...   \n",
              "4929   10d3b027f494805b9223551e3db03f903953e2cf               1   \n",
              "40445  87c22fcd7f5f833a8e33ba8bc5c7f4863dab5aa8               1   \n",
              "19698  421be8356c6464ae9da340754c1b0b9510ae50b5               1   \n",
              "40417  87a2826a059570052283d542fc03651c3a570afb               1   \n",
              "56932  bec79e2e90bf0fe7238385b2ae6af711dd6c6d1d               1   \n",
              "\n",
              "       average_listen_count                                              songs  \n",
              "32542              4.897328  {'SOACRBY12AB017C757': 9, 'SOADFMR12A6701FB5F'...  \n",
              "75144              1.908243  {'SOABJTC12A58A7DE0E': 2, 'SOACPBY12A8C13FEF9'...  \n",
              "23297              1.818345  {'SOABJBU12A8C13F63F': 2, 'SOADISH12AB018DFAC'...  \n",
              "10807              2.137037  {'SOAAMOW12AB018149B': 1, 'SOAARXR12A8C133D15'...  \n",
              "7834               2.675422  {'SOAAFAC12A67ADF7EB': 3, 'SOAFTRR12AF72A8D4D'...  \n",
              "...                     ...                                                ...  \n",
              "4929               2.000000                          {'SOJPPGA12A58A769A7': 2}  \n",
              "40445              2.000000                          {'SOSGEGU12AB018188A': 2}  \n",
              "19698              6.000000                          {'SOQPYQS12A58A7B8DF': 6}  \n",
              "40417              2.000000                          {'SOWGXOP12A6701E93A': 2}  \n",
              "56932              4.000000                          {'SOFPEJX12A81C221C4': 4}  \n",
              "\n",
              "[76353 rows x 4 columns]"
            ]
          },
          "execution_count": 101,
          "metadata": {},
          "output_type": "execute_result"
        }
      ],
      "source": [
        "user_songs_df\n",
        "# Maximum songs listened by an user"
      ]
    },
    {
      "cell_type": "code",
      "execution_count": null,
      "metadata": {
        "id": "mKB0YLCcZ_OP",
        "outputId": "03499745-89b0-4007-de64-98b75d7cb582"
      },
      "outputs": [
        {
          "data": {
            "text/html": [
              "<div>\n",
              "<style scoped>\n",
              "    .dataframe tbody tr th:only-of-type {\n",
              "        vertical-align: middle;\n",
              "    }\n",
              "\n",
              "    .dataframe tbody tr th {\n",
              "        vertical-align: top;\n",
              "    }\n",
              "\n",
              "    .dataframe thead th {\n",
              "        text-align: right;\n",
              "    }\n",
              "</style>\n",
              "<table border=\"1\" class=\"dataframe\">\n",
              "  <thead>\n",
              "    <tr style=\"text-align: right;\">\n",
              "      <th></th>\n",
              "      <th>songs_listened</th>\n",
              "      <th>average_listen_count</th>\n",
              "    </tr>\n",
              "  </thead>\n",
              "  <tbody>\n",
              "    <tr>\n",
              "      <th>count</th>\n",
              "      <td>76353.000000</td>\n",
              "      <td>76353.000000</td>\n",
              "    </tr>\n",
              "    <tr>\n",
              "      <th>mean</th>\n",
              "      <td>26.194125</td>\n",
              "      <td>3.196533</td>\n",
              "    </tr>\n",
              "    <tr>\n",
              "      <th>std</th>\n",
              "      <td>31.625078</td>\n",
              "      <td>3.686770</td>\n",
              "    </tr>\n",
              "    <tr>\n",
              "      <th>min</th>\n",
              "      <td>1.000000</td>\n",
              "      <td>1.000000</td>\n",
              "    </tr>\n",
              "    <tr>\n",
              "      <th>25%</th>\n",
              "      <td>9.000000</td>\n",
              "      <td>1.416667</td>\n",
              "    </tr>\n",
              "    <tr>\n",
              "      <th>50%</th>\n",
              "      <td>16.000000</td>\n",
              "      <td>2.166667</td>\n",
              "    </tr>\n",
              "    <tr>\n",
              "      <th>75%</th>\n",
              "      <td>31.000000</td>\n",
              "      <td>3.615385</td>\n",
              "    </tr>\n",
              "    <tr>\n",
              "      <th>90%</th>\n",
              "      <td>58.000000</td>\n",
              "      <td>6.074628</td>\n",
              "    </tr>\n",
              "    <tr>\n",
              "      <th>95%</th>\n",
              "      <td>82.000000</td>\n",
              "      <td>8.500000</td>\n",
              "    </tr>\n",
              "    <tr>\n",
              "      <th>96%</th>\n",
              "      <td>91.000000</td>\n",
              "      <td>9.428571</td>\n",
              "    </tr>\n",
              "    <tr>\n",
              "      <th>97%</th>\n",
              "      <td>102.000000</td>\n",
              "      <td>10.680800</td>\n",
              "    </tr>\n",
              "    <tr>\n",
              "      <th>98%</th>\n",
              "      <td>121.000000</td>\n",
              "      <td>12.733231</td>\n",
              "    </tr>\n",
              "    <tr>\n",
              "      <th>99%</th>\n",
              "      <td>157.480000</td>\n",
              "      <td>17.111111</td>\n",
              "    </tr>\n",
              "    <tr>\n",
              "      <th>99.5%</th>\n",
              "      <td>196.000000</td>\n",
              "      <td>22.851077</td>\n",
              "    </tr>\n",
              "    <tr>\n",
              "      <th>max</th>\n",
              "      <td>711.000000</td>\n",
              "      <td>192.000000</td>\n",
              "    </tr>\n",
              "  </tbody>\n",
              "</table>\n",
              "</div>"
            ],
            "text/plain": [
              "       songs_listened  average_listen_count\n",
              "count    76353.000000          76353.000000\n",
              "mean        26.194125              3.196533\n",
              "std         31.625078              3.686770\n",
              "min          1.000000              1.000000\n",
              "25%          9.000000              1.416667\n",
              "50%         16.000000              2.166667\n",
              "75%         31.000000              3.615385\n",
              "90%         58.000000              6.074628\n",
              "95%         82.000000              8.500000\n",
              "96%         91.000000              9.428571\n",
              "97%        102.000000             10.680800\n",
              "98%        121.000000             12.733231\n",
              "99%        157.480000             17.111111\n",
              "99.5%      196.000000             22.851077\n",
              "max        711.000000            192.000000"
            ]
          },
          "execution_count": 102,
          "metadata": {},
          "output_type": "execute_result"
        }
      ],
      "source": [
        "user_songs_df.describe(percentiles=[0.25,0.5,0.75,0.9,0.95,0.96,0.97,0.98,0.99,0.995])"
      ]
    },
    {
      "cell_type": "code",
      "execution_count": null,
      "metadata": {
        "id": "PnaDAYtIZ_OP"
      },
      "outputs": [],
      "source": [
        "total_songs_covered = []"
      ]
    },
    {
      "cell_type": "code",
      "execution_count": null,
      "metadata": {
        "id": "8XXbH78pZ_OP",
        "outputId": "87a1eec7-3956-4fcf-97fc-91db39de2356"
      },
      "outputs": [
        {
          "data": {
            "text/plain": [
              "32542    None\n",
              "75144    None\n",
              "23297    None\n",
              "10807    None\n",
              "7834     None\n",
              "         ... \n",
              "4929     None\n",
              "40445    None\n",
              "19698    None\n",
              "40417    None\n",
              "56932    None\n",
              "Name: songs, Length: 76353, dtype: object"
            ]
          },
          "execution_count": 104,
          "metadata": {},
          "output_type": "execute_result"
        }
      ],
      "source": [
        "user_songs_df['songs'].apply(lambda x:total_songs_covered.extend(list(x.keys())))"
      ]
    },
    {
      "cell_type": "code",
      "execution_count": null,
      "metadata": {
        "id": "anyaaMESZ_OP",
        "outputId": "5678a450-2185-4ba4-d09e-af89d295380d"
      },
      "outputs": [
        {
          "data": {
            "text/plain": [
              "10000"
            ]
          },
          "execution_count": 105,
          "metadata": {},
          "output_type": "execute_result"
        }
      ],
      "source": [
        "total_songs_covered = list(set(total_songs_covered))\n",
        "len(total_songs_covered)"
      ]
    },
    {
      "cell_type": "code",
      "execution_count": null,
      "metadata": {
        "id": "jrVg0Q2cZ_OP"
      },
      "outputs": [],
      "source": []
    },
    {
      "cell_type": "code",
      "execution_count": null,
      "metadata": {
        "id": "HsJCHHJTZ_OQ"
      },
      "outputs": [],
      "source": []
    },
    {
      "cell_type": "code",
      "execution_count": null,
      "metadata": {
        "id": "d8tv6X2EZ_OQ"
      },
      "outputs": [],
      "source": []
    },
    {
      "cell_type": "markdown",
      "metadata": {
        "id": "bmpMDWxuZ_OQ"
      },
      "source": [
        "### Super user data"
      ]
    },
    {
      "cell_type": "code",
      "execution_count": null,
      "metadata": {
        "scrolled": true,
        "id": "GSkjJDOOZ_OQ",
        "outputId": "f3388e46-0a87-4d6f-8095-742faad06d79"
      },
      "outputs": [
        {
          "name": "stderr",
          "output_type": "stream",
          "text": [
            "C:\\Users\\class\\AppData\\Local\\Temp\\ipykernel_31884\\1563688363.py:2: SettingWithCopyWarning: \n",
            "A value is trying to be set on a copy of a slice from a DataFrame.\n",
            "Try using .loc[row_indexer,col_indexer] = value instead\n",
            "\n",
            "See the caveats in the documentation: https://pandas.pydata.org/pandas-docs/stable/user_guide/indexing.html#returning-a-view-versus-a-copy\n",
            "  super_user_data['favorite_song'] = super_user_data['songs'].apply(lambda x:max(x,key=x.get))\n",
            "C:\\Users\\class\\AppData\\Local\\Temp\\ipykernel_31884\\1563688363.py:3: SettingWithCopyWarning: \n",
            "A value is trying to be set on a copy of a slice from a DataFrame.\n",
            "Try using .loc[row_indexer,col_indexer] = value instead\n",
            "\n",
            "See the caveats in the documentation: https://pandas.pydata.org/pandas-docs/stable/user_guide/indexing.html#returning-a-view-versus-a-copy\n",
            "  super_user_data['favorite_song_count'] = super_user_data['songs'].apply(lambda x:max(x.items(),key=operator.itemgetter(1))[1])\n"
          ]
        },
        {
          "data": {
            "text/html": [
              "<div>\n",
              "<style scoped>\n",
              "    .dataframe tbody tr th:only-of-type {\n",
              "        vertical-align: middle;\n",
              "    }\n",
              "\n",
              "    .dataframe tbody tr th {\n",
              "        vertical-align: top;\n",
              "    }\n",
              "\n",
              "    .dataframe thead th {\n",
              "        text-align: right;\n",
              "    }\n",
              "</style>\n",
              "<table border=\"1\" class=\"dataframe\">\n",
              "  <thead>\n",
              "    <tr style=\"text-align: right;\">\n",
              "      <th></th>\n",
              "      <th>user_id</th>\n",
              "      <th>songs_listened</th>\n",
              "      <th>average_listen_count</th>\n",
              "      <th>songs</th>\n",
              "      <th>favorite_song</th>\n",
              "      <th>favorite_song_count</th>\n",
              "    </tr>\n",
              "  </thead>\n",
              "  <tbody>\n",
              "    <tr>\n",
              "      <th>32542</th>\n",
              "      <td>6d625c6557df84b60d90426c0116138b617b9449</td>\n",
              "      <td>711</td>\n",
              "      <td>4.897328</td>\n",
              "      <td>{'SOACRBY12AB017C757': 9, 'SOADFMR12A6701FB5F'...</td>\n",
              "      <td>SOBNPFN12A8C142E6F</td>\n",
              "      <td>225</td>\n",
              "    </tr>\n",
              "    <tr>\n",
              "      <th>75144</th>\n",
              "      <td>fbee1c8ce1a346fa07d2ef648cec81117438b91f</td>\n",
              "      <td>643</td>\n",
              "      <td>1.908243</td>\n",
              "      <td>{'SOABJTC12A58A7DE0E': 2, 'SOACPBY12A8C13FEF9'...</td>\n",
              "      <td>SOWULFH12A81C225EA</td>\n",
              "      <td>42</td>\n",
              "    </tr>\n",
              "    <tr>\n",
              "      <th>23297</th>\n",
              "      <td>4e11f45d732f4861772b2906f81a7d384552ad12</td>\n",
              "      <td>556</td>\n",
              "      <td>1.818345</td>\n",
              "      <td>{'SOABJBU12A8C13F63F': 2, 'SOADISH12AB018DFAC'...</td>\n",
              "      <td>SOVHVYD12A6D4FA244</td>\n",
              "      <td>28</td>\n",
              "    </tr>\n",
              "    <tr>\n",
              "      <th>10807</th>\n",
              "      <td>24b98f8ab023f6e7a1c37c7729c623f7b821eb95</td>\n",
              "      <td>540</td>\n",
              "      <td>2.137037</td>\n",
              "      <td>{'SOAAMOW12AB018149B': 1, 'SOAARXR12A8C133D15'...</td>\n",
              "      <td>SOBUBLL12A58A795A8</td>\n",
              "      <td>28</td>\n",
              "    </tr>\n",
              "    <tr>\n",
              "      <th>7834</th>\n",
              "      <td>1aa4fd215aadb160965110ed8a829745cde319eb</td>\n",
              "      <td>533</td>\n",
              "      <td>2.675422</td>\n",
              "      <td>{'SOAAFAC12A67ADF7EB': 3, 'SOAFTRR12AF72A8D4D'...</td>\n",
              "      <td>SOWXDVT12B0B80BFA3</td>\n",
              "      <td>27</td>\n",
              "    </tr>\n",
              "    <tr>\n",
              "      <th>52662</th>\n",
              "      <td>b04e41133dd3d30a5631cc8589a1eadd48a8bd53</td>\n",
              "      <td>523</td>\n",
              "      <td>2.170172</td>\n",
              "      <td>{'SOAAMOW12AB018149B': 1, 'SOABNPW12A6D4FC9B5'...</td>\n",
              "      <td>SOVSPCM12A67ADE7A8</td>\n",
              "      <td>16</td>\n",
              "    </tr>\n",
              "    <tr>\n",
              "      <th>6480</th>\n",
              "      <td>15eeb36ae1c62d60de9fdeea0d121eb7d08713be</td>\n",
              "      <td>522</td>\n",
              "      <td>2.078544</td>\n",
              "      <td>{'SOAACPJ12A81C21360': 8, 'SOAARXR12A8C133D15'...</td>\n",
              "      <td>SOBUBLL12A58A795A8</td>\n",
              "      <td>16</td>\n",
              "    </tr>\n",
              "    <tr>\n",
              "      <th>48273</th>\n",
              "      <td>a15075a926c1998d91940f118342ba8356efc7d4</td>\n",
              "      <td>502</td>\n",
              "      <td>2.794821</td>\n",
              "      <td>{'SOAAVUV12AB0186646': 2, 'SOADJQJ12A8C141D38'...</td>\n",
              "      <td>SOBXHDL12A81C204C0</td>\n",
              "      <td>24</td>\n",
              "    </tr>\n",
              "  </tbody>\n",
              "</table>\n",
              "</div>"
            ],
            "text/plain": [
              "                                        user_id  songs_listened  \\\n",
              "32542  6d625c6557df84b60d90426c0116138b617b9449             711   \n",
              "75144  fbee1c8ce1a346fa07d2ef648cec81117438b91f             643   \n",
              "23297  4e11f45d732f4861772b2906f81a7d384552ad12             556   \n",
              "10807  24b98f8ab023f6e7a1c37c7729c623f7b821eb95             540   \n",
              "7834   1aa4fd215aadb160965110ed8a829745cde319eb             533   \n",
              "52662  b04e41133dd3d30a5631cc8589a1eadd48a8bd53             523   \n",
              "6480   15eeb36ae1c62d60de9fdeea0d121eb7d08713be             522   \n",
              "48273  a15075a926c1998d91940f118342ba8356efc7d4             502   \n",
              "\n",
              "       average_listen_count  \\\n",
              "32542              4.897328   \n",
              "75144              1.908243   \n",
              "23297              1.818345   \n",
              "10807              2.137037   \n",
              "7834               2.675422   \n",
              "52662              2.170172   \n",
              "6480               2.078544   \n",
              "48273              2.794821   \n",
              "\n",
              "                                                   songs       favorite_song  \\\n",
              "32542  {'SOACRBY12AB017C757': 9, 'SOADFMR12A6701FB5F'...  SOBNPFN12A8C142E6F   \n",
              "75144  {'SOABJTC12A58A7DE0E': 2, 'SOACPBY12A8C13FEF9'...  SOWULFH12A81C225EA   \n",
              "23297  {'SOABJBU12A8C13F63F': 2, 'SOADISH12AB018DFAC'...  SOVHVYD12A6D4FA244   \n",
              "10807  {'SOAAMOW12AB018149B': 1, 'SOAARXR12A8C133D15'...  SOBUBLL12A58A795A8   \n",
              "7834   {'SOAAFAC12A67ADF7EB': 3, 'SOAFTRR12AF72A8D4D'...  SOWXDVT12B0B80BFA3   \n",
              "52662  {'SOAAMOW12AB018149B': 1, 'SOABNPW12A6D4FC9B5'...  SOVSPCM12A67ADE7A8   \n",
              "6480   {'SOAACPJ12A81C21360': 8, 'SOAARXR12A8C133D15'...  SOBUBLL12A58A795A8   \n",
              "48273  {'SOAAVUV12AB0186646': 2, 'SOADJQJ12A8C141D38'...  SOBXHDL12A81C204C0   \n",
              "\n",
              "       favorite_song_count  \n",
              "32542                  225  \n",
              "75144                   42  \n",
              "23297                   28  \n",
              "10807                   28  \n",
              "7834                    27  \n",
              "52662                   16  \n",
              "6480                    16  \n",
              "48273                   24  "
            ]
          },
          "execution_count": 106,
          "metadata": {},
          "output_type": "execute_result"
        }
      ],
      "source": [
        "super_user_data = user_songs_df[user_songs_df['songs_listened']>=500]\n",
        "super_user_data['favorite_song'] = super_user_data['songs'].apply(lambda x:max(x,key=x.get))\n",
        "super_user_data['favorite_song_count'] = super_user_data['songs'].apply(lambda x:max(x.items(),key=operator.itemgetter(1))[1])\n",
        "super_user_data"
      ]
    },
    {
      "cell_type": "code",
      "execution_count": null,
      "metadata": {
        "id": "v6hShkHZZ_OQ",
        "outputId": "6aec6206-3212-4ba8-bce6-2f859e7f5dfb"
      },
      "outputs": [
        {
          "data": {
            "text/html": [
              "<div>\n",
              "<style scoped>\n",
              "    .dataframe tbody tr th:only-of-type {\n",
              "        vertical-align: middle;\n",
              "    }\n",
              "\n",
              "    .dataframe tbody tr th {\n",
              "        vertical-align: top;\n",
              "    }\n",
              "\n",
              "    .dataframe thead th {\n",
              "        text-align: right;\n",
              "    }\n",
              "</style>\n",
              "<table border=\"1\" class=\"dataframe\">\n",
              "  <thead>\n",
              "    <tr style=\"text-align: right;\">\n",
              "      <th></th>\n",
              "      <th>user_id</th>\n",
              "      <th>songs_listened</th>\n",
              "      <th>average_listen_count</th>\n",
              "      <th>songs</th>\n",
              "      <th>favorite_song</th>\n",
              "      <th>favorite_song_count</th>\n",
              "    </tr>\n",
              "  </thead>\n",
              "  <tbody>\n",
              "    <tr>\n",
              "      <th>32542</th>\n",
              "      <td>6d625c6557df84b60d90426c0116138b617b9449</td>\n",
              "      <td>711</td>\n",
              "      <td>4.897328</td>\n",
              "      <td>{'SOACRBY12AB017C757': 9, 'SOADFMR12A6701FB5F'...</td>\n",
              "      <td>SOBNPFN12A8C142E6F</td>\n",
              "      <td>225</td>\n",
              "    </tr>\n",
              "    <tr>\n",
              "      <th>75144</th>\n",
              "      <td>fbee1c8ce1a346fa07d2ef648cec81117438b91f</td>\n",
              "      <td>643</td>\n",
              "      <td>1.908243</td>\n",
              "      <td>{'SOABJTC12A58A7DE0E': 2, 'SOACPBY12A8C13FEF9'...</td>\n",
              "      <td>SOWULFH12A81C225EA</td>\n",
              "      <td>42</td>\n",
              "    </tr>\n",
              "    <tr>\n",
              "      <th>23297</th>\n",
              "      <td>4e11f45d732f4861772b2906f81a7d384552ad12</td>\n",
              "      <td>556</td>\n",
              "      <td>1.818345</td>\n",
              "      <td>{'SOABJBU12A8C13F63F': 2, 'SOADISH12AB018DFAC'...</td>\n",
              "      <td>SOVHVYD12A6D4FA244</td>\n",
              "      <td>28</td>\n",
              "    </tr>\n",
              "    <tr>\n",
              "      <th>10807</th>\n",
              "      <td>24b98f8ab023f6e7a1c37c7729c623f7b821eb95</td>\n",
              "      <td>540</td>\n",
              "      <td>2.137037</td>\n",
              "      <td>{'SOAAMOW12AB018149B': 1, 'SOAARXR12A8C133D15'...</td>\n",
              "      <td>SOBUBLL12A58A795A8</td>\n",
              "      <td>28</td>\n",
              "    </tr>\n",
              "    <tr>\n",
              "      <th>7834</th>\n",
              "      <td>1aa4fd215aadb160965110ed8a829745cde319eb</td>\n",
              "      <td>533</td>\n",
              "      <td>2.675422</td>\n",
              "      <td>{'SOAAFAC12A67ADF7EB': 3, 'SOAFTRR12AF72A8D4D'...</td>\n",
              "      <td>SOWXDVT12B0B80BFA3</td>\n",
              "      <td>27</td>\n",
              "    </tr>\n",
              "    <tr>\n",
              "      <th>52662</th>\n",
              "      <td>b04e41133dd3d30a5631cc8589a1eadd48a8bd53</td>\n",
              "      <td>523</td>\n",
              "      <td>2.170172</td>\n",
              "      <td>{'SOAAMOW12AB018149B': 1, 'SOABNPW12A6D4FC9B5'...</td>\n",
              "      <td>SOVSPCM12A67ADE7A8</td>\n",
              "      <td>16</td>\n",
              "    </tr>\n",
              "    <tr>\n",
              "      <th>6480</th>\n",
              "      <td>15eeb36ae1c62d60de9fdeea0d121eb7d08713be</td>\n",
              "      <td>522</td>\n",
              "      <td>2.078544</td>\n",
              "      <td>{'SOAACPJ12A81C21360': 8, 'SOAARXR12A8C133D15'...</td>\n",
              "      <td>SOBUBLL12A58A795A8</td>\n",
              "      <td>16</td>\n",
              "    </tr>\n",
              "    <tr>\n",
              "      <th>48273</th>\n",
              "      <td>a15075a926c1998d91940f118342ba8356efc7d4</td>\n",
              "      <td>502</td>\n",
              "      <td>2.794821</td>\n",
              "      <td>{'SOAAVUV12AB0186646': 2, 'SOADJQJ12A8C141D38'...</td>\n",
              "      <td>SOBXHDL12A81C204C0</td>\n",
              "      <td>24</td>\n",
              "    </tr>\n",
              "  </tbody>\n",
              "</table>\n",
              "</div>"
            ],
            "text/plain": [
              "                                        user_id  songs_listened  \\\n",
              "32542  6d625c6557df84b60d90426c0116138b617b9449             711   \n",
              "75144  fbee1c8ce1a346fa07d2ef648cec81117438b91f             643   \n",
              "23297  4e11f45d732f4861772b2906f81a7d384552ad12             556   \n",
              "10807  24b98f8ab023f6e7a1c37c7729c623f7b821eb95             540   \n",
              "7834   1aa4fd215aadb160965110ed8a829745cde319eb             533   \n",
              "52662  b04e41133dd3d30a5631cc8589a1eadd48a8bd53             523   \n",
              "6480   15eeb36ae1c62d60de9fdeea0d121eb7d08713be             522   \n",
              "48273  a15075a926c1998d91940f118342ba8356efc7d4             502   \n",
              "\n",
              "       average_listen_count  \\\n",
              "32542              4.897328   \n",
              "75144              1.908243   \n",
              "23297              1.818345   \n",
              "10807              2.137037   \n",
              "7834               2.675422   \n",
              "52662              2.170172   \n",
              "6480               2.078544   \n",
              "48273              2.794821   \n",
              "\n",
              "                                                   songs       favorite_song  \\\n",
              "32542  {'SOACRBY12AB017C757': 9, 'SOADFMR12A6701FB5F'...  SOBNPFN12A8C142E6F   \n",
              "75144  {'SOABJTC12A58A7DE0E': 2, 'SOACPBY12A8C13FEF9'...  SOWULFH12A81C225EA   \n",
              "23297  {'SOABJBU12A8C13F63F': 2, 'SOADISH12AB018DFAC'...  SOVHVYD12A6D4FA244   \n",
              "10807  {'SOAAMOW12AB018149B': 1, 'SOAARXR12A8C133D15'...  SOBUBLL12A58A795A8   \n",
              "7834   {'SOAAFAC12A67ADF7EB': 3, 'SOAFTRR12AF72A8D4D'...  SOWXDVT12B0B80BFA3   \n",
              "52662  {'SOAAMOW12AB018149B': 1, 'SOABNPW12A6D4FC9B5'...  SOVSPCM12A67ADE7A8   \n",
              "6480   {'SOAACPJ12A81C21360': 8, 'SOAARXR12A8C133D15'...  SOBUBLL12A58A795A8   \n",
              "48273  {'SOAAVUV12AB0186646': 2, 'SOADJQJ12A8C141D38'...  SOBXHDL12A81C204C0   \n",
              "\n",
              "       favorite_song_count  \n",
              "32542                  225  \n",
              "75144                   42  \n",
              "23297                   28  \n",
              "10807                   28  \n",
              "7834                    27  \n",
              "52662                   16  \n",
              "6480                    16  \n",
              "48273                   24  "
            ]
          },
          "execution_count": 107,
          "metadata": {},
          "output_type": "execute_result"
        }
      ],
      "source": [
        "super_user_data"
      ]
    },
    {
      "cell_type": "code",
      "execution_count": null,
      "metadata": {
        "id": "rqV3QVkZZ_OQ"
      },
      "outputs": [],
      "source": [
        "songs_covered_by_super_users = []"
      ]
    },
    {
      "cell_type": "code",
      "execution_count": null,
      "metadata": {
        "id": "c7mEDgo6Z_OQ",
        "outputId": "23ed85a9-b33d-4f9b-a418-ac7ce7cce02f"
      },
      "outputs": [
        {
          "data": {
            "text/plain": [
              "32542    None\n",
              "75144    None\n",
              "23297    None\n",
              "10807    None\n",
              "7834     None\n",
              "52662    None\n",
              "6480     None\n",
              "48273    None\n",
              "Name: songs, dtype: object"
            ]
          },
          "execution_count": 109,
          "metadata": {},
          "output_type": "execute_result"
        }
      ],
      "source": [
        "super_user_data['songs'].apply(lambda x:songs_covered_by_super_users.extend(list(x.keys())))"
      ]
    },
    {
      "cell_type": "code",
      "execution_count": null,
      "metadata": {
        "id": "b98r59r6Z_OQ",
        "outputId": "a2598499-b7fa-45ac-a49b-e536173040e8"
      },
      "outputs": [
        {
          "data": {
            "text/plain": [
              "(4530, 3165)"
            ]
          },
          "execution_count": 110,
          "metadata": {},
          "output_type": "execute_result"
        }
      ],
      "source": [
        "len(songs_covered_by_super_users),len(set(songs_covered_by_super_users))"
      ]
    },
    {
      "cell_type": "code",
      "execution_count": null,
      "metadata": {
        "id": "km7xlnidZ_OQ"
      },
      "outputs": [],
      "source": []
    },
    {
      "cell_type": "code",
      "execution_count": null,
      "metadata": {
        "id": "7Fib9Z1cZ_OQ"
      },
      "outputs": [],
      "source": [
        "def user_song_coverage(top_user_count):\n",
        "    songs_covered_by_super_users = []\n",
        "    df = user_songs_df.head(top_user_count)\n",
        "    df['songs'].apply(lambda x:songs_covered_by_super_users.extend(list(x.keys())))\n",
        "    coverage_percentage = len(set(songs_covered_by_super_users))/10000\n",
        "    print(f\"Top {top_user_count} superusers cover {coverage_percentage} percent songs.\")"
      ]
    },
    {
      "cell_type": "code",
      "execution_count": null,
      "metadata": {
        "id": "AAmtCPw1Z_OQ"
      },
      "outputs": [],
      "source": [
        "top_x_super_users = [10,20,30,40,50,60,70,80,90,100,250,500,750,1000,1250,1500,1750,2000,2250,2500,2750,3000,3250,3500,3750,4000]"
      ]
    },
    {
      "cell_type": "code",
      "execution_count": null,
      "metadata": {
        "id": "8dsKzzvUZ_OR"
      },
      "outputs": [],
      "source": [
        "result = map(user_song_coverage,top_x_super_users)"
      ]
    },
    {
      "cell_type": "code",
      "execution_count": null,
      "metadata": {
        "id": "kjqWmFQ4Z_OR",
        "outputId": "70a25bda-c952-4b7a-a7cc-665fb0f183c8"
      },
      "outputs": [
        {
          "name": "stdout",
          "output_type": "stream",
          "text": [
            "Top 10 superusers cover 0.3361 percent songs.\n",
            "Top 20 superusers cover 0.4676 percent songs.\n",
            "Top 30 superusers cover 0.562 percent songs.\n",
            "Top 40 superusers cover 0.5978 percent songs.\n",
            "Top 50 superusers cover 0.6534 percent songs.\n",
            "Top 60 superusers cover 0.6906 percent songs.\n",
            "Top 70 superusers cover 0.7188 percent songs.\n",
            "Top 80 superusers cover 0.7563 percent songs.\n",
            "Top 90 superusers cover 0.7771 percent songs.\n",
            "Top 100 superusers cover 0.7965 percent songs.\n",
            "Top 250 superusers cover 0.9241 percent songs.\n",
            "Top 500 superusers cover 0.9748 percent songs.\n",
            "Top 750 superusers cover 0.9897 percent songs.\n",
            "Top 1000 superusers cover 0.9939 percent songs.\n",
            "Top 1250 superusers cover 0.9971 percent songs.\n",
            "Top 1500 superusers cover 0.9979 percent songs.\n",
            "Top 1750 superusers cover 0.9985 percent songs.\n",
            "Top 2000 superusers cover 0.999 percent songs.\n",
            "Top 2250 superusers cover 0.9993 percent songs.\n",
            "Top 2500 superusers cover 0.9996 percent songs.\n",
            "Top 2750 superusers cover 0.9996 percent songs.\n",
            "Top 3000 superusers cover 0.9999 percent songs.\n",
            "Top 3250 superusers cover 0.9999 percent songs.\n",
            "Top 3500 superusers cover 1.0 percent songs.\n",
            "Top 3750 superusers cover 1.0 percent songs.\n",
            "Top 4000 superusers cover 1.0 percent songs.\n"
          ]
        },
        {
          "data": {
            "text/plain": [
              "[None,\n",
              " None,\n",
              " None,\n",
              " None,\n",
              " None,\n",
              " None,\n",
              " None,\n",
              " None,\n",
              " None,\n",
              " None,\n",
              " None,\n",
              " None,\n",
              " None,\n",
              " None,\n",
              " None,\n",
              " None,\n",
              " None,\n",
              " None,\n",
              " None,\n",
              " None,\n",
              " None,\n",
              " None,\n",
              " None,\n",
              " None,\n",
              " None,\n",
              " None]"
            ]
          },
          "execution_count": 114,
          "metadata": {},
          "output_type": "execute_result"
        }
      ],
      "source": [
        "list(result)"
      ]
    },
    {
      "cell_type": "code",
      "execution_count": null,
      "metadata": {
        "id": "A0LUF91oZ_OR"
      },
      "outputs": [],
      "source": []
    },
    {
      "cell_type": "code",
      "execution_count": null,
      "metadata": {
        "id": "ttcaHA8YZ_OR",
        "outputId": "9a5cc2bf-5f43-4577-cc5f-c5a1ecf5dbbc"
      },
      "outputs": [
        {
          "data": {
            "text/html": [
              "<div>\n",
              "<style scoped>\n",
              "    .dataframe tbody tr th:only-of-type {\n",
              "        vertical-align: middle;\n",
              "    }\n",
              "\n",
              "    .dataframe tbody tr th {\n",
              "        vertical-align: top;\n",
              "    }\n",
              "\n",
              "    .dataframe thead th {\n",
              "        text-align: right;\n",
              "    }\n",
              "</style>\n",
              "<table border=\"1\" class=\"dataframe\">\n",
              "  <thead>\n",
              "    <tr style=\"text-align: right;\">\n",
              "      <th></th>\n",
              "      <th>songs_listened</th>\n",
              "      <th>average_listen_count</th>\n",
              "    </tr>\n",
              "  </thead>\n",
              "  <tbody>\n",
              "    <tr>\n",
              "      <th>count</th>\n",
              "      <td>76353.000000</td>\n",
              "      <td>76353.000000</td>\n",
              "    </tr>\n",
              "    <tr>\n",
              "      <th>mean</th>\n",
              "      <td>26.194125</td>\n",
              "      <td>3.196533</td>\n",
              "    </tr>\n",
              "    <tr>\n",
              "      <th>std</th>\n",
              "      <td>31.625078</td>\n",
              "      <td>3.686770</td>\n",
              "    </tr>\n",
              "    <tr>\n",
              "      <th>min</th>\n",
              "      <td>1.000000</td>\n",
              "      <td>1.000000</td>\n",
              "    </tr>\n",
              "    <tr>\n",
              "      <th>25%</th>\n",
              "      <td>9.000000</td>\n",
              "      <td>1.416667</td>\n",
              "    </tr>\n",
              "    <tr>\n",
              "      <th>50%</th>\n",
              "      <td>16.000000</td>\n",
              "      <td>2.166667</td>\n",
              "    </tr>\n",
              "    <tr>\n",
              "      <th>75%</th>\n",
              "      <td>31.000000</td>\n",
              "      <td>3.615385</td>\n",
              "    </tr>\n",
              "    <tr>\n",
              "      <th>90%</th>\n",
              "      <td>58.000000</td>\n",
              "      <td>6.074628</td>\n",
              "    </tr>\n",
              "    <tr>\n",
              "      <th>95%</th>\n",
              "      <td>82.000000</td>\n",
              "      <td>8.500000</td>\n",
              "    </tr>\n",
              "    <tr>\n",
              "      <th>96%</th>\n",
              "      <td>91.000000</td>\n",
              "      <td>9.428571</td>\n",
              "    </tr>\n",
              "    <tr>\n",
              "      <th>97%</th>\n",
              "      <td>102.000000</td>\n",
              "      <td>10.680800</td>\n",
              "    </tr>\n",
              "    <tr>\n",
              "      <th>98%</th>\n",
              "      <td>121.000000</td>\n",
              "      <td>12.733231</td>\n",
              "    </tr>\n",
              "    <tr>\n",
              "      <th>99%</th>\n",
              "      <td>157.480000</td>\n",
              "      <td>17.111111</td>\n",
              "    </tr>\n",
              "    <tr>\n",
              "      <th>99.5%</th>\n",
              "      <td>196.000000</td>\n",
              "      <td>22.851077</td>\n",
              "    </tr>\n",
              "    <tr>\n",
              "      <th>max</th>\n",
              "      <td>711.000000</td>\n",
              "      <td>192.000000</td>\n",
              "    </tr>\n",
              "  </tbody>\n",
              "</table>\n",
              "</div>"
            ],
            "text/plain": [
              "       songs_listened  average_listen_count\n",
              "count    76353.000000          76353.000000\n",
              "mean        26.194125              3.196533\n",
              "std         31.625078              3.686770\n",
              "min          1.000000              1.000000\n",
              "25%          9.000000              1.416667\n",
              "50%         16.000000              2.166667\n",
              "75%         31.000000              3.615385\n",
              "90%         58.000000              6.074628\n",
              "95%         82.000000              8.500000\n",
              "96%         91.000000              9.428571\n",
              "97%        102.000000             10.680800\n",
              "98%        121.000000             12.733231\n",
              "99%        157.480000             17.111111\n",
              "99.5%      196.000000             22.851077\n",
              "max        711.000000            192.000000"
            ]
          },
          "execution_count": 115,
          "metadata": {},
          "output_type": "execute_result"
        }
      ],
      "source": [
        "user_songs_df.describe(percentiles=[0.25,0.5,0.75,0.9,0.95,0.96,0.97,0.98,0.99,0.995])"
      ]
    },
    {
      "cell_type": "code",
      "execution_count": null,
      "metadata": {
        "id": "kRgO_2vJZ_OR",
        "outputId": "ef34a968-8bfc-4aac-9909-ae41939733aa"
      },
      "outputs": [
        {
          "data": {
            "image/png": "[encoded data removed]",
            "text/plain": [
              "<Figure size 2160x1440 with 1 Axes>"
            ]
          },
          "metadata": {
            "needs_background": "light"
          },
          "output_type": "display_data"
        }
      ],
      "source": [
        "#top 100 users by number of songs listened\n",
        "top_100_users = user_songs_df.head(100)\n",
        "plt.figure(figsize=(30,20))\n",
        "#sns.displot(top_100_users['songs_listened'],kde=True)\n",
        "sns.histplot(top_100_users['songs_listened'])\n",
        "plt.xticks(size='xx-large')\n",
        "plt.yticks(size='xx-large')\n",
        "plt.xlabel(xlabel = '\\nsongs_listened',fontdict={'size':36})\n",
        "plt.ylabel(ylabel='count\\n',fontdict={'size':36})\n",
        "plt.show()"
      ]
    },
    {
      "cell_type": "code",
      "execution_count": null,
      "metadata": {
        "id": "4CwVrC46Z_OR"
      },
      "outputs": [],
      "source": []
    },
    {
      "cell_type": "code",
      "execution_count": null,
      "metadata": {
        "id": "KN9TMBwuZ_OR",
        "outputId": "0d11c675-c7b7-4cb7-f71c-f295baac12cd"
      },
      "outputs": [
        {
          "data": {
            "text/html": [
              "<div>\n",
              "<style scoped>\n",
              "    .dataframe tbody tr th:only-of-type {\n",
              "        vertical-align: middle;\n",
              "    }\n",
              "\n",
              "    .dataframe tbody tr th {\n",
              "        vertical-align: top;\n",
              "    }\n",
              "\n",
              "    .dataframe thead th {\n",
              "        text-align: right;\n",
              "    }\n",
              "</style>\n",
              "<table border=\"1\" class=\"dataframe\">\n",
              "  <thead>\n",
              "    <tr style=\"text-align: right;\">\n",
              "      <th></th>\n",
              "      <th>user_id</th>\n",
              "      <th>song_id</th>\n",
              "      <th>listen_count</th>\n",
              "    </tr>\n",
              "  </thead>\n",
              "  <tbody>\n",
              "    <tr>\n",
              "      <th>1228366</th>\n",
              "      <td>d13609d62db6df876d3cc388225478618bb7b912</td>\n",
              "      <td>SOFCGSE12AF72A674F</td>\n",
              "      <td>2213</td>\n",
              "    </tr>\n",
              "  </tbody>\n",
              "</table>\n",
              "</div>"
            ],
            "text/plain": [
              "                                          user_id             song_id  \\\n",
              "1228366  d13609d62db6df876d3cc388225478618bb7b912  SOFCGSE12AF72A674F   \n",
              "\n",
              "         listen_count  \n",
              "1228366          2213  "
            ]
          },
          "execution_count": 117,
          "metadata": {},
          "output_type": "execute_result"
        }
      ],
      "source": [
        "most_num_times_song_listened_by_user = user_song_info[user_song_info['listen_count'] == user_song_info['listen_count'].max()]\n",
        "most_num_times_song_listened_by_user"
      ]
    },
    {
      "cell_type": "code",
      "execution_count": null,
      "metadata": {
        "id": "1YB662hbZ_OR",
        "outputId": "79c34d9c-c0aa-4e9b-c7be-80d0d56f25ec"
      },
      "outputs": [
        {
          "data": {
            "text/plain": [
              "10000"
            ]
          },
          "execution_count": 118,
          "metadata": {},
          "output_type": "execute_result"
        }
      ],
      "source": [
        "user_song_info['song_id'].nunique()"
      ]
    },
    {
      "cell_type": "code",
      "execution_count": null,
      "metadata": {
        "id": "lK8UMh9jZ_OR",
        "outputId": "9d7fab15-57ea-4b79-f561-8d8c4e0a31db"
      },
      "outputs": [
        {
          "data": {
            "text/html": [
              "<div>\n",
              "<style scoped>\n",
              "    .dataframe tbody tr th:only-of-type {\n",
              "        vertical-align: middle;\n",
              "    }\n",
              "\n",
              "    .dataframe tbody tr th {\n",
              "        vertical-align: top;\n",
              "    }\n",
              "\n",
              "    .dataframe thead th {\n",
              "        text-align: right;\n",
              "    }\n",
              "</style>\n",
              "<table border=\"1\" class=\"dataframe\">\n",
              "  <thead>\n",
              "    <tr style=\"text-align: right;\">\n",
              "      <th></th>\n",
              "      <th>song_id</th>\n",
              "      <th>title</th>\n",
              "      <th>release</th>\n",
              "      <th>artist_name</th>\n",
              "      <th>year</th>\n",
              "    </tr>\n",
              "  </thead>\n",
              "  <tbody>\n",
              "    <tr>\n",
              "      <th>0</th>\n",
              "      <td>SOQMMHC12AB0180CB8</td>\n",
              "      <td>Silent Night</td>\n",
              "      <td>Monster Ballads X-Mas</td>\n",
              "      <td>Faster Pussy cat</td>\n",
              "      <td>2003</td>\n",
              "    </tr>\n",
              "    <tr>\n",
              "      <th>1</th>\n",
              "      <td>SOVFVAK12A8C1350D9</td>\n",
              "      <td>Tanssi vaan</td>\n",
              "      <td>Karkuteillä</td>\n",
              "      <td>Karkkiautomaatti</td>\n",
              "      <td>1995</td>\n",
              "    </tr>\n",
              "    <tr>\n",
              "      <th>2</th>\n",
              "      <td>SOGTUKN12AB017F4F1</td>\n",
              "      <td>No One Could Ever</td>\n",
              "      <td>Butter</td>\n",
              "      <td>Hudson Mohawke</td>\n",
              "      <td>2006</td>\n",
              "    </tr>\n",
              "    <tr>\n",
              "      <th>3</th>\n",
              "      <td>SOBNYVR12A8C13558C</td>\n",
              "      <td>Si Vos Querés</td>\n",
              "      <td>De Culo</td>\n",
              "      <td>Yerba Brava</td>\n",
              "      <td>2003</td>\n",
              "    </tr>\n",
              "    <tr>\n",
              "      <th>4</th>\n",
              "      <td>SOHSBXH12A8C13B0DF</td>\n",
              "      <td>Tangle Of Aspens</td>\n",
              "      <td>Rene Ablaze Presents Winter Sessions</td>\n",
              "      <td>Der Mystic</td>\n",
              "      <td>0</td>\n",
              "    </tr>\n",
              "    <tr>\n",
              "      <th>...</th>\n",
              "      <td>...</td>\n",
              "      <td>...</td>\n",
              "      <td>...</td>\n",
              "      <td>...</td>\n",
              "      <td>...</td>\n",
              "    </tr>\n",
              "    <tr>\n",
              "      <th>999995</th>\n",
              "      <td>SOTXAME12AB018F136</td>\n",
              "      <td>O Samba Da Vida</td>\n",
              "      <td>Pacha V.I.P.</td>\n",
              "      <td>Kiko Navarro</td>\n",
              "      <td>0</td>\n",
              "    </tr>\n",
              "    <tr>\n",
              "      <th>999996</th>\n",
              "      <td>SOXQYIQ12A8C137FBB</td>\n",
              "      <td>Jago Chhadeo</td>\n",
              "      <td>Naale Baba Lassi Pee Gya</td>\n",
              "      <td>Kuldeep Manak</td>\n",
              "      <td>0</td>\n",
              "    </tr>\n",
              "    <tr>\n",
              "      <th>999997</th>\n",
              "      <td>SOHODZI12A8C137BB3</td>\n",
              "      <td>Novemba</td>\n",
              "      <td>Dub_Connected: electronic music</td>\n",
              "      <td>Gabriel Le Mar</td>\n",
              "      <td>0</td>\n",
              "    </tr>\n",
              "    <tr>\n",
              "      <th>999998</th>\n",
              "      <td>SOLXGOR12A81C21EB7</td>\n",
              "      <td>Faraday</td>\n",
              "      <td>The Trance Collection Vol. 2</td>\n",
              "      <td>Elude</td>\n",
              "      <td>0</td>\n",
              "    </tr>\n",
              "    <tr>\n",
              "      <th>999999</th>\n",
              "      <td>SOWXJXQ12AB0189F43</td>\n",
              "      <td>Fernweh feat. Sektion Kuchikäschtli</td>\n",
              "      <td>So Oder So</td>\n",
              "      <td>Texta</td>\n",
              "      <td>2004</td>\n",
              "    </tr>\n",
              "  </tbody>\n",
              "</table>\n",
              "<p>999980 rows × 5 columns</p>\n",
              "</div>"
            ],
            "text/plain": [
              "                   song_id                                title  \\\n",
              "0       SOQMMHC12AB0180CB8                         Silent Night   \n",
              "1       SOVFVAK12A8C1350D9                          Tanssi vaan   \n",
              "2       SOGTUKN12AB017F4F1                    No One Could Ever   \n",
              "3       SOBNYVR12A8C13558C                        Si Vos Querés   \n",
              "4       SOHSBXH12A8C13B0DF                     Tangle Of Aspens   \n",
              "...                    ...                                  ...   \n",
              "999995  SOTXAME12AB018F136                      O Samba Da Vida   \n",
              "999996  SOXQYIQ12A8C137FBB                         Jago Chhadeo   \n",
              "999997  SOHODZI12A8C137BB3                              Novemba   \n",
              "999998  SOLXGOR12A81C21EB7                              Faraday   \n",
              "999999  SOWXJXQ12AB0189F43  Fernweh feat. Sektion Kuchikäschtli   \n",
              "\n",
              "                                     release       artist_name  year  \n",
              "0                      Monster Ballads X-Mas  Faster Pussy cat  2003  \n",
              "1                                Karkuteillä  Karkkiautomaatti  1995  \n",
              "2                                     Butter    Hudson Mohawke  2006  \n",
              "3                                    De Culo       Yerba Brava  2003  \n",
              "4       Rene Ablaze Presents Winter Sessions        Der Mystic     0  \n",
              "...                                      ...               ...   ...  \n",
              "999995                          Pacha V.I.P.      Kiko Navarro     0  \n",
              "999996              Naale Baba Lassi Pee Gya     Kuldeep Manak     0  \n",
              "999997       Dub_Connected: electronic music    Gabriel Le Mar     0  \n",
              "999998          The Trance Collection Vol. 2             Elude     0  \n",
              "999999                            So Oder So             Texta  2004  \n",
              "\n",
              "[999980 rows x 5 columns]"
            ]
          },
          "execution_count": 119,
          "metadata": {},
          "output_type": "execute_result"
        }
      ],
      "source": [
        "song_metadata"
      ]
    },
    {
      "cell_type": "code",
      "execution_count": null,
      "metadata": {
        "id": "PvZligchZ_OS"
      },
      "outputs": [],
      "source": [
        "all_data_df = pd.merge(song_metadata,user_song_info,on='song_id')"
      ]
    },
    {
      "cell_type": "code",
      "execution_count": null,
      "metadata": {
        "id": "QJXRIXt_Z_OS",
        "outputId": "72dad9a4-97ea-4b02-be00-4fac6eadd708"
      },
      "outputs": [
        {
          "data": {
            "text/html": [
              "<div>\n",
              "<style scoped>\n",
              "    .dataframe tbody tr th:only-of-type {\n",
              "        vertical-align: middle;\n",
              "    }\n",
              "\n",
              "    .dataframe tbody tr th {\n",
              "        vertical-align: top;\n",
              "    }\n",
              "\n",
              "    .dataframe thead th {\n",
              "        text-align: right;\n",
              "    }\n",
              "</style>\n",
              "<table border=\"1\" class=\"dataframe\">\n",
              "  <thead>\n",
              "    <tr style=\"text-align: right;\">\n",
              "      <th></th>\n",
              "      <th>song_id</th>\n",
              "      <th>title</th>\n",
              "      <th>release</th>\n",
              "      <th>artist_name</th>\n",
              "      <th>year</th>\n",
              "      <th>user_id</th>\n",
              "      <th>listen_count</th>\n",
              "    </tr>\n",
              "  </thead>\n",
              "  <tbody>\n",
              "    <tr>\n",
              "      <th>402</th>\n",
              "      <td>SOQBGZD12AB0184341</td>\n",
              "      <td>Rewind (Demo)</td>\n",
              "      <td>Riot!</td>\n",
              "      <td>Paramore</td>\n",
              "      <td>0</td>\n",
              "      <td>1b704d4cddabea8258bd93497fcb73eab32fa592</td>\n",
              "      <td>2</td>\n",
              "    </tr>\n",
              "    <tr>\n",
              "      <th>403</th>\n",
              "      <td>SOQBGZD12AB0184341</td>\n",
              "      <td>Rewind (Demo)</td>\n",
              "      <td>Riot!</td>\n",
              "      <td>Paramore</td>\n",
              "      <td>0</td>\n",
              "      <td>76235885b32c4e8c82760c340dc54f9b608d7d7e</td>\n",
              "      <td>1</td>\n",
              "    </tr>\n",
              "    <tr>\n",
              "      <th>404</th>\n",
              "      <td>SOQBGZD12AB0184341</td>\n",
              "      <td>Rewind (Demo)</td>\n",
              "      <td>Riot!</td>\n",
              "      <td>Paramore</td>\n",
              "      <td>0</td>\n",
              "      <td>cc2dc14c7dac1037a3beed1c9094a6d710f3ee98</td>\n",
              "      <td>6</td>\n",
              "    </tr>\n",
              "    <tr>\n",
              "      <th>405</th>\n",
              "      <td>SOQBGZD12AB0184341</td>\n",
              "      <td>Rewind (Demo)</td>\n",
              "      <td>Riot!</td>\n",
              "      <td>Paramore</td>\n",
              "      <td>0</td>\n",
              "      <td>fa40b11a2509c5e159bcb444890d9200aed0e268</td>\n",
              "      <td>1</td>\n",
              "    </tr>\n",
              "    <tr>\n",
              "      <th>406</th>\n",
              "      <td>SOQBGZD12AB0184341</td>\n",
              "      <td>Rewind (Demo)</td>\n",
              "      <td>Riot!</td>\n",
              "      <td>Paramore</td>\n",
              "      <td>0</td>\n",
              "      <td>c7205abbf880359a5f105b6040c910ad2ff9dfb7</td>\n",
              "      <td>1</td>\n",
              "    </tr>\n",
              "    <tr>\n",
              "      <th>...</th>\n",
              "      <td>...</td>\n",
              "      <td>...</td>\n",
              "      <td>...</td>\n",
              "      <td>...</td>\n",
              "      <td>...</td>\n",
              "      <td>...</td>\n",
              "      <td>...</td>\n",
              "    </tr>\n",
              "    <tr>\n",
              "      <th>2085738</th>\n",
              "      <td>SOSRUEV12A8C136EC5</td>\n",
              "      <td>Bounce That</td>\n",
              "      <td>Night Ripper</td>\n",
              "      <td>Girl Talk</td>\n",
              "      <td>0</td>\n",
              "      <td>746a8c19eff1d0d55f6ff844a92e572b81d0bac0</td>\n",
              "      <td>1</td>\n",
              "    </tr>\n",
              "    <tr>\n",
              "      <th>2085739</th>\n",
              "      <td>SOSRUEV12A8C136EC5</td>\n",
              "      <td>Bounce That</td>\n",
              "      <td>Night Ripper</td>\n",
              "      <td>Girl Talk</td>\n",
              "      <td>0</td>\n",
              "      <td>d13e7cd79e6b1cbf4bf1fc3f758b520ad2021fe4</td>\n",
              "      <td>1</td>\n",
              "    </tr>\n",
              "    <tr>\n",
              "      <th>2085740</th>\n",
              "      <td>SOSRUEV12A8C136EC5</td>\n",
              "      <td>Bounce That</td>\n",
              "      <td>Night Ripper</td>\n",
              "      <td>Girl Talk</td>\n",
              "      <td>0</td>\n",
              "      <td>763cd03c9b9b3bb88797c1eed65ae361c0bd9c57</td>\n",
              "      <td>1</td>\n",
              "    </tr>\n",
              "    <tr>\n",
              "      <th>2085741</th>\n",
              "      <td>SOSRUEV12A8C136EC5</td>\n",
              "      <td>Bounce That</td>\n",
              "      <td>Night Ripper</td>\n",
              "      <td>Girl Talk</td>\n",
              "      <td>0</td>\n",
              "      <td>7f601affb4b7d01e397ff620092d26cd7495e31d</td>\n",
              "      <td>1</td>\n",
              "    </tr>\n",
              "    <tr>\n",
              "      <th>2085742</th>\n",
              "      <td>SOSRUEV12A8C136EC5</td>\n",
              "      <td>Bounce That</td>\n",
              "      <td>Night Ripper</td>\n",
              "      <td>Girl Talk</td>\n",
              "      <td>0</td>\n",
              "      <td>5e822bca7bad373504c813b762c1d2fba3a250ff</td>\n",
              "      <td>1</td>\n",
              "    </tr>\n",
              "  </tbody>\n",
              "</table>\n",
              "<p>380170 rows × 7 columns</p>\n",
              "</div>"
            ],
            "text/plain": [
              "                    song_id          title       release artist_name  year  \\\n",
              "402      SOQBGZD12AB0184341  Rewind (Demo)         Riot!    Paramore     0   \n",
              "403      SOQBGZD12AB0184341  Rewind (Demo)         Riot!    Paramore     0   \n",
              "404      SOQBGZD12AB0184341  Rewind (Demo)         Riot!    Paramore     0   \n",
              "405      SOQBGZD12AB0184341  Rewind (Demo)         Riot!    Paramore     0   \n",
              "406      SOQBGZD12AB0184341  Rewind (Demo)         Riot!    Paramore     0   \n",
              "...                     ...            ...           ...         ...   ...   \n",
              "2085738  SOSRUEV12A8C136EC5    Bounce That  Night Ripper   Girl Talk     0   \n",
              "2085739  SOSRUEV12A8C136EC5    Bounce That  Night Ripper   Girl Talk     0   \n",
              "2085740  SOSRUEV12A8C136EC5    Bounce That  Night Ripper   Girl Talk     0   \n",
              "2085741  SOSRUEV12A8C136EC5    Bounce That  Night Ripper   Girl Talk     0   \n",
              "2085742  SOSRUEV12A8C136EC5    Bounce That  Night Ripper   Girl Talk     0   \n",
              "\n",
              "                                          user_id  listen_count  \n",
              "402      1b704d4cddabea8258bd93497fcb73eab32fa592             2  \n",
              "403      76235885b32c4e8c82760c340dc54f9b608d7d7e             1  \n",
              "404      cc2dc14c7dac1037a3beed1c9094a6d710f3ee98             6  \n",
              "405      fa40b11a2509c5e159bcb444890d9200aed0e268             1  \n",
              "406      c7205abbf880359a5f105b6040c910ad2ff9dfb7             1  \n",
              "...                                           ...           ...  \n",
              "2085738  746a8c19eff1d0d55f6ff844a92e572b81d0bac0             1  \n",
              "2085739  d13e7cd79e6b1cbf4bf1fc3f758b520ad2021fe4             1  \n",
              "2085740  763cd03c9b9b3bb88797c1eed65ae361c0bd9c57             1  \n",
              "2085741  7f601affb4b7d01e397ff620092d26cd7495e31d             1  \n",
              "2085742  5e822bca7bad373504c813b762c1d2fba3a250ff             1  \n",
              "\n",
              "[380170 rows x 7 columns]"
            ]
          },
          "execution_count": 121,
          "metadata": {},
          "output_type": "execute_result"
        }
      ],
      "source": [
        "all_data_df[all_data_df['year']==0]"
      ]
    },
    {
      "cell_type": "code",
      "execution_count": null,
      "metadata": {
        "id": "Em_WXRGzZ_OS"
      },
      "outputs": [],
      "source": [
        "#all_data_df[all_data_df['song_id']=='SOFCGSE12AF72A674F'].sort_values(by='listen_count',ascending=False)"
      ]
    },
    {
      "cell_type": "markdown",
      "metadata": {
        "id": "20oL_1VAZ_OS"
      },
      "source": [
        "### Song based analysis"
      ]
    },
    {
      "cell_type": "code",
      "execution_count": null,
      "metadata": {
        "id": "UYa1b6ivZ_OS"
      },
      "outputs": [],
      "source": [
        "#Dataframes created user_song_info,user_songs_df"
      ]
    },
    {
      "cell_type": "code",
      "execution_count": null,
      "metadata": {
        "id": "aLgDJJmQZ_OS"
      },
      "outputs": [],
      "source": [
        "song_groups = user_song_info.groupby('song_id')\n",
        "song_analysis = {'song_id':[],'total_plays':[],'average_listen_count':[],'total_listeners':[]}"
      ]
    },
    {
      "cell_type": "code",
      "execution_count": null,
      "metadata": {
        "id": "6BItdiLiZ_OS"
      },
      "outputs": [],
      "source": [
        "for song,song_df in song_groups:\n",
        "    song_analysis['song_id'].append(song)\n",
        "    total_listen_count = song_df['listen_count'].sum()\n",
        "    song_analysis['total_plays'].append(total_listen_count)\n",
        "    song_analysis['average_listen_count'].append(total_listen_count/song_df['user_id'].count())\n",
        "    song_analysis['total_listeners'].append(song_df['user_id'].count())"
      ]
    },
    {
      "cell_type": "code",
      "execution_count": null,
      "metadata": {
        "id": "Xt43gM6aZ_OS"
      },
      "outputs": [],
      "source": [
        "song_analysis_df = pd.DataFrame(song_analysis)"
      ]
    },
    {
      "cell_type": "code",
      "execution_count": null,
      "metadata": {
        "id": "oR24moF4Z_OS"
      },
      "outputs": [],
      "source": [
        "song_analysis_df = song_analysis_df.sort_values(by='total_plays',ascending=False)"
      ]
    },
    {
      "cell_type": "code",
      "execution_count": null,
      "metadata": {
        "id": "SrC4MOhzZ_OS",
        "outputId": "f1c1fd95-f1a8-4e89-fb7c-43e94bd8b295"
      },
      "outputs": [
        {
          "data": {
            "text/html": [
              "<div>\n",
              "<style scoped>\n",
              "    .dataframe tbody tr th:only-of-type {\n",
              "        vertical-align: middle;\n",
              "    }\n",
              "\n",
              "    .dataframe tbody tr th {\n",
              "        vertical-align: top;\n",
              "    }\n",
              "\n",
              "    .dataframe thead th {\n",
              "        text-align: right;\n",
              "    }\n",
              "</style>\n",
              "<table border=\"1\" class=\"dataframe\">\n",
              "  <thead>\n",
              "    <tr style=\"text-align: right;\">\n",
              "      <th></th>\n",
              "      <th>song_id</th>\n",
              "      <th>title</th>\n",
              "      <th>release</th>\n",
              "      <th>artist_name</th>\n",
              "      <th>year</th>\n",
              "    </tr>\n",
              "  </thead>\n",
              "  <tbody>\n",
              "    <tr>\n",
              "      <th>0</th>\n",
              "      <td>SOQMMHC12AB0180CB8</td>\n",
              "      <td>Silent Night</td>\n",
              "      <td>Monster Ballads X-Mas</td>\n",
              "      <td>Faster Pussy cat</td>\n",
              "      <td>2003</td>\n",
              "    </tr>\n",
              "    <tr>\n",
              "      <th>1</th>\n",
              "      <td>SOVFVAK12A8C1350D9</td>\n",
              "      <td>Tanssi vaan</td>\n",
              "      <td>Karkuteillä</td>\n",
              "      <td>Karkkiautomaatti</td>\n",
              "      <td>1995</td>\n",
              "    </tr>\n",
              "    <tr>\n",
              "      <th>2</th>\n",
              "      <td>SOGTUKN12AB017F4F1</td>\n",
              "      <td>No One Could Ever</td>\n",
              "      <td>Butter</td>\n",
              "      <td>Hudson Mohawke</td>\n",
              "      <td>2006</td>\n",
              "    </tr>\n",
              "    <tr>\n",
              "      <th>3</th>\n",
              "      <td>SOBNYVR12A8C13558C</td>\n",
              "      <td>Si Vos Querés</td>\n",
              "      <td>De Culo</td>\n",
              "      <td>Yerba Brava</td>\n",
              "      <td>2003</td>\n",
              "    </tr>\n",
              "    <tr>\n",
              "      <th>4</th>\n",
              "      <td>SOHSBXH12A8C13B0DF</td>\n",
              "      <td>Tangle Of Aspens</td>\n",
              "      <td>Rene Ablaze Presents Winter Sessions</td>\n",
              "      <td>Der Mystic</td>\n",
              "      <td>0</td>\n",
              "    </tr>\n",
              "    <tr>\n",
              "      <th>...</th>\n",
              "      <td>...</td>\n",
              "      <td>...</td>\n",
              "      <td>...</td>\n",
              "      <td>...</td>\n",
              "      <td>...</td>\n",
              "    </tr>\n",
              "    <tr>\n",
              "      <th>999995</th>\n",
              "      <td>SOTXAME12AB018F136</td>\n",
              "      <td>O Samba Da Vida</td>\n",
              "      <td>Pacha V.I.P.</td>\n",
              "      <td>Kiko Navarro</td>\n",
              "      <td>0</td>\n",
              "    </tr>\n",
              "    <tr>\n",
              "      <th>999996</th>\n",
              "      <td>SOXQYIQ12A8C137FBB</td>\n",
              "      <td>Jago Chhadeo</td>\n",
              "      <td>Naale Baba Lassi Pee Gya</td>\n",
              "      <td>Kuldeep Manak</td>\n",
              "      <td>0</td>\n",
              "    </tr>\n",
              "    <tr>\n",
              "      <th>999997</th>\n",
              "      <td>SOHODZI12A8C137BB3</td>\n",
              "      <td>Novemba</td>\n",
              "      <td>Dub_Connected: electronic music</td>\n",
              "      <td>Gabriel Le Mar</td>\n",
              "      <td>0</td>\n",
              "    </tr>\n",
              "    <tr>\n",
              "      <th>999998</th>\n",
              "      <td>SOLXGOR12A81C21EB7</td>\n",
              "      <td>Faraday</td>\n",
              "      <td>The Trance Collection Vol. 2</td>\n",
              "      <td>Elude</td>\n",
              "      <td>0</td>\n",
              "    </tr>\n",
              "    <tr>\n",
              "      <th>999999</th>\n",
              "      <td>SOWXJXQ12AB0189F43</td>\n",
              "      <td>Fernweh feat. Sektion Kuchikäschtli</td>\n",
              "      <td>So Oder So</td>\n",
              "      <td>Texta</td>\n",
              "      <td>2004</td>\n",
              "    </tr>\n",
              "  </tbody>\n",
              "</table>\n",
              "<p>999980 rows × 5 columns</p>\n",
              "</div>"
            ],
            "text/plain": [
              "                   song_id                                title  \\\n",
              "0       SOQMMHC12AB0180CB8                         Silent Night   \n",
              "1       SOVFVAK12A8C1350D9                          Tanssi vaan   \n",
              "2       SOGTUKN12AB017F4F1                    No One Could Ever   \n",
              "3       SOBNYVR12A8C13558C                        Si Vos Querés   \n",
              "4       SOHSBXH12A8C13B0DF                     Tangle Of Aspens   \n",
              "...                    ...                                  ...   \n",
              "999995  SOTXAME12AB018F136                      O Samba Da Vida   \n",
              "999996  SOXQYIQ12A8C137FBB                         Jago Chhadeo   \n",
              "999997  SOHODZI12A8C137BB3                              Novemba   \n",
              "999998  SOLXGOR12A81C21EB7                              Faraday   \n",
              "999999  SOWXJXQ12AB0189F43  Fernweh feat. Sektion Kuchikäschtli   \n",
              "\n",
              "                                     release       artist_name  year  \n",
              "0                      Monster Ballads X-Mas  Faster Pussy cat  2003  \n",
              "1                                Karkuteillä  Karkkiautomaatti  1995  \n",
              "2                                     Butter    Hudson Mohawke  2006  \n",
              "3                                    De Culo       Yerba Brava  2003  \n",
              "4       Rene Ablaze Presents Winter Sessions        Der Mystic     0  \n",
              "...                                      ...               ...   ...  \n",
              "999995                          Pacha V.I.P.      Kiko Navarro     0  \n",
              "999996              Naale Baba Lassi Pee Gya     Kuldeep Manak     0  \n",
              "999997       Dub_Connected: electronic music    Gabriel Le Mar     0  \n",
              "999998          The Trance Collection Vol. 2             Elude     0  \n",
              "999999                            So Oder So             Texta  2004  \n",
              "\n",
              "[999980 rows x 5 columns]"
            ]
          },
          "execution_count": 128,
          "metadata": {},
          "output_type": "execute_result"
        }
      ],
      "source": [
        "song_metadata"
      ]
    },
    {
      "cell_type": "code",
      "execution_count": null,
      "metadata": {
        "id": "0FudQ0mUZ_OS"
      },
      "outputs": [],
      "source": []
    },
    {
      "cell_type": "code",
      "execution_count": null,
      "metadata": {
        "id": "18xG3EDWZ_OS",
        "outputId": "3129d149-1bc6-4eab-d89a-7d4a7a3ad80a"
      },
      "outputs": [
        {
          "name": "stderr",
          "output_type": "stream",
          "text": [
            "C:\\Users\\class\\AppData\\Local\\Temp\\ipykernel_31884\\4020805410.py:2: SettingWithCopyWarning: \n",
            "A value is trying to be set on a copy of a slice from a DataFrame.\n",
            "Try using .loc[row_indexer,col_indexer] = value instead\n",
            "\n",
            "See the caveats in the documentation: https://pandas.pydata.org/pandas-docs/stable/user_guide/indexing.html#returning-a-view-versus-a-copy\n",
            "  song_id_title_mapping['title'] = song_id_title_mapping['title']\n"
          ]
        }
      ],
      "source": [
        "song_id_title_mapping = song_metadata[['song_id','title']]\n",
        "song_id_title_mapping['title'] = song_id_title_mapping['title']"
      ]
    },
    {
      "cell_type": "code",
      "execution_count": null,
      "metadata": {
        "id": "TmNcEgsxZ_OS"
      },
      "outputs": [],
      "source": [
        "song_analysis_df = pd.merge(song_analysis_df,song_id_title_mapping,on='song_id')"
      ]
    },
    {
      "cell_type": "code",
      "execution_count": null,
      "metadata": {
        "id": "b4nBS55pZ_OT",
        "outputId": "34e5ad4a-7fe7-4513-a470-b3aea2f70996"
      },
      "outputs": [
        {
          "name": "stdout",
          "output_type": "stream",
          "text": [
            "<class 'pandas.core.frame.DataFrame'>\n",
            "Int64Index: 10269 entries, 0 to 10268\n",
            "Data columns (total 5 columns):\n",
            " #   Column                Non-Null Count  Dtype  \n",
            "---  ------                --------------  -----  \n",
            " 0   song_id               10269 non-null  object \n",
            " 1   total_plays           10269 non-null  int64  \n",
            " 2   average_listen_count  10269 non-null  float64\n",
            " 3   total_listeners       10269 non-null  int64  \n",
            " 4   title                 10269 non-null  object \n",
            "dtypes: float64(1), int64(2), object(2)\n",
            "memory usage: 481.4+ KB\n"
          ]
        }
      ],
      "source": [
        "song_analysis_df.info()"
      ]
    },
    {
      "cell_type": "code",
      "execution_count": null,
      "metadata": {
        "id": "9j4lqv6aZ_OT"
      },
      "outputs": [],
      "source": [
        "song_analysis_df['title'] = song_analysis_df.title.str.strip()"
      ]
    },
    {
      "cell_type": "code",
      "execution_count": null,
      "metadata": {
        "id": "KBSddhvMZ_OT",
        "outputId": "f3de1878-043d-4ab6-9bdc-9d9b12a17109"
      },
      "outputs": [
        {
          "data": {
            "text/html": [
              "<div>\n",
              "<style scoped>\n",
              "    .dataframe tbody tr th:only-of-type {\n",
              "        vertical-align: middle;\n",
              "    }\n",
              "\n",
              "    .dataframe tbody tr th {\n",
              "        vertical-align: top;\n",
              "    }\n",
              "\n",
              "    .dataframe thead th {\n",
              "        text-align: right;\n",
              "    }\n",
              "</style>\n",
              "<table border=\"1\" class=\"dataframe\">\n",
              "  <thead>\n",
              "    <tr style=\"text-align: right;\">\n",
              "      <th></th>\n",
              "      <th>song_id</th>\n",
              "      <th>total_plays</th>\n",
              "      <th>average_listen_count</th>\n",
              "      <th>total_listeners</th>\n",
              "      <th>title</th>\n",
              "    </tr>\n",
              "  </thead>\n",
              "  <tbody>\n",
              "    <tr>\n",
              "      <th>0</th>\n",
              "      <td>SOBONKR12A58A7A7E0</td>\n",
              "      <td>54136</td>\n",
              "      <td>8.442920</td>\n",
              "      <td>6412</td>\n",
              "      <td>You're The One</td>\n",
              "    </tr>\n",
              "    <tr>\n",
              "      <th>1</th>\n",
              "      <td>SOAUWYT12A81C206F1</td>\n",
              "      <td>49253</td>\n",
              "      <td>7.004124</td>\n",
              "      <td>7032</td>\n",
              "      <td>Undo</td>\n",
              "    </tr>\n",
              "    <tr>\n",
              "      <th>2</th>\n",
              "      <td>SOSXLTC12AF72A7F54</td>\n",
              "      <td>41418</td>\n",
              "      <td>6.740114</td>\n",
              "      <td>6145</td>\n",
              "      <td>Revelry</td>\n",
              "    </tr>\n",
              "    <tr>\n",
              "      <th>3</th>\n",
              "      <td>SOEGIYH12A6D4FC0E3</td>\n",
              "      <td>31153</td>\n",
              "      <td>5.785144</td>\n",
              "      <td>5385</td>\n",
              "      <td>Horn Concerto No. 4 in E flat K495: II. Romanc...</td>\n",
              "    </tr>\n",
              "    <tr>\n",
              "      <th>4</th>\n",
              "      <td>SOFRQTD12A81C233C0</td>\n",
              "      <td>31036</td>\n",
              "      <td>3.749668</td>\n",
              "      <td>8277</td>\n",
              "      <td>Sehr kosmisch</td>\n",
              "    </tr>\n",
              "    <tr>\n",
              "      <th>...</th>\n",
              "      <td>...</td>\n",
              "      <td>...</td>\n",
              "      <td>...</td>\n",
              "      <td>...</td>\n",
              "      <td>...</td>\n",
              "    </tr>\n",
              "    <tr>\n",
              "      <th>10264</th>\n",
              "      <td>SOAKZQA12A6D4F80C1</td>\n",
              "      <td>76</td>\n",
              "      <td>1.169231</td>\n",
              "      <td>65</td>\n",
              "      <td>Summer In Dixie (LP Version)</td>\n",
              "    </tr>\n",
              "    <tr>\n",
              "      <th>10265</th>\n",
              "      <td>SOSLEFC12A6D4FC740</td>\n",
              "      <td>75</td>\n",
              "      <td>1.102941</td>\n",
              "      <td>68</td>\n",
              "      <td>Slan Le Maige</td>\n",
              "    </tr>\n",
              "    <tr>\n",
              "      <th>10266</th>\n",
              "      <td>SOENALO12AB01836F5</td>\n",
              "      <td>73</td>\n",
              "      <td>1.216667</td>\n",
              "      <td>60</td>\n",
              "      <td>Traveling Man</td>\n",
              "    </tr>\n",
              "    <tr>\n",
              "      <th>10267</th>\n",
              "      <td>SONQGQE12A670209BC</td>\n",
              "      <td>73</td>\n",
              "      <td>1.177419</td>\n",
              "      <td>62</td>\n",
              "      <td>Robot Rock (Soulwax Remix)</td>\n",
              "    </tr>\n",
              "    <tr>\n",
              "      <th>10268</th>\n",
              "      <td>SOJYVPY12A67ADE729</td>\n",
              "      <td>71</td>\n",
              "      <td>1.092308</td>\n",
              "      <td>65</td>\n",
              "      <td>clouding</td>\n",
              "    </tr>\n",
              "  </tbody>\n",
              "</table>\n",
              "<p>10269 rows × 5 columns</p>\n",
              "</div>"
            ],
            "text/plain": [
              "                  song_id  total_plays  average_listen_count  total_listeners  \\\n",
              "0      SOBONKR12A58A7A7E0        54136              8.442920             6412   \n",
              "1      SOAUWYT12A81C206F1        49253              7.004124             7032   \n",
              "2      SOSXLTC12AF72A7F54        41418              6.740114             6145   \n",
              "3      SOEGIYH12A6D4FC0E3        31153              5.785144             5385   \n",
              "4      SOFRQTD12A81C233C0        31036              3.749668             8277   \n",
              "...                   ...          ...                   ...              ...   \n",
              "10264  SOAKZQA12A6D4F80C1           76              1.169231               65   \n",
              "10265  SOSLEFC12A6D4FC740           75              1.102941               68   \n",
              "10266  SOENALO12AB01836F5           73              1.216667               60   \n",
              "10267  SONQGQE12A670209BC           73              1.177419               62   \n",
              "10268  SOJYVPY12A67ADE729           71              1.092308               65   \n",
              "\n",
              "                                                   title  \n",
              "0                                         You're The One  \n",
              "1                                                   Undo  \n",
              "2                                                Revelry  \n",
              "3      Horn Concerto No. 4 in E flat K495: II. Romanc...  \n",
              "4                                          Sehr kosmisch  \n",
              "...                                                  ...  \n",
              "10264                       Summer In Dixie (LP Version)  \n",
              "10265                                      Slan Le Maige  \n",
              "10266                                      Traveling Man  \n",
              "10267                         Robot Rock (Soulwax Remix)  \n",
              "10268                                           clouding  \n",
              "\n",
              "[10269 rows x 5 columns]"
            ]
          },
          "execution_count": 133,
          "metadata": {},
          "output_type": "execute_result"
        }
      ],
      "source": [
        "song_analysis_df.dropna(inplace=True)\n",
        "song_analysis_df"
      ]
    },
    {
      "cell_type": "code",
      "execution_count": null,
      "metadata": {
        "id": "QKJm8t54Z_OT",
        "outputId": "6f52e9db-c4f4-405a-8b09-a5a47a8e0749"
      },
      "outputs": [
        {
          "data": {
            "text/plain": [
              "song_id                 10000\n",
              "total_plays              1757\n",
              "average_listen_count     8227\n",
              "total_listeners           824\n",
              "title                    9593\n",
              "dtype: int64"
            ]
          },
          "execution_count": 134,
          "metadata": {},
          "output_type": "execute_result"
        }
      ],
      "source": [
        "song_analysis_df.nunique()"
      ]
    },
    {
      "cell_type": "code",
      "execution_count": null,
      "metadata": {
        "id": "DroBHZMgZ_OT"
      },
      "outputs": [],
      "source": []
    },
    {
      "cell_type": "code",
      "execution_count": null,
      "metadata": {
        "id": "KW-2M4t-Z_OT"
      },
      "outputs": [],
      "source": []
    },
    {
      "cell_type": "markdown",
      "metadata": {
        "id": "zyiPJCykZ_OT"
      },
      "source": [
        "### Title - song_id analysis"
      ]
    },
    {
      "cell_type": "code",
      "execution_count": null,
      "metadata": {
        "id": "iRKPG6uDZ_OT"
      },
      "outputs": [],
      "source": [
        "title_analysis = {'title':[],'songs_associated':[],'song_count':[]}"
      ]
    },
    {
      "cell_type": "code",
      "execution_count": null,
      "metadata": {
        "id": "qIaYARMWZ_OU"
      },
      "outputs": [],
      "source": [
        "title_group = song_analysis_df.groupby('title')\n",
        "\n",
        "for title,title_df in title_group:\n",
        "    title_analysis['title'].append(title)\n",
        "    song_id = title_df['song_id']\n",
        "    title_analysis['songs_associated'].append(list(set(song_id)))\n",
        "    title_analysis['song_count'].append(len(set(song_id)))"
      ]
    },
    {
      "cell_type": "code",
      "execution_count": null,
      "metadata": {
        "id": "5bf22X83Z_OU"
      },
      "outputs": [],
      "source": [
        "title_analysis_df = pd.DataFrame(title_analysis)"
      ]
    },
    {
      "cell_type": "code",
      "execution_count": null,
      "metadata": {
        "id": "bA81ndaKZ_OU",
        "outputId": "70fd2fd7-23c2-4618-a922-aeaab91a684a"
      },
      "outputs": [
        {
          "data": {
            "text/html": [
              "<div>\n",
              "<style scoped>\n",
              "    .dataframe tbody tr th:only-of-type {\n",
              "        vertical-align: middle;\n",
              "    }\n",
              "\n",
              "    .dataframe tbody tr th {\n",
              "        vertical-align: top;\n",
              "    }\n",
              "\n",
              "    .dataframe thead th {\n",
              "        text-align: right;\n",
              "    }\n",
              "</style>\n",
              "<table border=\"1\" class=\"dataframe\">\n",
              "  <thead>\n",
              "    <tr style=\"text-align: right;\">\n",
              "      <th></th>\n",
              "      <th>title</th>\n",
              "      <th>songs_associated</th>\n",
              "      <th>song_count</th>\n",
              "    </tr>\n",
              "  </thead>\n",
              "  <tbody>\n",
              "    <tr>\n",
              "      <th>1087</th>\n",
              "      <td>Breathe</td>\n",
              "      <td>[SOJDNPX12A6310E10F, SOEUORE12A8C13953D, SONNB...</td>\n",
              "      <td>8</td>\n",
              "    </tr>\n",
              "    <tr>\n",
              "      <th>740</th>\n",
              "      <td>Beautiful</td>\n",
              "      <td>[SOZWVZW12AF72A0E04, SOSUADS12A58A80A47, SOGXE...</td>\n",
              "      <td>6</td>\n",
              "    </tr>\n",
              "    <tr>\n",
              "      <th>3391</th>\n",
              "      <td>Hold On</td>\n",
              "      <td>[SOPILMY12A8151AB6A, SOFKTPP12A8C1385CA, SOVOL...</td>\n",
              "      <td>5</td>\n",
              "    </tr>\n",
              "    <tr>\n",
              "      <th>3508</th>\n",
              "      <td>Human</td>\n",
              "      <td>[SOSDNSV12AB0181074, SOWYUCN12A8C144790, SOJWF...</td>\n",
              "      <td>5</td>\n",
              "    </tr>\n",
              "    <tr>\n",
              "      <th>3409</th>\n",
              "      <td>Holiday</td>\n",
              "      <td>[SOEWAKD12AB01860D5, SOXHHAO12A8C139833, SOMZI...</td>\n",
              "      <td>4</td>\n",
              "    </tr>\n",
              "    <tr>\n",
              "      <th>...</th>\n",
              "      <td>...</td>\n",
              "      <td>...</td>\n",
              "      <td>...</td>\n",
              "    </tr>\n",
              "    <tr>\n",
              "      <th>3265</th>\n",
              "      <td>Hell Breaks Loose</td>\n",
              "      <td>[SOMCYXR12AB01897B4]</td>\n",
              "      <td>1</td>\n",
              "    </tr>\n",
              "    <tr>\n",
              "      <th>3266</th>\n",
              "      <td>Hell On The Heart</td>\n",
              "      <td>[SOIWPRZ12AB018244E]</td>\n",
              "      <td>1</td>\n",
              "    </tr>\n",
              "    <tr>\n",
              "      <th>3267</th>\n",
              "      <td>Hell Yeah Featuring P. Diddy (Explicit Album V...</td>\n",
              "      <td>[SOHNYSV12AF729EADD]</td>\n",
              "      <td>1</td>\n",
              "    </tr>\n",
              "    <tr>\n",
              "      <th>3268</th>\n",
              "      <td>Hell Yes</td>\n",
              "      <td>[SOGIPOB12A6701CC4A]</td>\n",
              "      <td>1</td>\n",
              "    </tr>\n",
              "    <tr>\n",
              "      <th>9592</th>\n",
              "      <td>Época</td>\n",
              "      <td>[SOGNKVE12A8C13E9EE]</td>\n",
              "      <td>1</td>\n",
              "    </tr>\n",
              "  </tbody>\n",
              "</table>\n",
              "<p>9593 rows × 3 columns</p>\n",
              "</div>"
            ],
            "text/plain": [
              "                                                  title  \\\n",
              "1087                                            Breathe   \n",
              "740                                           Beautiful   \n",
              "3391                                            Hold On   \n",
              "3508                                              Human   \n",
              "3409                                            Holiday   \n",
              "...                                                 ...   \n",
              "3265                                  Hell Breaks Loose   \n",
              "3266                                  Hell On The Heart   \n",
              "3267  Hell Yeah Featuring P. Diddy (Explicit Album V...   \n",
              "3268                                           Hell Yes   \n",
              "9592                                              Época   \n",
              "\n",
              "                                       songs_associated  song_count  \n",
              "1087  [SOJDNPX12A6310E10F, SOEUORE12A8C13953D, SONNB...           8  \n",
              "740   [SOZWVZW12AF72A0E04, SOSUADS12A58A80A47, SOGXE...           6  \n",
              "3391  [SOPILMY12A8151AB6A, SOFKTPP12A8C1385CA, SOVOL...           5  \n",
              "3508  [SOSDNSV12AB0181074, SOWYUCN12A8C144790, SOJWF...           5  \n",
              "3409  [SOEWAKD12AB01860D5, SOXHHAO12A8C139833, SOMZI...           4  \n",
              "...                                                 ...         ...  \n",
              "3265                               [SOMCYXR12AB01897B4]           1  \n",
              "3266                               [SOIWPRZ12AB018244E]           1  \n",
              "3267                               [SOHNYSV12AF729EADD]           1  \n",
              "3268                               [SOGIPOB12A6701CC4A]           1  \n",
              "9592                               [SOGNKVE12A8C13E9EE]           1  \n",
              "\n",
              "[9593 rows x 3 columns]"
            ]
          },
          "execution_count": 138,
          "metadata": {},
          "output_type": "execute_result"
        }
      ],
      "source": [
        "title_analysis_df.sort_values('song_count',ascending=False)"
      ]
    },
    {
      "cell_type": "code",
      "execution_count": null,
      "metadata": {
        "id": "oK2vmkf0Z_OU",
        "outputId": "d78b1b3d-c751-48ed-f6f5-f0574da4ec36"
      },
      "outputs": [
        {
          "data": {
            "text/html": [
              "<div>\n",
              "<style scoped>\n",
              "    .dataframe tbody tr th:only-of-type {\n",
              "        vertical-align: middle;\n",
              "    }\n",
              "\n",
              "    .dataframe tbody tr th {\n",
              "        vertical-align: top;\n",
              "    }\n",
              "\n",
              "    .dataframe thead th {\n",
              "        text-align: right;\n",
              "    }\n",
              "</style>\n",
              "<table border=\"1\" class=\"dataframe\">\n",
              "  <thead>\n",
              "    <tr style=\"text-align: right;\">\n",
              "      <th></th>\n",
              "      <th>song_count</th>\n",
              "    </tr>\n",
              "  </thead>\n",
              "  <tbody>\n",
              "    <tr>\n",
              "      <th>count</th>\n",
              "      <td>9593.000000</td>\n",
              "    </tr>\n",
              "    <tr>\n",
              "      <th>mean</th>\n",
              "      <td>1.045658</td>\n",
              "    </tr>\n",
              "    <tr>\n",
              "      <th>std</th>\n",
              "      <td>0.260717</td>\n",
              "    </tr>\n",
              "    <tr>\n",
              "      <th>min</th>\n",
              "      <td>1.000000</td>\n",
              "    </tr>\n",
              "    <tr>\n",
              "      <th>25%</th>\n",
              "      <td>1.000000</td>\n",
              "    </tr>\n",
              "    <tr>\n",
              "      <th>50%</th>\n",
              "      <td>1.000000</td>\n",
              "    </tr>\n",
              "    <tr>\n",
              "      <th>75%</th>\n",
              "      <td>1.000000</td>\n",
              "    </tr>\n",
              "    <tr>\n",
              "      <th>max</th>\n",
              "      <td>8.000000</td>\n",
              "    </tr>\n",
              "  </tbody>\n",
              "</table>\n",
              "</div>"
            ],
            "text/plain": [
              "        song_count\n",
              "count  9593.000000\n",
              "mean      1.045658\n",
              "std       0.260717\n",
              "min       1.000000\n",
              "25%       1.000000\n",
              "50%       1.000000\n",
              "75%       1.000000\n",
              "max       8.000000"
            ]
          },
          "execution_count": 139,
          "metadata": {},
          "output_type": "execute_result"
        }
      ],
      "source": [
        "title_analysis_df.describe()"
      ]
    },
    {
      "cell_type": "markdown",
      "metadata": {
        "id": "J642rjTbZ_OU"
      },
      "source": [
        "### Title - song_id analysis ends"
      ]
    },
    {
      "cell_type": "code",
      "execution_count": null,
      "metadata": {
        "id": "bhbWwENuZ_OV"
      },
      "outputs": [],
      "source": []
    },
    {
      "cell_type": "code",
      "execution_count": null,
      "metadata": {
        "id": "uIiiufT9Z_OV"
      },
      "outputs": [],
      "source": []
    },
    {
      "cell_type": "markdown",
      "metadata": {
        "id": "BMNBSeFTZ_OV"
      },
      "source": [
        "### Song id  - title mapping adjustment"
      ]
    },
    {
      "cell_type": "code",
      "execution_count": null,
      "metadata": {
        "id": "yH_lmwHpZ_OV",
        "outputId": "9bf9aa60-e704-4520-e97e-489d6613ce81"
      },
      "outputs": [
        {
          "data": {
            "text/html": [
              "<div>\n",
              "<style scoped>\n",
              "    .dataframe tbody tr th:only-of-type {\n",
              "        vertical-align: middle;\n",
              "    }\n",
              "\n",
              "    .dataframe tbody tr th {\n",
              "        vertical-align: top;\n",
              "    }\n",
              "\n",
              "    .dataframe thead th {\n",
              "        text-align: right;\n",
              "    }\n",
              "</style>\n",
              "<table border=\"1\" class=\"dataframe\">\n",
              "  <thead>\n",
              "    <tr style=\"text-align: right;\">\n",
              "      <th></th>\n",
              "      <th>song_id</th>\n",
              "      <th>total_plays</th>\n",
              "      <th>average_listen_count</th>\n",
              "      <th>total_listeners</th>\n",
              "      <th>title</th>\n",
              "    </tr>\n",
              "  </thead>\n",
              "  <tbody>\n",
              "    <tr>\n",
              "      <th>0</th>\n",
              "      <td>SOBONKR12A58A7A7E0</td>\n",
              "      <td>54136</td>\n",
              "      <td>8.442920</td>\n",
              "      <td>6412</td>\n",
              "      <td>You're The One</td>\n",
              "    </tr>\n",
              "    <tr>\n",
              "      <th>1</th>\n",
              "      <td>SOAUWYT12A81C206F1</td>\n",
              "      <td>49253</td>\n",
              "      <td>7.004124</td>\n",
              "      <td>7032</td>\n",
              "      <td>Undo</td>\n",
              "    </tr>\n",
              "    <tr>\n",
              "      <th>2</th>\n",
              "      <td>SOSXLTC12AF72A7F54</td>\n",
              "      <td>41418</td>\n",
              "      <td>6.740114</td>\n",
              "      <td>6145</td>\n",
              "      <td>Revelry</td>\n",
              "    </tr>\n",
              "    <tr>\n",
              "      <th>3</th>\n",
              "      <td>SOEGIYH12A6D4FC0E3</td>\n",
              "      <td>31153</td>\n",
              "      <td>5.785144</td>\n",
              "      <td>5385</td>\n",
              "      <td>Horn Concerto No. 4 in E flat K495: II. Romanc...</td>\n",
              "    </tr>\n",
              "    <tr>\n",
              "      <th>4</th>\n",
              "      <td>SOFRQTD12A81C233C0</td>\n",
              "      <td>31036</td>\n",
              "      <td>3.749668</td>\n",
              "      <td>8277</td>\n",
              "      <td>Sehr kosmisch</td>\n",
              "    </tr>\n",
              "    <tr>\n",
              "      <th>...</th>\n",
              "      <td>...</td>\n",
              "      <td>...</td>\n",
              "      <td>...</td>\n",
              "      <td>...</td>\n",
              "      <td>...</td>\n",
              "    </tr>\n",
              "    <tr>\n",
              "      <th>10264</th>\n",
              "      <td>SOAKZQA12A6D4F80C1</td>\n",
              "      <td>76</td>\n",
              "      <td>1.169231</td>\n",
              "      <td>65</td>\n",
              "      <td>Summer In Dixie (LP Version)</td>\n",
              "    </tr>\n",
              "    <tr>\n",
              "      <th>10265</th>\n",
              "      <td>SOSLEFC12A6D4FC740</td>\n",
              "      <td>75</td>\n",
              "      <td>1.102941</td>\n",
              "      <td>68</td>\n",
              "      <td>Slan Le Maige</td>\n",
              "    </tr>\n",
              "    <tr>\n",
              "      <th>10266</th>\n",
              "      <td>SOENALO12AB01836F5</td>\n",
              "      <td>73</td>\n",
              "      <td>1.216667</td>\n",
              "      <td>60</td>\n",
              "      <td>Traveling Man</td>\n",
              "    </tr>\n",
              "    <tr>\n",
              "      <th>10267</th>\n",
              "      <td>SONQGQE12A670209BC</td>\n",
              "      <td>73</td>\n",
              "      <td>1.177419</td>\n",
              "      <td>62</td>\n",
              "      <td>Robot Rock (Soulwax Remix)</td>\n",
              "    </tr>\n",
              "    <tr>\n",
              "      <th>10268</th>\n",
              "      <td>SOJYVPY12A67ADE729</td>\n",
              "      <td>71</td>\n",
              "      <td>1.092308</td>\n",
              "      <td>65</td>\n",
              "      <td>clouding</td>\n",
              "    </tr>\n",
              "  </tbody>\n",
              "</table>\n",
              "<p>10269 rows × 5 columns</p>\n",
              "</div>"
            ],
            "text/plain": [
              "                  song_id  total_plays  average_listen_count  total_listeners  \\\n",
              "0      SOBONKR12A58A7A7E0        54136              8.442920             6412   \n",
              "1      SOAUWYT12A81C206F1        49253              7.004124             7032   \n",
              "2      SOSXLTC12AF72A7F54        41418              6.740114             6145   \n",
              "3      SOEGIYH12A6D4FC0E3        31153              5.785144             5385   \n",
              "4      SOFRQTD12A81C233C0        31036              3.749668             8277   \n",
              "...                   ...          ...                   ...              ...   \n",
              "10264  SOAKZQA12A6D4F80C1           76              1.169231               65   \n",
              "10265  SOSLEFC12A6D4FC740           75              1.102941               68   \n",
              "10266  SOENALO12AB01836F5           73              1.216667               60   \n",
              "10267  SONQGQE12A670209BC           73              1.177419               62   \n",
              "10268  SOJYVPY12A67ADE729           71              1.092308               65   \n",
              "\n",
              "                                                   title  \n",
              "0                                         You're The One  \n",
              "1                                                   Undo  \n",
              "2                                                Revelry  \n",
              "3      Horn Concerto No. 4 in E flat K495: II. Romanc...  \n",
              "4                                          Sehr kosmisch  \n",
              "...                                                  ...  \n",
              "10264                       Summer In Dixie (LP Version)  \n",
              "10265                                      Slan Le Maige  \n",
              "10266                                      Traveling Man  \n",
              "10267                         Robot Rock (Soulwax Remix)  \n",
              "10268                                           clouding  \n",
              "\n",
              "[10269 rows x 5 columns]"
            ]
          },
          "execution_count": 140,
          "metadata": {},
          "output_type": "execute_result"
        }
      ],
      "source": [
        "song_analysis_df"
      ]
    },
    {
      "cell_type": "code",
      "execution_count": null,
      "metadata": {
        "id": "igDE5rQMZ_OV"
      },
      "outputs": [],
      "source": [
        "song_analysis_df = pd.merge(song_analysis_df,song_metadata[['song_id','release','artist_name','year']],on='song_id')"
      ]
    },
    {
      "cell_type": "code",
      "execution_count": null,
      "metadata": {
        "id": "JQ4_9xDxZ_OV",
        "outputId": "12b633f3-c609-4368-a950-654bc5cace9a"
      },
      "outputs": [
        {
          "data": {
            "text/plain": [
              "song_id                 10000\n",
              "total_plays              1757\n",
              "average_listen_count     8227\n",
              "total_listeners           824\n",
              "title                    9593\n",
              "release                  5445\n",
              "artist_name              3379\n",
              "year                       58\n",
              "dtype: int64"
            ]
          },
          "execution_count": 142,
          "metadata": {},
          "output_type": "execute_result"
        }
      ],
      "source": [
        "song_analysis_df.nunique()"
      ]
    },
    {
      "cell_type": "code",
      "execution_count": null,
      "metadata": {
        "id": "pr7GHCfIZ_OV"
      },
      "outputs": [],
      "source": [
        "song_analysis_df['title_artist'] = song_analysis_df['title']+'_'+song_analysis_df['artist_name']"
      ]
    },
    {
      "cell_type": "code",
      "execution_count": null,
      "metadata": {
        "id": "MmYOqU2nZ_OV",
        "outputId": "dc4429f4-46b4-4463-977a-8f5f90c5cc68"
      },
      "outputs": [
        {
          "data": {
            "text/html": [
              "<div>\n",
              "<style scoped>\n",
              "    .dataframe tbody tr th:only-of-type {\n",
              "        vertical-align: middle;\n",
              "    }\n",
              "\n",
              "    .dataframe tbody tr th {\n",
              "        vertical-align: top;\n",
              "    }\n",
              "\n",
              "    .dataframe thead th {\n",
              "        text-align: right;\n",
              "    }\n",
              "</style>\n",
              "<table border=\"1\" class=\"dataframe\">\n",
              "  <thead>\n",
              "    <tr style=\"text-align: right;\">\n",
              "      <th></th>\n",
              "      <th>song_id</th>\n",
              "      <th>total_plays</th>\n",
              "      <th>average_listen_count</th>\n",
              "      <th>total_listeners</th>\n",
              "      <th>title</th>\n",
              "      <th>release</th>\n",
              "      <th>artist_name</th>\n",
              "      <th>year</th>\n",
              "      <th>title_artist</th>\n",
              "    </tr>\n",
              "  </thead>\n",
              "  <tbody>\n",
              "    <tr>\n",
              "      <th>0</th>\n",
              "      <td>SOBONKR12A58A7A7E0</td>\n",
              "      <td>54136</td>\n",
              "      <td>8.442920</td>\n",
              "      <td>6412</td>\n",
              "      <td>You're The One</td>\n",
              "      <td>If There Was A Way</td>\n",
              "      <td>Dwight Yoakam</td>\n",
              "      <td>1990</td>\n",
              "      <td>You're The One_Dwight Yoakam</td>\n",
              "    </tr>\n",
              "    <tr>\n",
              "      <th>1</th>\n",
              "      <td>SOAUWYT12A81C206F1</td>\n",
              "      <td>49253</td>\n",
              "      <td>7.004124</td>\n",
              "      <td>7032</td>\n",
              "      <td>Undo</td>\n",
              "      <td>Vespertine Live</td>\n",
              "      <td>Björk</td>\n",
              "      <td>2001</td>\n",
              "      <td>Undo_Björk</td>\n",
              "    </tr>\n",
              "    <tr>\n",
              "      <th>2</th>\n",
              "      <td>SOSXLTC12AF72A7F54</td>\n",
              "      <td>41418</td>\n",
              "      <td>6.740114</td>\n",
              "      <td>6145</td>\n",
              "      <td>Revelry</td>\n",
              "      <td>Only By The Night</td>\n",
              "      <td>Kings Of Leon</td>\n",
              "      <td>2008</td>\n",
              "      <td>Revelry_Kings Of Leon</td>\n",
              "    </tr>\n",
              "    <tr>\n",
              "      <th>3</th>\n",
              "      <td>SOEGIYH12A6D4FC0E3</td>\n",
              "      <td>31153</td>\n",
              "      <td>5.785144</td>\n",
              "      <td>5385</td>\n",
              "      <td>Horn Concerto No. 4 in E flat K495: II. Romanc...</td>\n",
              "      <td>Mozart - Eine kleine Nachtmusik</td>\n",
              "      <td>Barry Tuckwell/Academy of St Martin-in-the-Fie...</td>\n",
              "      <td>0</td>\n",
              "      <td>Horn Concerto No. 4 in E flat K495: II. Romanc...</td>\n",
              "    </tr>\n",
              "    <tr>\n",
              "      <th>4</th>\n",
              "      <td>SOFRQTD12A81C233C0</td>\n",
              "      <td>31036</td>\n",
              "      <td>3.749668</td>\n",
              "      <td>8277</td>\n",
              "      <td>Sehr kosmisch</td>\n",
              "      <td>Musik von Harmonia</td>\n",
              "      <td>Harmonia</td>\n",
              "      <td>0</td>\n",
              "      <td>Sehr kosmisch_Harmonia</td>\n",
              "    </tr>\n",
              "    <tr>\n",
              "      <th>...</th>\n",
              "      <td>...</td>\n",
              "      <td>...</td>\n",
              "      <td>...</td>\n",
              "      <td>...</td>\n",
              "      <td>...</td>\n",
              "      <td>...</td>\n",
              "      <td>...</td>\n",
              "      <td>...</td>\n",
              "      <td>...</td>\n",
              "    </tr>\n",
              "    <tr>\n",
              "      <th>10838</th>\n",
              "      <td>SOAKZQA12A6D4F80C1</td>\n",
              "      <td>76</td>\n",
              "      <td>1.169231</td>\n",
              "      <td>65</td>\n",
              "      <td>Summer In Dixie (LP Version)</td>\n",
              "      <td>Notorious</td>\n",
              "      <td>Confederate Railroad</td>\n",
              "      <td>1994</td>\n",
              "      <td>Summer In Dixie (LP Version)_Confederate Railroad</td>\n",
              "    </tr>\n",
              "    <tr>\n",
              "      <th>10839</th>\n",
              "      <td>SOSLEFC12A6D4FC740</td>\n",
              "      <td>75</td>\n",
              "      <td>1.102941</td>\n",
              "      <td>68</td>\n",
              "      <td>Slan Le Maige</td>\n",
              "      <td>Heroes</td>\n",
              "      <td>Reel Feelings</td>\n",
              "      <td>0</td>\n",
              "      <td>Slan Le Maige_Reel Feelings</td>\n",
              "    </tr>\n",
              "    <tr>\n",
              "      <th>10840</th>\n",
              "      <td>SOENALO12AB01836F5</td>\n",
              "      <td>73</td>\n",
              "      <td>1.216667</td>\n",
              "      <td>60</td>\n",
              "      <td>Traveling Man</td>\n",
              "      <td>Spirits All Around Us</td>\n",
              "      <td>John Brown's Body</td>\n",
              "      <td>2001</td>\n",
              "      <td>Traveling Man_John Brown's Body</td>\n",
              "    </tr>\n",
              "    <tr>\n",
              "      <th>10841</th>\n",
              "      <td>SONQGQE12A670209BC</td>\n",
              "      <td>73</td>\n",
              "      <td>1.177419</td>\n",
              "      <td>62</td>\n",
              "      <td>Robot Rock (Soulwax Remix)</td>\n",
              "      <td>Robot Rock</td>\n",
              "      <td>Daft Punk</td>\n",
              "      <td>2005</td>\n",
              "      <td>Robot Rock (Soulwax Remix)_Daft Punk</td>\n",
              "    </tr>\n",
              "    <tr>\n",
              "      <th>10842</th>\n",
              "      <td>SOJYVPY12A67ADE729</td>\n",
              "      <td>71</td>\n",
              "      <td>1.092308</td>\n",
              "      <td>65</td>\n",
              "      <td>clouding</td>\n",
              "      <td>Everything Ecstatic</td>\n",
              "      <td>Four Tet</td>\n",
              "      <td>2005</td>\n",
              "      <td>clouding_Four Tet</td>\n",
              "    </tr>\n",
              "  </tbody>\n",
              "</table>\n",
              "<p>10843 rows × 9 columns</p>\n",
              "</div>"
            ],
            "text/plain": [
              "                  song_id  total_plays  average_listen_count  total_listeners  \\\n",
              "0      SOBONKR12A58A7A7E0        54136              8.442920             6412   \n",
              "1      SOAUWYT12A81C206F1        49253              7.004124             7032   \n",
              "2      SOSXLTC12AF72A7F54        41418              6.740114             6145   \n",
              "3      SOEGIYH12A6D4FC0E3        31153              5.785144             5385   \n",
              "4      SOFRQTD12A81C233C0        31036              3.749668             8277   \n",
              "...                   ...          ...                   ...              ...   \n",
              "10838  SOAKZQA12A6D4F80C1           76              1.169231               65   \n",
              "10839  SOSLEFC12A6D4FC740           75              1.102941               68   \n",
              "10840  SOENALO12AB01836F5           73              1.216667               60   \n",
              "10841  SONQGQE12A670209BC           73              1.177419               62   \n",
              "10842  SOJYVPY12A67ADE729           71              1.092308               65   \n",
              "\n",
              "                                                   title  \\\n",
              "0                                         You're The One   \n",
              "1                                                   Undo   \n",
              "2                                                Revelry   \n",
              "3      Horn Concerto No. 4 in E flat K495: II. Romanc...   \n",
              "4                                          Sehr kosmisch   \n",
              "...                                                  ...   \n",
              "10838                       Summer In Dixie (LP Version)   \n",
              "10839                                      Slan Le Maige   \n",
              "10840                                      Traveling Man   \n",
              "10841                         Robot Rock (Soulwax Remix)   \n",
              "10842                                           clouding   \n",
              "\n",
              "                               release  \\\n",
              "0                   If There Was A Way   \n",
              "1                      Vespertine Live   \n",
              "2                    Only By The Night   \n",
              "3      Mozart - Eine kleine Nachtmusik   \n",
              "4                   Musik von Harmonia   \n",
              "...                                ...   \n",
              "10838                        Notorious   \n",
              "10839                           Heroes   \n",
              "10840            Spirits All Around Us   \n",
              "10841                       Robot Rock   \n",
              "10842              Everything Ecstatic   \n",
              "\n",
              "                                             artist_name  year  \\\n",
              "0                                          Dwight Yoakam  1990   \n",
              "1                                                  Björk  2001   \n",
              "2                                          Kings Of Leon  2008   \n",
              "3      Barry Tuckwell/Academy of St Martin-in-the-Fie...     0   \n",
              "4                                               Harmonia     0   \n",
              "...                                                  ...   ...   \n",
              "10838                               Confederate Railroad  1994   \n",
              "10839                                      Reel Feelings     0   \n",
              "10840                                  John Brown's Body  2001   \n",
              "10841                                          Daft Punk  2005   \n",
              "10842                                           Four Tet  2005   \n",
              "\n",
              "                                            title_artist  \n",
              "0                           You're The One_Dwight Yoakam  \n",
              "1                                             Undo_Björk  \n",
              "2                                  Revelry_Kings Of Leon  \n",
              "3      Horn Concerto No. 4 in E flat K495: II. Romanc...  \n",
              "4                                 Sehr kosmisch_Harmonia  \n",
              "...                                                  ...  \n",
              "10838  Summer In Dixie (LP Version)_Confederate Railroad  \n",
              "10839                        Slan Le Maige_Reel Feelings  \n",
              "10840                    Traveling Man_John Brown's Body  \n",
              "10841               Robot Rock (Soulwax Remix)_Daft Punk  \n",
              "10842                                  clouding_Four Tet  \n",
              "\n",
              "[10843 rows x 9 columns]"
            ]
          },
          "execution_count": 144,
          "metadata": {},
          "output_type": "execute_result"
        }
      ],
      "source": [
        "song_analysis_df"
      ]
    },
    {
      "cell_type": "code",
      "execution_count": null,
      "metadata": {
        "id": "l8eceTLvZ_OV",
        "outputId": "a0a068e9-a93f-4b9b-d50e-476de08f669a"
      },
      "outputs": [
        {
          "data": {
            "text/plain": [
              "song_id                 10000\n",
              "total_plays              1757\n",
              "average_listen_count     8227\n",
              "total_listeners           824\n",
              "title                    9593\n",
              "release                  5445\n",
              "artist_name              3379\n",
              "year                       58\n",
              "title_artist             9988\n",
              "dtype: int64"
            ]
          },
          "execution_count": 145,
          "metadata": {},
          "output_type": "execute_result"
        }
      ],
      "source": [
        "song_analysis_df.nunique()"
      ]
    },
    {
      "cell_type": "code",
      "execution_count": null,
      "metadata": {
        "id": "8MtKCYquZ_OV"
      },
      "outputs": [],
      "source": []
    },
    {
      "cell_type": "code",
      "execution_count": null,
      "metadata": {
        "id": "wS2Xj9jzZ_OV",
        "outputId": "fb3d62b3-0f63-49b4-bd9a-81441df20c5f"
      },
      "outputs": [
        {
          "data": {
            "text/html": [
              "<div>\n",
              "<style scoped>\n",
              "    .dataframe tbody tr th:only-of-type {\n",
              "        vertical-align: middle;\n",
              "    }\n",
              "\n",
              "    .dataframe tbody tr th {\n",
              "        vertical-align: top;\n",
              "    }\n",
              "\n",
              "    .dataframe thead th {\n",
              "        text-align: right;\n",
              "    }\n",
              "</style>\n",
              "<table border=\"1\" class=\"dataframe\">\n",
              "  <thead>\n",
              "    <tr style=\"text-align: right;\">\n",
              "      <th></th>\n",
              "      <th>total_plays</th>\n",
              "      <th>average_listen_count</th>\n",
              "      <th>total_listeners</th>\n",
              "      <th>year</th>\n",
              "    </tr>\n",
              "  </thead>\n",
              "  <tbody>\n",
              "    <tr>\n",
              "      <th>count</th>\n",
              "      <td>10843.000000</td>\n",
              "      <td>10843.000000</td>\n",
              "      <td>10843.000000</td>\n",
              "      <td>10843.000000</td>\n",
              "    </tr>\n",
              "    <tr>\n",
              "      <th>mean</th>\n",
              "      <td>629.346214</td>\n",
              "      <td>2.843654</td>\n",
              "      <td>209.315872</td>\n",
              "      <td>1655.435304</td>\n",
              "    </tr>\n",
              "    <tr>\n",
              "      <th>std</th>\n",
              "      <td>1398.352862</td>\n",
              "      <td>1.244164</td>\n",
              "      <td>332.429046</td>\n",
              "      <td>756.056709</td>\n",
              "    </tr>\n",
              "    <tr>\n",
              "      <th>min</th>\n",
              "      <td>71.000000</td>\n",
              "      <td>1.061728</td>\n",
              "      <td>48.000000</td>\n",
              "      <td>0.000000</td>\n",
              "    </tr>\n",
              "    <tr>\n",
              "      <th>25%</th>\n",
              "      <td>224.000000</td>\n",
              "      <td>2.054054</td>\n",
              "      <td>90.000000</td>\n",
              "      <td>1986.000000</td>\n",
              "    </tr>\n",
              "    <tr>\n",
              "      <th>50%</th>\n",
              "      <td>344.000000</td>\n",
              "      <td>2.595745</td>\n",
              "      <td>127.000000</td>\n",
              "      <td>2002.000000</td>\n",
              "    </tr>\n",
              "    <tr>\n",
              "      <th>75%</th>\n",
              "      <td>606.000000</td>\n",
              "      <td>3.255002</td>\n",
              "      <td>209.000000</td>\n",
              "      <td>2007.000000</td>\n",
              "    </tr>\n",
              "    <tr>\n",
              "      <th>90%</th>\n",
              "      <td>1121.000000</td>\n",
              "      <td>4.283376</td>\n",
              "      <td>363.000000</td>\n",
              "      <td>2008.000000</td>\n",
              "    </tr>\n",
              "    <tr>\n",
              "      <th>95%</th>\n",
              "      <td>1735.000000</td>\n",
              "      <td>5.142857</td>\n",
              "      <td>523.800000</td>\n",
              "      <td>2009.000000</td>\n",
              "    </tr>\n",
              "    <tr>\n",
              "      <th>96%</th>\n",
              "      <td>2011.280000</td>\n",
              "      <td>5.420291</td>\n",
              "      <td>596.320000</td>\n",
              "      <td>2009.000000</td>\n",
              "    </tr>\n",
              "    <tr>\n",
              "      <th>97%</th>\n",
              "      <td>2503.700000</td>\n",
              "      <td>5.862470</td>\n",
              "      <td>693.000000</td>\n",
              "      <td>2009.000000</td>\n",
              "    </tr>\n",
              "    <tr>\n",
              "      <th>98%</th>\n",
              "      <td>3266.360000</td>\n",
              "      <td>6.336705</td>\n",
              "      <td>1079.000000</td>\n",
              "      <td>2010.000000</td>\n",
              "    </tr>\n",
              "    <tr>\n",
              "      <th>99%</th>\n",
              "      <td>5442.200000</td>\n",
              "      <td>7.321814</td>\n",
              "      <td>1650.160000</td>\n",
              "      <td>2010.000000</td>\n",
              "    </tr>\n",
              "    <tr>\n",
              "      <th>99.5%</th>\n",
              "      <td>7664.120000</td>\n",
              "      <td>8.307068</td>\n",
              "      <td>2251.000000</td>\n",
              "      <td>2010.000000</td>\n",
              "    </tr>\n",
              "    <tr>\n",
              "      <th>max</th>\n",
              "      <td>54136.000000</td>\n",
              "      <td>18.158228</td>\n",
              "      <td>8277.000000</td>\n",
              "      <td>2010.000000</td>\n",
              "    </tr>\n",
              "  </tbody>\n",
              "</table>\n",
              "</div>"
            ],
            "text/plain": [
              "        total_plays  average_listen_count  total_listeners          year\n",
              "count  10843.000000          10843.000000     10843.000000  10843.000000\n",
              "mean     629.346214              2.843654       209.315872   1655.435304\n",
              "std     1398.352862              1.244164       332.429046    756.056709\n",
              "min       71.000000              1.061728        48.000000      0.000000\n",
              "25%      224.000000              2.054054        90.000000   1986.000000\n",
              "50%      344.000000              2.595745       127.000000   2002.000000\n",
              "75%      606.000000              3.255002       209.000000   2007.000000\n",
              "90%     1121.000000              4.283376       363.000000   2008.000000\n",
              "95%     1735.000000              5.142857       523.800000   2009.000000\n",
              "96%     2011.280000              5.420291       596.320000   2009.000000\n",
              "97%     2503.700000              5.862470       693.000000   2009.000000\n",
              "98%     3266.360000              6.336705      1079.000000   2010.000000\n",
              "99%     5442.200000              7.321814      1650.160000   2010.000000\n",
              "99.5%   7664.120000              8.307068      2251.000000   2010.000000\n",
              "max    54136.000000             18.158228      8277.000000   2010.000000"
            ]
          },
          "execution_count": 146,
          "metadata": {},
          "output_type": "execute_result"
        }
      ],
      "source": [
        "song_analysis_df.describe(percentiles=[0.25,0.5,0.75,0.9,0.95,0.96,0.97,0.98,0.99,0.995])"
      ]
    },
    {
      "cell_type": "code",
      "execution_count": null,
      "metadata": {
        "id": "74KNfr2qZ_OV",
        "outputId": "2d34f447-e3b8-476f-b42d-fe134ac89592"
      },
      "outputs": [
        {
          "data": {
            "image/png": "[encoded data removed]",
            "text/plain": [
              "<Figure size 2160x1800 with 1 Axes>"
            ]
          },
          "metadata": {
            "needs_background": "light"
          },
          "output_type": "display_data"
        }
      ],
      "source": [
        "#Bar plot on total listeners\n",
        "plt.figure(figsize=(30,25))\n",
        "sns.barplot(data = song_analysis_df.head(20),y='title',x='total_plays')\n",
        "plt.xticks(fontsize=25)\n",
        "plt.yticks(fontsize=25)\n",
        "plt.xlabel(xlabel ='\\nTotal Listeners',fontdict={'fontsize':35})\n",
        "plt.ylabel(ylabel ='Title',fontdict={'fontsize':35})\n",
        "plt.title('20 Most Played Songs\\n',fontsize=50)\n",
        "plt.show()"
      ]
    },
    {
      "cell_type": "code",
      "execution_count": null,
      "metadata": {
        "id": "PtW8_v2mZ_OW",
        "outputId": "7ad1c38e-eb37-4334-d716-e2a2e2b4236c"
      },
      "outputs": [
        {
          "data": {
            "text/plain": [
              "{\"Ain't Misbehavin\",\n",
              " 'Canada',\n",
              " 'Catch You Baby (Steve Pitron & Max Sanna Radio Edit)',\n",
              " 'Dog Days Are Over (Radio Edit)',\n",
              " 'Drop The World',\n",
              " 'Fireflies',\n",
              " 'Hey_ Soul Sister',\n",
              " 'Horn Concerto No. 4 in E flat K495: II. Romance (Andante cantabile)',\n",
              " \"I CAN'T GET STARTED\",\n",
              " 'Invalid',\n",
              " 'Marry Me',\n",
              " 'Représente',\n",
              " 'Revelry',\n",
              " 'Secrets',\n",
              " 'Sehr kosmisch',\n",
              " 'Sincerité Et Jalousie',\n",
              " 'The Gift',\n",
              " 'Tive Sim',\n",
              " 'Undo',\n",
              " \"You're The One\"}"
            ]
          },
          "execution_count": 148,
          "metadata": {},
          "output_type": "execute_result"
        }
      ],
      "source": [
        "top_20_most_played_songs = set(song_analysis_df.head(20)['title'])\n",
        "top_20_most_played_songs"
      ]
    },
    {
      "cell_type": "code",
      "execution_count": null,
      "metadata": {
        "id": "3JNltOgiZ_OW",
        "outputId": "db163371-ff31-4cb1-93a2-87cafffe1d50"
      },
      "outputs": [
        {
          "data": {
            "image/png": "[encoded data removed]",
            "text/plain": [
              "<Figure size 2160x1800 with 1 Axes>"
            ]
          },
          "metadata": {
            "needs_background": "light"
          },
          "output_type": "display_data"
        }
      ],
      "source": [
        "#Bar plot on average listen count\n",
        "plt.figure(figsize=(30,25))\n",
        "sns.barplot(data = song_analysis_df.sort_values(by='average_listen_count',ascending=False).head(20),y='title',x='average_listen_count')\n",
        "plt.xticks(fontsize=25)\n",
        "plt.yticks(fontsize=25)\n",
        "plt.xlabel(xlabel ='\\nAverage listen count',fontdict={'fontsize':35})\n",
        "plt.ylabel(ylabel ='Title',fontdict={'fontsize':35})\n",
        "plt.title('20 Most Catchy Songs\\n',fontsize=50)\n",
        "plt.show()"
      ]
    },
    {
      "cell_type": "code",
      "execution_count": null,
      "metadata": {
        "id": "HKeHxu8oZ_OW",
        "outputId": "c577a3cc-7184-4bbe-c663-cc66f91ad738"
      },
      "outputs": [
        {
          "data": {
            "text/plain": [
              "{'221',\n",
              " 'Bros Sto Rimagmeno Spiti (2003 Digital Remaster)',\n",
              " 'Caroline',\n",
              " 'Clara meets Slope - Hard To Say',\n",
              " 'Cold Blooded (Acid Cleanse)',\n",
              " 'Crack Under Pressure',\n",
              " \"Death Ain't No Big Deal (Tribute To Jake Hess Album Version)\",\n",
              " 'Encore Break',\n",
              " 'Gestern_Morgen',\n",
              " 'Hounds of Love (new mix)',\n",
              " 'In League With Satan',\n",
              " 'Long Arm Of The Law',\n",
              " 'MIC (Speak Life Album Version)',\n",
              " 'Machine Kit',\n",
              " 'Numb (Album Version)',\n",
              " 'Recado Falado (Metrô Da Saudade)',\n",
              " 'Starshine',\n",
              " 'The Quest',\n",
              " 'Voices On A String (Album Version)',\n",
              " 'Working With Homesick'}"
            ]
          },
          "execution_count": 150,
          "metadata": {},
          "output_type": "execute_result"
        }
      ],
      "source": [
        "top_20_by_listen_count = set(song_analysis_df.sort_values(by='average_listen_count',ascending=False).head(20)['title'])\n",
        "top_20_by_listen_count"
      ]
    },
    {
      "cell_type": "code",
      "execution_count": null,
      "metadata": {
        "id": "DUT6Iwk1Z_OW",
        "outputId": "7550b1cf-6958-4fbd-bb9c-0656a2832a3f"
      },
      "outputs": [
        {
          "data": {
            "text/plain": [
              "set()"
            ]
          },
          "execution_count": 151,
          "metadata": {},
          "output_type": "execute_result"
        }
      ],
      "source": [
        "#There is no intersection between top 20 songs by listen count and most played songs.\n",
        "top_20_by_listen_count.intersection(top_20_most_played_songs)"
      ]
    },
    {
      "cell_type": "code",
      "execution_count": null,
      "metadata": {
        "id": "rpZ3AXJzZ_OW"
      },
      "outputs": [],
      "source": []
    },
    {
      "cell_type": "code",
      "execution_count": null,
      "metadata": {
        "id": "q2O-XEVYZ_OW",
        "outputId": "76b76a06-b7c3-413f-eb5f-7aeb1b7ec365"
      },
      "outputs": [
        {
          "data": {
            "text/html": [
              "<div>\n",
              "<style scoped>\n",
              "    .dataframe tbody tr th:only-of-type {\n",
              "        vertical-align: middle;\n",
              "    }\n",
              "\n",
              "    .dataframe tbody tr th {\n",
              "        vertical-align: top;\n",
              "    }\n",
              "\n",
              "    .dataframe thead th {\n",
              "        text-align: right;\n",
              "    }\n",
              "</style>\n",
              "<table border=\"1\" class=\"dataframe\">\n",
              "  <thead>\n",
              "    <tr style=\"text-align: right;\">\n",
              "      <th></th>\n",
              "      <th>song_id</th>\n",
              "      <th>title</th>\n",
              "      <th>release</th>\n",
              "      <th>artist_name</th>\n",
              "      <th>year</th>\n",
              "    </tr>\n",
              "  </thead>\n",
              "  <tbody>\n",
              "    <tr>\n",
              "      <th>0</th>\n",
              "      <td>SOQMMHC12AB0180CB8</td>\n",
              "      <td>Silent Night</td>\n",
              "      <td>Monster Ballads X-Mas</td>\n",
              "      <td>Faster Pussy cat</td>\n",
              "      <td>2003</td>\n",
              "    </tr>\n",
              "    <tr>\n",
              "      <th>1</th>\n",
              "      <td>SOVFVAK12A8C1350D9</td>\n",
              "      <td>Tanssi vaan</td>\n",
              "      <td>Karkuteillä</td>\n",
              "      <td>Karkkiautomaatti</td>\n",
              "      <td>1995</td>\n",
              "    </tr>\n",
              "    <tr>\n",
              "      <th>2</th>\n",
              "      <td>SOGTUKN12AB017F4F1</td>\n",
              "      <td>No One Could Ever</td>\n",
              "      <td>Butter</td>\n",
              "      <td>Hudson Mohawke</td>\n",
              "      <td>2006</td>\n",
              "    </tr>\n",
              "    <tr>\n",
              "      <th>3</th>\n",
              "      <td>SOBNYVR12A8C13558C</td>\n",
              "      <td>Si Vos Querés</td>\n",
              "      <td>De Culo</td>\n",
              "      <td>Yerba Brava</td>\n",
              "      <td>2003</td>\n",
              "    </tr>\n",
              "    <tr>\n",
              "      <th>4</th>\n",
              "      <td>SOHSBXH12A8C13B0DF</td>\n",
              "      <td>Tangle Of Aspens</td>\n",
              "      <td>Rene Ablaze Presents Winter Sessions</td>\n",
              "      <td>Der Mystic</td>\n",
              "      <td>0</td>\n",
              "    </tr>\n",
              "    <tr>\n",
              "      <th>...</th>\n",
              "      <td>...</td>\n",
              "      <td>...</td>\n",
              "      <td>...</td>\n",
              "      <td>...</td>\n",
              "      <td>...</td>\n",
              "    </tr>\n",
              "    <tr>\n",
              "      <th>999995</th>\n",
              "      <td>SOTXAME12AB018F136</td>\n",
              "      <td>O Samba Da Vida</td>\n",
              "      <td>Pacha V.I.P.</td>\n",
              "      <td>Kiko Navarro</td>\n",
              "      <td>0</td>\n",
              "    </tr>\n",
              "    <tr>\n",
              "      <th>999996</th>\n",
              "      <td>SOXQYIQ12A8C137FBB</td>\n",
              "      <td>Jago Chhadeo</td>\n",
              "      <td>Naale Baba Lassi Pee Gya</td>\n",
              "      <td>Kuldeep Manak</td>\n",
              "      <td>0</td>\n",
              "    </tr>\n",
              "    <tr>\n",
              "      <th>999997</th>\n",
              "      <td>SOHODZI12A8C137BB3</td>\n",
              "      <td>Novemba</td>\n",
              "      <td>Dub_Connected: electronic music</td>\n",
              "      <td>Gabriel Le Mar</td>\n",
              "      <td>0</td>\n",
              "    </tr>\n",
              "    <tr>\n",
              "      <th>999998</th>\n",
              "      <td>SOLXGOR12A81C21EB7</td>\n",
              "      <td>Faraday</td>\n",
              "      <td>The Trance Collection Vol. 2</td>\n",
              "      <td>Elude</td>\n",
              "      <td>0</td>\n",
              "    </tr>\n",
              "    <tr>\n",
              "      <th>999999</th>\n",
              "      <td>SOWXJXQ12AB0189F43</td>\n",
              "      <td>Fernweh feat. Sektion Kuchikäschtli</td>\n",
              "      <td>So Oder So</td>\n",
              "      <td>Texta</td>\n",
              "      <td>2004</td>\n",
              "    </tr>\n",
              "  </tbody>\n",
              "</table>\n",
              "<p>999980 rows × 5 columns</p>\n",
              "</div>"
            ],
            "text/plain": [
              "                   song_id                                title  \\\n",
              "0       SOQMMHC12AB0180CB8                         Silent Night   \n",
              "1       SOVFVAK12A8C1350D9                          Tanssi vaan   \n",
              "2       SOGTUKN12AB017F4F1                    No One Could Ever   \n",
              "3       SOBNYVR12A8C13558C                        Si Vos Querés   \n",
              "4       SOHSBXH12A8C13B0DF                     Tangle Of Aspens   \n",
              "...                    ...                                  ...   \n",
              "999995  SOTXAME12AB018F136                      O Samba Da Vida   \n",
              "999996  SOXQYIQ12A8C137FBB                         Jago Chhadeo   \n",
              "999997  SOHODZI12A8C137BB3                              Novemba   \n",
              "999998  SOLXGOR12A81C21EB7                              Faraday   \n",
              "999999  SOWXJXQ12AB0189F43  Fernweh feat. Sektion Kuchikäschtli   \n",
              "\n",
              "                                     release       artist_name  year  \n",
              "0                      Monster Ballads X-Mas  Faster Pussy cat  2003  \n",
              "1                                Karkuteillä  Karkkiautomaatti  1995  \n",
              "2                                     Butter    Hudson Mohawke  2006  \n",
              "3                                    De Culo       Yerba Brava  2003  \n",
              "4       Rene Ablaze Presents Winter Sessions        Der Mystic     0  \n",
              "...                                      ...               ...   ...  \n",
              "999995                          Pacha V.I.P.      Kiko Navarro     0  \n",
              "999996              Naale Baba Lassi Pee Gya     Kuldeep Manak     0  \n",
              "999997       Dub_Connected: electronic music    Gabriel Le Mar     0  \n",
              "999998          The Trance Collection Vol. 2             Elude     0  \n",
              "999999                            So Oder So             Texta  2004  \n",
              "\n",
              "[999980 rows x 5 columns]"
            ]
          },
          "execution_count": 152,
          "metadata": {},
          "output_type": "execute_result"
        }
      ],
      "source": [
        "song_metadata"
      ]
    },
    {
      "cell_type": "code",
      "execution_count": null,
      "metadata": {
        "id": "nSg-RTfhZ_OW",
        "outputId": "674b9085-cb4d-431b-d4be-a5df6a84faef"
      },
      "outputs": [
        {
          "data": {
            "text/plain": [
              "song_id        999036\n",
              "title          702424\n",
              "release        149287\n",
              "artist_name     72664\n",
              "year               90\n",
              "dtype: int64"
            ]
          },
          "execution_count": 153,
          "metadata": {},
          "output_type": "execute_result"
        }
      ],
      "source": [
        "song_metadata.nunique()"
      ]
    },
    {
      "cell_type": "code",
      "execution_count": null,
      "metadata": {
        "id": "i--OmX-iZ_OW"
      },
      "outputs": [],
      "source": []
    },
    {
      "cell_type": "code",
      "execution_count": null,
      "metadata": {
        "id": "_NnoVnXAZ_OW"
      },
      "outputs": [],
      "source": []
    },
    {
      "cell_type": "markdown",
      "metadata": {
        "id": "loxofnRIZ_OW"
      },
      "source": [
        "### Unique Song_id - Title analysis"
      ]
    },
    {
      "cell_type": "code",
      "execution_count": null,
      "metadata": {
        "id": "IYzzj9lSZ_OX"
      },
      "outputs": [],
      "source": [
        "title_analysis = {'title':[],'songs_associated':[],'song_count':[]}"
      ]
    },
    {
      "cell_type": "code",
      "execution_count": null,
      "metadata": {
        "id": "s7qx-l28Z_OX"
      },
      "outputs": [],
      "source": [
        "title_group = song_metadata.groupby('title')\n",
        "\n",
        "for title,title_df in title_group:\n",
        "    title_analysis['title'].append(title)\n",
        "    song_id = title_df['song_id']\n",
        "    title_analysis['songs_associated'].append(list(set(song_id)))\n",
        "    title_analysis['song_count'].append(len(set(song_id)))"
      ]
    },
    {
      "cell_type": "code",
      "execution_count": null,
      "metadata": {
        "id": "wrtkpH0gZ_OX"
      },
      "outputs": [],
      "source": [
        "title_analysis_df = pd.DataFrame(title_analysis)"
      ]
    },
    {
      "cell_type": "code",
      "execution_count": null,
      "metadata": {
        "id": "MNi0tl64Z_OX",
        "outputId": "20a95cb6-4384-4de3-9bf7-9ff0331af700"
      },
      "outputs": [
        {
          "data": {
            "text/html": [
              "<div>\n",
              "<style scoped>\n",
              "    .dataframe tbody tr th:only-of-type {\n",
              "        vertical-align: middle;\n",
              "    }\n",
              "\n",
              "    .dataframe tbody tr th {\n",
              "        vertical-align: top;\n",
              "    }\n",
              "\n",
              "    .dataframe thead th {\n",
              "        text-align: right;\n",
              "    }\n",
              "</style>\n",
              "<table border=\"1\" class=\"dataframe\">\n",
              "  <thead>\n",
              "    <tr style=\"text-align: right;\">\n",
              "      <th></th>\n",
              "      <th>title</th>\n",
              "      <th>songs_associated</th>\n",
              "      <th>song_count</th>\n",
              "    </tr>\n",
              "  </thead>\n",
              "  <tbody>\n",
              "    <tr>\n",
              "      <th>288255</th>\n",
              "      <td>Intro</td>\n",
              "      <td>[SOIUBJF12AB0180410, SOBVPMH12A8C13B9BE, SOOQE...</td>\n",
              "      <td>1510</td>\n",
              "    </tr>\n",
              "    <tr>\n",
              "      <th>640513</th>\n",
              "      <td>Untitled</td>\n",
              "      <td>[SOKSFOT12A8C13F34A, SOVLRPS12A6BD522DE, SOERK...</td>\n",
              "      <td>413</td>\n",
              "    </tr>\n",
              "    <tr>\n",
              "      <th>437571</th>\n",
              "      <td>Outro</td>\n",
              "      <td>[SOTAJVD12A6D4FC74C, SOPQBTR12A8AE46AC7, SOGZJ...</td>\n",
              "      <td>350</td>\n",
              "    </tr>\n",
              "    <tr>\n",
              "      <th>287054</th>\n",
              "      <td>Interlude</td>\n",
              "      <td>[SOTKVUZ12AB018561F, SOZOOPV12A6702108D, SOQTU...</td>\n",
              "      <td>298</td>\n",
              "    </tr>\n",
              "    <tr>\n",
              "      <th>246857</th>\n",
              "      <td>Home</td>\n",
              "      <td>[SOOQMBN12A8C13DB3B, SOFMBLL12AB0185238, SOTUR...</td>\n",
              "      <td>237</td>\n",
              "    </tr>\n",
              "    <tr>\n",
              "      <th>...</th>\n",
              "      <td>...</td>\n",
              "      <td>...</td>\n",
              "      <td>...</td>\n",
              "    </tr>\n",
              "    <tr>\n",
              "      <th>250871</th>\n",
              "      <td>How Could You ?</td>\n",
              "      <td>[SOLRTXF12A8C13348B]</td>\n",
              "      <td>1</td>\n",
              "    </tr>\n",
              "    <tr>\n",
              "      <th>250872</th>\n",
              "      <td>How Could You Believe This</td>\n",
              "      <td>[SOLHLDQ12A6D4F65AA]</td>\n",
              "      <td>1</td>\n",
              "    </tr>\n",
              "    <tr>\n",
              "      <th>250873</th>\n",
              "      <td>How Could You Call It Off</td>\n",
              "      <td>[SOEIWIC12A58A7F5E6]</td>\n",
              "      <td>1</td>\n",
              "    </tr>\n",
              "    <tr>\n",
              "      <th>250874</th>\n",
              "      <td>How Could You Call It Off?</td>\n",
              "      <td>[SOQPZXJ12A6D4FA5A2]</td>\n",
              "      <td>1</td>\n",
              "    </tr>\n",
              "    <tr>\n",
              "      <th>702423</th>\n",
              "      <td>þetta Gerist á Bestu Bæjum</td>\n",
              "      <td>[SOMHQBH12A8C1303DB]</td>\n",
              "      <td>1</td>\n",
              "    </tr>\n",
              "  </tbody>\n",
              "</table>\n",
              "<p>702424 rows × 3 columns</p>\n",
              "</div>"
            ],
            "text/plain": [
              "                             title  \\\n",
              "288255                       Intro   \n",
              "640513                    Untitled   \n",
              "437571                       Outro   \n",
              "287054                   Interlude   \n",
              "246857                        Home   \n",
              "...                            ...   \n",
              "250871             How Could You ?   \n",
              "250872  How Could You Believe This   \n",
              "250873   How Could You Call It Off   \n",
              "250874  How Could You Call It Off?   \n",
              "702423  þetta Gerist á Bestu Bæjum   \n",
              "\n",
              "                                         songs_associated  song_count  \n",
              "288255  [SOIUBJF12AB0180410, SOBVPMH12A8C13B9BE, SOOQE...        1510  \n",
              "640513  [SOKSFOT12A8C13F34A, SOVLRPS12A6BD522DE, SOERK...         413  \n",
              "437571  [SOTAJVD12A6D4FC74C, SOPQBTR12A8AE46AC7, SOGZJ...         350  \n",
              "287054  [SOTKVUZ12AB018561F, SOZOOPV12A6702108D, SOQTU...         298  \n",
              "246857  [SOOQMBN12A8C13DB3B, SOFMBLL12AB0185238, SOTUR...         237  \n",
              "...                                                   ...         ...  \n",
              "250871                               [SOLRTXF12A8C13348B]           1  \n",
              "250872                               [SOLHLDQ12A6D4F65AA]           1  \n",
              "250873                               [SOEIWIC12A58A7F5E6]           1  \n",
              "250874                               [SOQPZXJ12A6D4FA5A2]           1  \n",
              "702423                               [SOMHQBH12A8C1303DB]           1  \n",
              "\n",
              "[702424 rows x 3 columns]"
            ]
          },
          "execution_count": 157,
          "metadata": {},
          "output_type": "execute_result"
        }
      ],
      "source": [
        "title_analysis_df.sort_values(by='song_count',ascending=False)"
      ]
    },
    {
      "cell_type": "code",
      "execution_count": null,
      "metadata": {
        "id": "1lq9CPGOZ_OX",
        "outputId": "27c6917d-55ec-4a7c-9708-0e1d11b0b9cb"
      },
      "outputs": [
        {
          "data": {
            "text/plain": [
              "song_id        1510\n",
              "title             1\n",
              "release        1459\n",
              "artist_name    1309\n",
              "year             35\n",
              "dtype: int64"
            ]
          },
          "execution_count": 158,
          "metadata": {},
          "output_type": "execute_result"
        }
      ],
      "source": [
        "song_metadata[song_metadata['title']=='Intro'].nunique()"
      ]
    },
    {
      "cell_type": "code",
      "execution_count": null,
      "metadata": {
        "id": "0kRVFR3KZ_OX"
      },
      "outputs": [],
      "source": [
        "song_metadata['title_artist_release_year'] = song_metadata['title']+'_'+song_metadata['artist_name'] + '_' + song_metadata['release'] + '_'+song_metadata['year'].astype(str)"
      ]
    },
    {
      "cell_type": "code",
      "execution_count": null,
      "metadata": {
        "id": "0KXA0FmfZ_OX",
        "outputId": "3c969566-ebb6-477e-e619-49818c703a99"
      },
      "outputs": [
        {
          "data": {
            "text/plain": [
              "song_id                      999036\n",
              "title                        702424\n",
              "release                      149287\n",
              "artist_name                   72664\n",
              "year                             90\n",
              "title_artist_release_year    974815\n",
              "dtype: int64"
            ]
          },
          "execution_count": 160,
          "metadata": {},
          "output_type": "execute_result"
        }
      ],
      "source": [
        "song_metadata.nunique()"
      ]
    },
    {
      "cell_type": "code",
      "execution_count": null,
      "metadata": {
        "id": "v7XB8yPEZ_OX",
        "outputId": "b42d2c66-800e-4d29-ef07-b992523901ab"
      },
      "outputs": [
        {
          "data": {
            "text/html": [
              "<div>\n",
              "<style scoped>\n",
              "    .dataframe tbody tr th:only-of-type {\n",
              "        vertical-align: middle;\n",
              "    }\n",
              "\n",
              "    .dataframe tbody tr th {\n",
              "        vertical-align: top;\n",
              "    }\n",
              "\n",
              "    .dataframe thead th {\n",
              "        text-align: right;\n",
              "    }\n",
              "</style>\n",
              "<table border=\"1\" class=\"dataframe\">\n",
              "  <thead>\n",
              "    <tr style=\"text-align: right;\">\n",
              "      <th></th>\n",
              "      <th>song_id</th>\n",
              "      <th>title</th>\n",
              "      <th>release</th>\n",
              "      <th>artist_name</th>\n",
              "      <th>year</th>\n",
              "      <th>title_artist_release_year</th>\n",
              "    </tr>\n",
              "  </thead>\n",
              "  <tbody>\n",
              "    <tr>\n",
              "      <th>0</th>\n",
              "      <td>SOQMMHC12AB0180CB8</td>\n",
              "      <td>Silent Night</td>\n",
              "      <td>Monster Ballads X-Mas</td>\n",
              "      <td>Faster Pussy cat</td>\n",
              "      <td>2003</td>\n",
              "      <td>Silent Night_Faster Pussy cat_Monster Ballads ...</td>\n",
              "    </tr>\n",
              "    <tr>\n",
              "      <th>1</th>\n",
              "      <td>SOVFVAK12A8C1350D9</td>\n",
              "      <td>Tanssi vaan</td>\n",
              "      <td>Karkuteillä</td>\n",
              "      <td>Karkkiautomaatti</td>\n",
              "      <td>1995</td>\n",
              "      <td>Tanssi vaan_Karkkiautomaatti_Karkuteillä_1995</td>\n",
              "    </tr>\n",
              "    <tr>\n",
              "      <th>2</th>\n",
              "      <td>SOGTUKN12AB017F4F1</td>\n",
              "      <td>No One Could Ever</td>\n",
              "      <td>Butter</td>\n",
              "      <td>Hudson Mohawke</td>\n",
              "      <td>2006</td>\n",
              "      <td>No One Could Ever_Hudson Mohawke_Butter_2006</td>\n",
              "    </tr>\n",
              "    <tr>\n",
              "      <th>3</th>\n",
              "      <td>SOBNYVR12A8C13558C</td>\n",
              "      <td>Si Vos Querés</td>\n",
              "      <td>De Culo</td>\n",
              "      <td>Yerba Brava</td>\n",
              "      <td>2003</td>\n",
              "      <td>Si Vos Querés_Yerba Brava_De Culo_2003</td>\n",
              "    </tr>\n",
              "    <tr>\n",
              "      <th>4</th>\n",
              "      <td>SOHSBXH12A8C13B0DF</td>\n",
              "      <td>Tangle Of Aspens</td>\n",
              "      <td>Rene Ablaze Presents Winter Sessions</td>\n",
              "      <td>Der Mystic</td>\n",
              "      <td>0</td>\n",
              "      <td>Tangle Of Aspens_Der Mystic_Rene Ablaze Presen...</td>\n",
              "    </tr>\n",
              "    <tr>\n",
              "      <th>...</th>\n",
              "      <td>...</td>\n",
              "      <td>...</td>\n",
              "      <td>...</td>\n",
              "      <td>...</td>\n",
              "      <td>...</td>\n",
              "      <td>...</td>\n",
              "    </tr>\n",
              "    <tr>\n",
              "      <th>999995</th>\n",
              "      <td>SOTXAME12AB018F136</td>\n",
              "      <td>O Samba Da Vida</td>\n",
              "      <td>Pacha V.I.P.</td>\n",
              "      <td>Kiko Navarro</td>\n",
              "      <td>0</td>\n",
              "      <td>O Samba Da Vida_Kiko Navarro_Pacha V.I.P._0</td>\n",
              "    </tr>\n",
              "    <tr>\n",
              "      <th>999996</th>\n",
              "      <td>SOXQYIQ12A8C137FBB</td>\n",
              "      <td>Jago Chhadeo</td>\n",
              "      <td>Naale Baba Lassi Pee Gya</td>\n",
              "      <td>Kuldeep Manak</td>\n",
              "      <td>0</td>\n",
              "      <td>Jago Chhadeo_Kuldeep Manak_Naale Baba Lassi Pe...</td>\n",
              "    </tr>\n",
              "    <tr>\n",
              "      <th>999997</th>\n",
              "      <td>SOHODZI12A8C137BB3</td>\n",
              "      <td>Novemba</td>\n",
              "      <td>Dub_Connected: electronic music</td>\n",
              "      <td>Gabriel Le Mar</td>\n",
              "      <td>0</td>\n",
              "      <td>Novemba_Gabriel Le Mar_Dub_Connected: electron...</td>\n",
              "    </tr>\n",
              "    <tr>\n",
              "      <th>999998</th>\n",
              "      <td>SOLXGOR12A81C21EB7</td>\n",
              "      <td>Faraday</td>\n",
              "      <td>The Trance Collection Vol. 2</td>\n",
              "      <td>Elude</td>\n",
              "      <td>0</td>\n",
              "      <td>Faraday_Elude_The Trance Collection Vol. 2_0</td>\n",
              "    </tr>\n",
              "    <tr>\n",
              "      <th>999999</th>\n",
              "      <td>SOWXJXQ12AB0189F43</td>\n",
              "      <td>Fernweh feat. Sektion Kuchikäschtli</td>\n",
              "      <td>So Oder So</td>\n",
              "      <td>Texta</td>\n",
              "      <td>2004</td>\n",
              "      <td>Fernweh feat. Sektion Kuchikäschtli_Texta_So O...</td>\n",
              "    </tr>\n",
              "  </tbody>\n",
              "</table>\n",
              "<p>999980 rows × 6 columns</p>\n",
              "</div>"
            ],
            "text/plain": [
              "                   song_id                                title  \\\n",
              "0       SOQMMHC12AB0180CB8                         Silent Night   \n",
              "1       SOVFVAK12A8C1350D9                          Tanssi vaan   \n",
              "2       SOGTUKN12AB017F4F1                    No One Could Ever   \n",
              "3       SOBNYVR12A8C13558C                        Si Vos Querés   \n",
              "4       SOHSBXH12A8C13B0DF                     Tangle Of Aspens   \n",
              "...                    ...                                  ...   \n",
              "999995  SOTXAME12AB018F136                      O Samba Da Vida   \n",
              "999996  SOXQYIQ12A8C137FBB                         Jago Chhadeo   \n",
              "999997  SOHODZI12A8C137BB3                              Novemba   \n",
              "999998  SOLXGOR12A81C21EB7                              Faraday   \n",
              "999999  SOWXJXQ12AB0189F43  Fernweh feat. Sektion Kuchikäschtli   \n",
              "\n",
              "                                     release       artist_name  year  \\\n",
              "0                      Monster Ballads X-Mas  Faster Pussy cat  2003   \n",
              "1                                Karkuteillä  Karkkiautomaatti  1995   \n",
              "2                                     Butter    Hudson Mohawke  2006   \n",
              "3                                    De Culo       Yerba Brava  2003   \n",
              "4       Rene Ablaze Presents Winter Sessions        Der Mystic     0   \n",
              "...                                      ...               ...   ...   \n",
              "999995                          Pacha V.I.P.      Kiko Navarro     0   \n",
              "999996              Naale Baba Lassi Pee Gya     Kuldeep Manak     0   \n",
              "999997       Dub_Connected: electronic music    Gabriel Le Mar     0   \n",
              "999998          The Trance Collection Vol. 2             Elude     0   \n",
              "999999                            So Oder So             Texta  2004   \n",
              "\n",
              "                                title_artist_release_year  \n",
              "0       Silent Night_Faster Pussy cat_Monster Ballads ...  \n",
              "1           Tanssi vaan_Karkkiautomaatti_Karkuteillä_1995  \n",
              "2            No One Could Ever_Hudson Mohawke_Butter_2006  \n",
              "3                  Si Vos Querés_Yerba Brava_De Culo_2003  \n",
              "4       Tangle Of Aspens_Der Mystic_Rene Ablaze Presen...  \n",
              "...                                                   ...  \n",
              "999995        O Samba Da Vida_Kiko Navarro_Pacha V.I.P._0  \n",
              "999996  Jago Chhadeo_Kuldeep Manak_Naale Baba Lassi Pe...  \n",
              "999997  Novemba_Gabriel Le Mar_Dub_Connected: electron...  \n",
              "999998       Faraday_Elude_The Trance Collection Vol. 2_0  \n",
              "999999  Fernweh feat. Sektion Kuchikäschtli_Texta_So O...  \n",
              "\n",
              "[999980 rows x 6 columns]"
            ]
          },
          "execution_count": 161,
          "metadata": {},
          "output_type": "execute_result"
        }
      ],
      "source": [
        "song_metadata"
      ]
    },
    {
      "cell_type": "markdown",
      "metadata": {
        "id": "LR2I1erlZ_OX"
      },
      "source": [
        "### Unique Song_id - Title analysis ends"
      ]
    },
    {
      "cell_type": "code",
      "execution_count": null,
      "metadata": {
        "id": "8pZeP3KTZ_OX"
      },
      "outputs": [],
      "source": []
    },
    {
      "cell_type": "code",
      "execution_count": null,
      "metadata": {
        "id": "QGdLj_zPZ_OX"
      },
      "outputs": [],
      "source": []
    },
    {
      "cell_type": "code",
      "execution_count": null,
      "metadata": {
        "id": "3XieEFsBZ_OX"
      },
      "outputs": [],
      "source": []
    },
    {
      "cell_type": "markdown",
      "metadata": {
        "id": "WMKdowQyZ_OX"
      },
      "source": [
        "### Build recommender System"
      ]
    },
    {
      "cell_type": "markdown",
      "metadata": {
        "id": "dOG_1e3yZ_OY"
      },
      "source": [
        "##### Users who have listened to atleast 31 songs only will be considered in feature of a song,which accounts to approx top 25% users"
      ]
    },
    {
      "cell_type": "markdown",
      "metadata": {
        "id": "aCUGzlufZ_OY"
      },
      "source": [
        "##### 25% users is 19000 users approx(3500 top users cover all the 10000 songs)"
      ]
    },
    {
      "cell_type": "code",
      "execution_count": null,
      "metadata": {
        "id": "HEqkKaZzZ_OY"
      },
      "outputs": [],
      "source": []
    },
    {
      "cell_type": "code",
      "execution_count": null,
      "metadata": {
        "id": "KzLk9npEZ_OY",
        "outputId": "bd4bd5a4-0a42-4b39-ea0a-49475d49077d"
      },
      "outputs": [
        {
          "data": {
            "text/html": [
              "<div>\n",
              "<style scoped>\n",
              "    .dataframe tbody tr th:only-of-type {\n",
              "        vertical-align: middle;\n",
              "    }\n",
              "\n",
              "    .dataframe tbody tr th {\n",
              "        vertical-align: top;\n",
              "    }\n",
              "\n",
              "    .dataframe thead th {\n",
              "        text-align: right;\n",
              "    }\n",
              "</style>\n",
              "<table border=\"1\" class=\"dataframe\">\n",
              "  <thead>\n",
              "    <tr style=\"text-align: right;\">\n",
              "      <th></th>\n",
              "      <th>user_id</th>\n",
              "      <th>song_id</th>\n",
              "      <th>listen_count</th>\n",
              "    </tr>\n",
              "  </thead>\n",
              "  <tbody>\n",
              "    <tr>\n",
              "      <th>0</th>\n",
              "      <td>b80344d063b5ccb3212f76538f3d9e43d87dca9e</td>\n",
              "      <td>SOAKIMP12A8C130995</td>\n",
              "      <td>1</td>\n",
              "    </tr>\n",
              "    <tr>\n",
              "      <th>1</th>\n",
              "      <td>b80344d063b5ccb3212f76538f3d9e43d87dca9e</td>\n",
              "      <td>SOBBMDR12A8C13253B</td>\n",
              "      <td>2</td>\n",
              "    </tr>\n",
              "    <tr>\n",
              "      <th>2</th>\n",
              "      <td>b80344d063b5ccb3212f76538f3d9e43d87dca9e</td>\n",
              "      <td>SOBXHDL12A81C204C0</td>\n",
              "      <td>1</td>\n",
              "    </tr>\n",
              "    <tr>\n",
              "      <th>3</th>\n",
              "      <td>b80344d063b5ccb3212f76538f3d9e43d87dca9e</td>\n",
              "      <td>SOBYHAJ12A6701BF1D</td>\n",
              "      <td>1</td>\n",
              "    </tr>\n",
              "    <tr>\n",
              "      <th>4</th>\n",
              "      <td>b80344d063b5ccb3212f76538f3d9e43d87dca9e</td>\n",
              "      <td>SODACBL12A8C13C273</td>\n",
              "      <td>1</td>\n",
              "    </tr>\n",
              "    <tr>\n",
              "      <th>...</th>\n",
              "      <td>...</td>\n",
              "      <td>...</td>\n",
              "      <td>...</td>\n",
              "    </tr>\n",
              "    <tr>\n",
              "      <th>1999995</th>\n",
              "      <td>d8bfd4ec88f0f3773a9e022e3c1a0f1d3b7b6a92</td>\n",
              "      <td>SOJEYPO12AAA8C6B0E</td>\n",
              "      <td>2</td>\n",
              "    </tr>\n",
              "    <tr>\n",
              "      <th>1999996</th>\n",
              "      <td>d8bfd4ec88f0f3773a9e022e3c1a0f1d3b7b6a92</td>\n",
              "      <td>SOJJYDE12AF729FC16</td>\n",
              "      <td>4</td>\n",
              "    </tr>\n",
              "    <tr>\n",
              "      <th>1999997</th>\n",
              "      <td>d8bfd4ec88f0f3773a9e022e3c1a0f1d3b7b6a92</td>\n",
              "      <td>SOJKQSF12A6D4F5EE9</td>\n",
              "      <td>3</td>\n",
              "    </tr>\n",
              "    <tr>\n",
              "      <th>1999998</th>\n",
              "      <td>d8bfd4ec88f0f3773a9e022e3c1a0f1d3b7b6a92</td>\n",
              "      <td>SOJUXGA12AC961885C</td>\n",
              "      <td>1</td>\n",
              "    </tr>\n",
              "    <tr>\n",
              "      <th>1999999</th>\n",
              "      <td>d8bfd4ec88f0f3773a9e022e3c1a0f1d3b7b6a92</td>\n",
              "      <td>SOJYOLS12A8C13C06F</td>\n",
              "      <td>1</td>\n",
              "    </tr>\n",
              "  </tbody>\n",
              "</table>\n",
              "<p>2000000 rows × 3 columns</p>\n",
              "</div>"
            ],
            "text/plain": [
              "                                          user_id             song_id  \\\n",
              "0        b80344d063b5ccb3212f76538f3d9e43d87dca9e  SOAKIMP12A8C130995   \n",
              "1        b80344d063b5ccb3212f76538f3d9e43d87dca9e  SOBBMDR12A8C13253B   \n",
              "2        b80344d063b5ccb3212f76538f3d9e43d87dca9e  SOBXHDL12A81C204C0   \n",
              "3        b80344d063b5ccb3212f76538f3d9e43d87dca9e  SOBYHAJ12A6701BF1D   \n",
              "4        b80344d063b5ccb3212f76538f3d9e43d87dca9e  SODACBL12A8C13C273   \n",
              "...                                           ...                 ...   \n",
              "1999995  d8bfd4ec88f0f3773a9e022e3c1a0f1d3b7b6a92  SOJEYPO12AAA8C6B0E   \n",
              "1999996  d8bfd4ec88f0f3773a9e022e3c1a0f1d3b7b6a92  SOJJYDE12AF729FC16   \n",
              "1999997  d8bfd4ec88f0f3773a9e022e3c1a0f1d3b7b6a92  SOJKQSF12A6D4F5EE9   \n",
              "1999998  d8bfd4ec88f0f3773a9e022e3c1a0f1d3b7b6a92  SOJUXGA12AC961885C   \n",
              "1999999  d8bfd4ec88f0f3773a9e022e3c1a0f1d3b7b6a92  SOJYOLS12A8C13C06F   \n",
              "\n",
              "         listen_count  \n",
              "0                   1  \n",
              "1                   2  \n",
              "2                   1  \n",
              "3                   1  \n",
              "4                   1  \n",
              "...               ...  \n",
              "1999995             2  \n",
              "1999996             4  \n",
              "1999997             3  \n",
              "1999998             1  \n",
              "1999999             1  \n",
              "\n",
              "[2000000 rows x 3 columns]"
            ]
          },
          "execution_count": 162,
          "metadata": {},
          "output_type": "execute_result"
        }
      ],
      "source": [
        "user_song_info"
      ]
    },
    {
      "cell_type": "code",
      "execution_count": null,
      "metadata": {
        "id": "poCBsvHFZ_OY"
      },
      "outputs": [],
      "source": [
        "top_25_percent_users_df = user_songs_df[user_songs_df['songs_listened'] > 31]\n",
        "top_25_percent_users = top_25_percent_users_df['user_id'].values\n",
        "top_25_percent_users = top_25_percent_users.tolist()"
      ]
    },
    {
      "cell_type": "code",
      "execution_count": null,
      "metadata": {
        "id": "pgOElchWZ_OY",
        "outputId": "cb091884-310a-41af-d6b6-e21ddb6fe790"
      },
      "outputs": [
        {
          "data": {
            "text/html": [
              "<div>\n",
              "<style scoped>\n",
              "    .dataframe tbody tr th:only-of-type {\n",
              "        vertical-align: middle;\n",
              "    }\n",
              "\n",
              "    .dataframe tbody tr th {\n",
              "        vertical-align: top;\n",
              "    }\n",
              "\n",
              "    .dataframe thead th {\n",
              "        text-align: right;\n",
              "    }\n",
              "</style>\n",
              "<table border=\"1\" class=\"dataframe\">\n",
              "  <thead>\n",
              "    <tr style=\"text-align: right;\">\n",
              "      <th></th>\n",
              "      <th>user_id</th>\n",
              "      <th>song_id</th>\n",
              "      <th>listen_count</th>\n",
              "    </tr>\n",
              "  </thead>\n",
              "  <tbody>\n",
              "    <tr>\n",
              "      <th>0</th>\n",
              "      <td>b80344d063b5ccb3212f76538f3d9e43d87dca9e</td>\n",
              "      <td>SOAKIMP12A8C130995</td>\n",
              "      <td>1</td>\n",
              "    </tr>\n",
              "    <tr>\n",
              "      <th>1</th>\n",
              "      <td>b80344d063b5ccb3212f76538f3d9e43d87dca9e</td>\n",
              "      <td>SOBBMDR12A8C13253B</td>\n",
              "      <td>2</td>\n",
              "    </tr>\n",
              "    <tr>\n",
              "      <th>2</th>\n",
              "      <td>b80344d063b5ccb3212f76538f3d9e43d87dca9e</td>\n",
              "      <td>SOBXHDL12A81C204C0</td>\n",
              "      <td>1</td>\n",
              "    </tr>\n",
              "    <tr>\n",
              "      <th>3</th>\n",
              "      <td>b80344d063b5ccb3212f76538f3d9e43d87dca9e</td>\n",
              "      <td>SOBYHAJ12A6701BF1D</td>\n",
              "      <td>1</td>\n",
              "    </tr>\n",
              "    <tr>\n",
              "      <th>4</th>\n",
              "      <td>b80344d063b5ccb3212f76538f3d9e43d87dca9e</td>\n",
              "      <td>SODACBL12A8C13C273</td>\n",
              "      <td>1</td>\n",
              "    </tr>\n",
              "    <tr>\n",
              "      <th>...</th>\n",
              "      <td>...</td>\n",
              "      <td>...</td>\n",
              "      <td>...</td>\n",
              "    </tr>\n",
              "    <tr>\n",
              "      <th>1999995</th>\n",
              "      <td>d8bfd4ec88f0f3773a9e022e3c1a0f1d3b7b6a92</td>\n",
              "      <td>SOJEYPO12AAA8C6B0E</td>\n",
              "      <td>2</td>\n",
              "    </tr>\n",
              "    <tr>\n",
              "      <th>1999996</th>\n",
              "      <td>d8bfd4ec88f0f3773a9e022e3c1a0f1d3b7b6a92</td>\n",
              "      <td>SOJJYDE12AF729FC16</td>\n",
              "      <td>4</td>\n",
              "    </tr>\n",
              "    <tr>\n",
              "      <th>1999997</th>\n",
              "      <td>d8bfd4ec88f0f3773a9e022e3c1a0f1d3b7b6a92</td>\n",
              "      <td>SOJKQSF12A6D4F5EE9</td>\n",
              "      <td>3</td>\n",
              "    </tr>\n",
              "    <tr>\n",
              "      <th>1999998</th>\n",
              "      <td>d8bfd4ec88f0f3773a9e022e3c1a0f1d3b7b6a92</td>\n",
              "      <td>SOJUXGA12AC961885C</td>\n",
              "      <td>1</td>\n",
              "    </tr>\n",
              "    <tr>\n",
              "      <th>1999999</th>\n",
              "      <td>d8bfd4ec88f0f3773a9e022e3c1a0f1d3b7b6a92</td>\n",
              "      <td>SOJYOLS12A8C13C06F</td>\n",
              "      <td>1</td>\n",
              "    </tr>\n",
              "  </tbody>\n",
              "</table>\n",
              "<p>1635302 rows × 3 columns</p>\n",
              "</div>"
            ],
            "text/plain": [
              "                                          user_id             song_id  \\\n",
              "0        b80344d063b5ccb3212f76538f3d9e43d87dca9e  SOAKIMP12A8C130995   \n",
              "1        b80344d063b5ccb3212f76538f3d9e43d87dca9e  SOBBMDR12A8C13253B   \n",
              "2        b80344d063b5ccb3212f76538f3d9e43d87dca9e  SOBXHDL12A81C204C0   \n",
              "3        b80344d063b5ccb3212f76538f3d9e43d87dca9e  SOBYHAJ12A6701BF1D   \n",
              "4        b80344d063b5ccb3212f76538f3d9e43d87dca9e  SODACBL12A8C13C273   \n",
              "...                                           ...                 ...   \n",
              "1999995  d8bfd4ec88f0f3773a9e022e3c1a0f1d3b7b6a92  SOJEYPO12AAA8C6B0E   \n",
              "1999996  d8bfd4ec88f0f3773a9e022e3c1a0f1d3b7b6a92  SOJJYDE12AF729FC16   \n",
              "1999997  d8bfd4ec88f0f3773a9e022e3c1a0f1d3b7b6a92  SOJKQSF12A6D4F5EE9   \n",
              "1999998  d8bfd4ec88f0f3773a9e022e3c1a0f1d3b7b6a92  SOJUXGA12AC961885C   \n",
              "1999999  d8bfd4ec88f0f3773a9e022e3c1a0f1d3b7b6a92  SOJYOLS12A8C13C06F   \n",
              "\n",
              "         listen_count  \n",
              "0                   1  \n",
              "1                   2  \n",
              "2                   1  \n",
              "3                   1  \n",
              "4                   1  \n",
              "...               ...  \n",
              "1999995             2  \n",
              "1999996             4  \n",
              "1999997             3  \n",
              "1999998             1  \n",
              "1999999             1  \n",
              "\n",
              "[1635302 rows x 3 columns]"
            ]
          },
          "execution_count": 287,
          "metadata": {},
          "output_type": "execute_result"
        }
      ],
      "source": [
        "user_song_info_top_25_percent_df = user_song_info[user_song_info['user_id'].isin(top_25_percent_users)]\n",
        "user_song_info_top_25_percent_df"
      ]
    },
    {
      "cell_type": "code",
      "execution_count": null,
      "metadata": {
        "id": "-omgO1NnZ_OY"
      },
      "outputs": [],
      "source": [
        "user_song_interactions_matrix = user_song_info_top_25_percent_df.pivot_table(index='song_id',columns='user_id',values='listen_count').fillna(0)"
      ]
    },
    {
      "cell_type": "code",
      "execution_count": null,
      "metadata": {
        "id": "blIcoxGHZ_OY",
        "outputId": "f3b4dfb9-d954-478c-9e28-8b03cb3f5951"
      },
      "outputs": [
        {
          "data": {
            "text/html": [
              "<div>\n",
              "<style scoped>\n",
              "    .dataframe tbody tr th:only-of-type {\n",
              "        vertical-align: middle;\n",
              "    }\n",
              "\n",
              "    .dataframe tbody tr th {\n",
              "        vertical-align: top;\n",
              "    }\n",
              "\n",
              "    .dataframe thead th {\n",
              "        text-align: right;\n",
              "    }\n",
              "</style>\n",
              "<table border=\"1\" class=\"dataframe\">\n",
              "  <thead>\n",
              "    <tr style=\"text-align: right;\">\n",
              "      <th>user_id</th>\n",
              "      <th>000e2c2a8c7870ff9121f212b35c8b3a20cc0e67</th>\n",
              "      <th>000ebc858861aca26bac9b49f650ed424cf882fc</th>\n",
              "      <th>000ef25cc955ad5841c915d269432eea41f4a1a5</th>\n",
              "      <th>0012bf75d43a724f62dc746d9e85ae0088a3a1d6</th>\n",
              "      <th>001322829b5dc3edc59bf78189617ddd8f23c82a</th>\n",
              "      <th>00185e316f07f0f00c325ca034be59c15b362401</th>\n",
              "      <th>0019740e3e8c24e223a6f88e3faa7c144ec5a014</th>\n",
              "      <th>001b005fe5e80d3cb45f320f5658fc8e2e72794e</th>\n",
              "      <th>001f22c638730aed5659034c447d3cf0e658898e</th>\n",
              "      <th>0021d9a4628624f6d70237f9c200ab82e766bf26</th>\n",
              "      <th>...</th>\n",
              "      <th>fff300cd094fe04030b79fae550dc9d065190182</th>\n",
              "      <th>fff4676dacb2e9a7217702f62ee70e88aa512ecc</th>\n",
              "      <th>fff4e1a7dacbe9c13051c08f09bf66d76cbee35e</th>\n",
              "      <th>fff543db7918cb8f4f56f7470903eb2f1d5a6dd8</th>\n",
              "      <th>fff6c30c773e6ffafcac213c9afd9666afaf6d63</th>\n",
              "      <th>fffb701ee87a32eff67eb040ed59146121f01571</th>\n",
              "      <th>fffc0df75a48d823ad5abfaf2a1ee61eb1e3302c</th>\n",
              "      <th>fffce9c1537fbc350ea68823d956eaa8f5236dbe</th>\n",
              "      <th>fffd9635b33f412de8ed02e44e6564e3644cf3c6</th>\n",
              "      <th>fffea3d509760c984e7d40789804c0e5e289cc86</th>\n",
              "    </tr>\n",
              "    <tr>\n",
              "      <th>song_id</th>\n",
              "      <th></th>\n",
              "      <th></th>\n",
              "      <th></th>\n",
              "      <th></th>\n",
              "      <th></th>\n",
              "      <th></th>\n",
              "      <th></th>\n",
              "      <th></th>\n",
              "      <th></th>\n",
              "      <th></th>\n",
              "      <th></th>\n",
              "      <th></th>\n",
              "      <th></th>\n",
              "      <th></th>\n",
              "      <th></th>\n",
              "      <th></th>\n",
              "      <th></th>\n",
              "      <th></th>\n",
              "      <th></th>\n",
              "      <th></th>\n",
              "      <th></th>\n",
              "    </tr>\n",
              "  </thead>\n",
              "  <tbody>\n",
              "    <tr>\n",
              "      <th>SOAAAGQ12A8C1420C8</th>\n",
              "      <td>0.0</td>\n",
              "      <td>0.0</td>\n",
              "      <td>0.0</td>\n",
              "      <td>0.0</td>\n",
              "      <td>0.0</td>\n",
              "      <td>0.0</td>\n",
              "      <td>0.0</td>\n",
              "      <td>0.0</td>\n",
              "      <td>0.0</td>\n",
              "      <td>0.0</td>\n",
              "      <td>...</td>\n",
              "      <td>0.0</td>\n",
              "      <td>0.0</td>\n",
              "      <td>0.0</td>\n",
              "      <td>0.0</td>\n",
              "      <td>0.0</td>\n",
              "      <td>0.0</td>\n",
              "      <td>0.0</td>\n",
              "      <td>0.0</td>\n",
              "      <td>0.0</td>\n",
              "      <td>0.0</td>\n",
              "    </tr>\n",
              "    <tr>\n",
              "      <th>SOAACPJ12A81C21360</th>\n",
              "      <td>0.0</td>\n",
              "      <td>0.0</td>\n",
              "      <td>0.0</td>\n",
              "      <td>0.0</td>\n",
              "      <td>0.0</td>\n",
              "      <td>0.0</td>\n",
              "      <td>0.0</td>\n",
              "      <td>0.0</td>\n",
              "      <td>0.0</td>\n",
              "      <td>0.0</td>\n",
              "      <td>...</td>\n",
              "      <td>0.0</td>\n",
              "      <td>0.0</td>\n",
              "      <td>0.0</td>\n",
              "      <td>0.0</td>\n",
              "      <td>0.0</td>\n",
              "      <td>0.0</td>\n",
              "      <td>0.0</td>\n",
              "      <td>0.0</td>\n",
              "      <td>0.0</td>\n",
              "      <td>0.0</td>\n",
              "    </tr>\n",
              "    <tr>\n",
              "      <th>SOAACSG12AB018DC80</th>\n",
              "      <td>0.0</td>\n",
              "      <td>0.0</td>\n",
              "      <td>0.0</td>\n",
              "      <td>0.0</td>\n",
              "      <td>0.0</td>\n",
              "      <td>0.0</td>\n",
              "      <td>0.0</td>\n",
              "      <td>0.0</td>\n",
              "      <td>0.0</td>\n",
              "      <td>0.0</td>\n",
              "      <td>...</td>\n",
              "      <td>0.0</td>\n",
              "      <td>0.0</td>\n",
              "      <td>0.0</td>\n",
              "      <td>0.0</td>\n",
              "      <td>0.0</td>\n",
              "      <td>0.0</td>\n",
              "      <td>0.0</td>\n",
              "      <td>0.0</td>\n",
              "      <td>0.0</td>\n",
              "      <td>0.0</td>\n",
              "    </tr>\n",
              "    <tr>\n",
              "      <th>SOAAEJI12AB0188AB5</th>\n",
              "      <td>0.0</td>\n",
              "      <td>0.0</td>\n",
              "      <td>0.0</td>\n",
              "      <td>0.0</td>\n",
              "      <td>0.0</td>\n",
              "      <td>0.0</td>\n",
              "      <td>0.0</td>\n",
              "      <td>0.0</td>\n",
              "      <td>0.0</td>\n",
              "      <td>0.0</td>\n",
              "      <td>...</td>\n",
              "      <td>0.0</td>\n",
              "      <td>0.0</td>\n",
              "      <td>0.0</td>\n",
              "      <td>0.0</td>\n",
              "      <td>0.0</td>\n",
              "      <td>0.0</td>\n",
              "      <td>0.0</td>\n",
              "      <td>0.0</td>\n",
              "      <td>0.0</td>\n",
              "      <td>0.0</td>\n",
              "    </tr>\n",
              "    <tr>\n",
              "      <th>SOAAFAC12A67ADF7EB</th>\n",
              "      <td>0.0</td>\n",
              "      <td>0.0</td>\n",
              "      <td>0.0</td>\n",
              "      <td>0.0</td>\n",
              "      <td>0.0</td>\n",
              "      <td>0.0</td>\n",
              "      <td>0.0</td>\n",
              "      <td>0.0</td>\n",
              "      <td>0.0</td>\n",
              "      <td>0.0</td>\n",
              "      <td>...</td>\n",
              "      <td>0.0</td>\n",
              "      <td>0.0</td>\n",
              "      <td>0.0</td>\n",
              "      <td>0.0</td>\n",
              "      <td>0.0</td>\n",
              "      <td>0.0</td>\n",
              "      <td>0.0</td>\n",
              "      <td>0.0</td>\n",
              "      <td>0.0</td>\n",
              "      <td>0.0</td>\n",
              "    </tr>\n",
              "    <tr>\n",
              "      <th>...</th>\n",
              "      <td>...</td>\n",
              "      <td>...</td>\n",
              "      <td>...</td>\n",
              "      <td>...</td>\n",
              "      <td>...</td>\n",
              "      <td>...</td>\n",
              "      <td>...</td>\n",
              "      <td>...</td>\n",
              "      <td>...</td>\n",
              "      <td>...</td>\n",
              "      <td>...</td>\n",
              "      <td>...</td>\n",
              "      <td>...</td>\n",
              "      <td>...</td>\n",
              "      <td>...</td>\n",
              "      <td>...</td>\n",
              "      <td>...</td>\n",
              "      <td>...</td>\n",
              "      <td>...</td>\n",
              "      <td>...</td>\n",
              "      <td>...</td>\n",
              "    </tr>\n",
              "    <tr>\n",
              "      <th>SOZZTNF12A8C139916</th>\n",
              "      <td>0.0</td>\n",
              "      <td>0.0</td>\n",
              "      <td>0.0</td>\n",
              "      <td>0.0</td>\n",
              "      <td>0.0</td>\n",
              "      <td>0.0</td>\n",
              "      <td>0.0</td>\n",
              "      <td>0.0</td>\n",
              "      <td>0.0</td>\n",
              "      <td>0.0</td>\n",
              "      <td>...</td>\n",
              "      <td>0.0</td>\n",
              "      <td>0.0</td>\n",
              "      <td>0.0</td>\n",
              "      <td>0.0</td>\n",
              "      <td>0.0</td>\n",
              "      <td>0.0</td>\n",
              "      <td>0.0</td>\n",
              "      <td>0.0</td>\n",
              "      <td>0.0</td>\n",
              "      <td>0.0</td>\n",
              "    </tr>\n",
              "    <tr>\n",
              "      <th>SOZZVWB12AB0189C30</th>\n",
              "      <td>0.0</td>\n",
              "      <td>0.0</td>\n",
              "      <td>0.0</td>\n",
              "      <td>0.0</td>\n",
              "      <td>0.0</td>\n",
              "      <td>0.0</td>\n",
              "      <td>0.0</td>\n",
              "      <td>0.0</td>\n",
              "      <td>0.0</td>\n",
              "      <td>0.0</td>\n",
              "      <td>...</td>\n",
              "      <td>0.0</td>\n",
              "      <td>0.0</td>\n",
              "      <td>0.0</td>\n",
              "      <td>0.0</td>\n",
              "      <td>0.0</td>\n",
              "      <td>0.0</td>\n",
              "      <td>0.0</td>\n",
              "      <td>0.0</td>\n",
              "      <td>0.0</td>\n",
              "      <td>0.0</td>\n",
              "    </tr>\n",
              "    <tr>\n",
              "      <th>SOZZWZV12A67AE140F</th>\n",
              "      <td>0.0</td>\n",
              "      <td>0.0</td>\n",
              "      <td>0.0</td>\n",
              "      <td>0.0</td>\n",
              "      <td>0.0</td>\n",
              "      <td>0.0</td>\n",
              "      <td>0.0</td>\n",
              "      <td>0.0</td>\n",
              "      <td>0.0</td>\n",
              "      <td>0.0</td>\n",
              "      <td>...</td>\n",
              "      <td>0.0</td>\n",
              "      <td>0.0</td>\n",
              "      <td>0.0</td>\n",
              "      <td>0.0</td>\n",
              "      <td>0.0</td>\n",
              "      <td>0.0</td>\n",
              "      <td>0.0</td>\n",
              "      <td>0.0</td>\n",
              "      <td>0.0</td>\n",
              "      <td>0.0</td>\n",
              "    </tr>\n",
              "    <tr>\n",
              "      <th>SOZZYAO12A6701FF36</th>\n",
              "      <td>0.0</td>\n",
              "      <td>0.0</td>\n",
              "      <td>0.0</td>\n",
              "      <td>0.0</td>\n",
              "      <td>0.0</td>\n",
              "      <td>0.0</td>\n",
              "      <td>0.0</td>\n",
              "      <td>0.0</td>\n",
              "      <td>0.0</td>\n",
              "      <td>0.0</td>\n",
              "      <td>...</td>\n",
              "      <td>0.0</td>\n",
              "      <td>0.0</td>\n",
              "      <td>0.0</td>\n",
              "      <td>0.0</td>\n",
              "      <td>0.0</td>\n",
              "      <td>0.0</td>\n",
              "      <td>0.0</td>\n",
              "      <td>0.0</td>\n",
              "      <td>0.0</td>\n",
              "      <td>0.0</td>\n",
              "    </tr>\n",
              "    <tr>\n",
              "      <th>SOZZZPV12A8C1444B5</th>\n",
              "      <td>0.0</td>\n",
              "      <td>0.0</td>\n",
              "      <td>0.0</td>\n",
              "      <td>0.0</td>\n",
              "      <td>0.0</td>\n",
              "      <td>0.0</td>\n",
              "      <td>0.0</td>\n",
              "      <td>0.0</td>\n",
              "      <td>0.0</td>\n",
              "      <td>0.0</td>\n",
              "      <td>...</td>\n",
              "      <td>0.0</td>\n",
              "      <td>0.0</td>\n",
              "      <td>0.0</td>\n",
              "      <td>0.0</td>\n",
              "      <td>0.0</td>\n",
              "      <td>0.0</td>\n",
              "      <td>0.0</td>\n",
              "      <td>0.0</td>\n",
              "      <td>0.0</td>\n",
              "      <td>0.0</td>\n",
              "    </tr>\n",
              "  </tbody>\n",
              "</table>\n",
              "<p>10000 rows × 36561 columns</p>\n",
              "</div>"
            ],
            "text/plain": [
              "user_id             000e2c2a8c7870ff9121f212b35c8b3a20cc0e67  \\\n",
              "song_id                                                        \n",
              "SOAAAGQ12A8C1420C8                                       0.0   \n",
              "SOAACPJ12A81C21360                                       0.0   \n",
              "SOAACSG12AB018DC80                                       0.0   \n",
              "SOAAEJI12AB0188AB5                                       0.0   \n",
              "SOAAFAC12A67ADF7EB                                       0.0   \n",
              "...                                                      ...   \n",
              "SOZZTNF12A8C139916                                       0.0   \n",
              "SOZZVWB12AB0189C30                                       0.0   \n",
              "SOZZWZV12A67AE140F                                       0.0   \n",
              "SOZZYAO12A6701FF36                                       0.0   \n",
              "SOZZZPV12A8C1444B5                                       0.0   \n",
              "\n",
              "user_id             000ebc858861aca26bac9b49f650ed424cf882fc  \\\n",
              "song_id                                                        \n",
              "SOAAAGQ12A8C1420C8                                       0.0   \n",
              "SOAACPJ12A81C21360                                       0.0   \n",
              "SOAACSG12AB018DC80                                       0.0   \n",
              "SOAAEJI12AB0188AB5                                       0.0   \n",
              "SOAAFAC12A67ADF7EB                                       0.0   \n",
              "...                                                      ...   \n",
              "SOZZTNF12A8C139916                                       0.0   \n",
              "SOZZVWB12AB0189C30                                       0.0   \n",
              "SOZZWZV12A67AE140F                                       0.0   \n",
              "SOZZYAO12A6701FF36                                       0.0   \n",
              "SOZZZPV12A8C1444B5                                       0.0   \n",
              "\n",
              "user_id             000ef25cc955ad5841c915d269432eea41f4a1a5  \\\n",
              "song_id                                                        \n",
              "SOAAAGQ12A8C1420C8                                       0.0   \n",
              "SOAACPJ12A81C21360                                       0.0   \n",
              "SOAACSG12AB018DC80                                       0.0   \n",
              "SOAAEJI12AB0188AB5                                       0.0   \n",
              "SOAAFAC12A67ADF7EB                                       0.0   \n",
              "...                                                      ...   \n",
              "SOZZTNF12A8C139916                                       0.0   \n",
              "SOZZVWB12AB0189C30                                       0.0   \n",
              "SOZZWZV12A67AE140F                                       0.0   \n",
              "SOZZYAO12A6701FF36                                       0.0   \n",
              "SOZZZPV12A8C1444B5                                       0.0   \n",
              "\n",
              "user_id             0012bf75d43a724f62dc746d9e85ae0088a3a1d6  \\\n",
              "song_id                                                        \n",
              "SOAAAGQ12A8C1420C8                                       0.0   \n",
              "SOAACPJ12A81C21360                                       0.0   \n",
              "SOAACSG12AB018DC80                                       0.0   \n",
              "SOAAEJI12AB0188AB5                                       0.0   \n",
              "SOAAFAC12A67ADF7EB                                       0.0   \n",
              "...                                                      ...   \n",
              "SOZZTNF12A8C139916                                       0.0   \n",
              "SOZZVWB12AB0189C30                                       0.0   \n",
              "SOZZWZV12A67AE140F                                       0.0   \n",
              "SOZZYAO12A6701FF36                                       0.0   \n",
              "SOZZZPV12A8C1444B5                                       0.0   \n",
              "\n",
              "user_id             001322829b5dc3edc59bf78189617ddd8f23c82a  \\\n",
              "song_id                                                        \n",
              "SOAAAGQ12A8C1420C8                                       0.0   \n",
              "SOAACPJ12A81C21360                                       0.0   \n",
              "SOAACSG12AB018DC80                                       0.0   \n",
              "SOAAEJI12AB0188AB5                                       0.0   \n",
              "SOAAFAC12A67ADF7EB                                       0.0   \n",
              "...                                                      ...   \n",
              "SOZZTNF12A8C139916                                       0.0   \n",
              "SOZZVWB12AB0189C30                                       0.0   \n",
              "SOZZWZV12A67AE140F                                       0.0   \n",
              "SOZZYAO12A6701FF36                                       0.0   \n",
              "SOZZZPV12A8C1444B5                                       0.0   \n",
              "\n",
              "user_id             00185e316f07f0f00c325ca034be59c15b362401  \\\n",
              "song_id                                                        \n",
              "SOAAAGQ12A8C1420C8                                       0.0   \n",
              "SOAACPJ12A81C21360                                       0.0   \n",
              "SOAACSG12AB018DC80                                       0.0   \n",
              "SOAAEJI12AB0188AB5                                       0.0   \n",
              "SOAAFAC12A67ADF7EB                                       0.0   \n",
              "...                                                      ...   \n",
              "SOZZTNF12A8C139916                                       0.0   \n",
              "SOZZVWB12AB0189C30                                       0.0   \n",
              "SOZZWZV12A67AE140F                                       0.0   \n",
              "SOZZYAO12A6701FF36                                       0.0   \n",
              "SOZZZPV12A8C1444B5                                       0.0   \n",
              "\n",
              "user_id             0019740e3e8c24e223a6f88e3faa7c144ec5a014  \\\n",
              "song_id                                                        \n",
              "SOAAAGQ12A8C1420C8                                       0.0   \n",
              "SOAACPJ12A81C21360                                       0.0   \n",
              "SOAACSG12AB018DC80                                       0.0   \n",
              "SOAAEJI12AB0188AB5                                       0.0   \n",
              "SOAAFAC12A67ADF7EB                                       0.0   \n",
              "...                                                      ...   \n",
              "SOZZTNF12A8C139916                                       0.0   \n",
              "SOZZVWB12AB0189C30                                       0.0   \n",
              "SOZZWZV12A67AE140F                                       0.0   \n",
              "SOZZYAO12A6701FF36                                       0.0   \n",
              "SOZZZPV12A8C1444B5                                       0.0   \n",
              "\n",
              "user_id             001b005fe5e80d3cb45f320f5658fc8e2e72794e  \\\n",
              "song_id                                                        \n",
              "SOAAAGQ12A8C1420C8                                       0.0   \n",
              "SOAACPJ12A81C21360                                       0.0   \n",
              "SOAACSG12AB018DC80                                       0.0   \n",
              "SOAAEJI12AB0188AB5                                       0.0   \n",
              "SOAAFAC12A67ADF7EB                                       0.0   \n",
              "...                                                      ...   \n",
              "SOZZTNF12A8C139916                                       0.0   \n",
              "SOZZVWB12AB0189C30                                       0.0   \n",
              "SOZZWZV12A67AE140F                                       0.0   \n",
              "SOZZYAO12A6701FF36                                       0.0   \n",
              "SOZZZPV12A8C1444B5                                       0.0   \n",
              "\n",
              "user_id             001f22c638730aed5659034c447d3cf0e658898e  \\\n",
              "song_id                                                        \n",
              "SOAAAGQ12A8C1420C8                                       0.0   \n",
              "SOAACPJ12A81C21360                                       0.0   \n",
              "SOAACSG12AB018DC80                                       0.0   \n",
              "SOAAEJI12AB0188AB5                                       0.0   \n",
              "SOAAFAC12A67ADF7EB                                       0.0   \n",
              "...                                                      ...   \n",
              "SOZZTNF12A8C139916                                       0.0   \n",
              "SOZZVWB12AB0189C30                                       0.0   \n",
              "SOZZWZV12A67AE140F                                       0.0   \n",
              "SOZZYAO12A6701FF36                                       0.0   \n",
              "SOZZZPV12A8C1444B5                                       0.0   \n",
              "\n",
              "user_id             0021d9a4628624f6d70237f9c200ab82e766bf26  ...  \\\n",
              "song_id                                                       ...   \n",
              "SOAAAGQ12A8C1420C8                                       0.0  ...   \n",
              "SOAACPJ12A81C21360                                       0.0  ...   \n",
              "SOAACSG12AB018DC80                                       0.0  ...   \n",
              "SOAAEJI12AB0188AB5                                       0.0  ...   \n",
              "SOAAFAC12A67ADF7EB                                       0.0  ...   \n",
              "...                                                      ...  ...   \n",
              "SOZZTNF12A8C139916                                       0.0  ...   \n",
              "SOZZVWB12AB0189C30                                       0.0  ...   \n",
              "SOZZWZV12A67AE140F                                       0.0  ...   \n",
              "SOZZYAO12A6701FF36                                       0.0  ...   \n",
              "SOZZZPV12A8C1444B5                                       0.0  ...   \n",
              "\n",
              "user_id             fff300cd094fe04030b79fae550dc9d065190182  \\\n",
              "song_id                                                        \n",
              "SOAAAGQ12A8C1420C8                                       0.0   \n",
              "SOAACPJ12A81C21360                                       0.0   \n",
              "SOAACSG12AB018DC80                                       0.0   \n",
              "SOAAEJI12AB0188AB5                                       0.0   \n",
              "SOAAFAC12A67ADF7EB                                       0.0   \n",
              "...                                                      ...   \n",
              "SOZZTNF12A8C139916                                       0.0   \n",
              "SOZZVWB12AB0189C30                                       0.0   \n",
              "SOZZWZV12A67AE140F                                       0.0   \n",
              "SOZZYAO12A6701FF36                                       0.0   \n",
              "SOZZZPV12A8C1444B5                                       0.0   \n",
              "\n",
              "user_id             fff4676dacb2e9a7217702f62ee70e88aa512ecc  \\\n",
              "song_id                                                        \n",
              "SOAAAGQ12A8C1420C8                                       0.0   \n",
              "SOAACPJ12A81C21360                                       0.0   \n",
              "SOAACSG12AB018DC80                                       0.0   \n",
              "SOAAEJI12AB0188AB5                                       0.0   \n",
              "SOAAFAC12A67ADF7EB                                       0.0   \n",
              "...                                                      ...   \n",
              "SOZZTNF12A8C139916                                       0.0   \n",
              "SOZZVWB12AB0189C30                                       0.0   \n",
              "SOZZWZV12A67AE140F                                       0.0   \n",
              "SOZZYAO12A6701FF36                                       0.0   \n",
              "SOZZZPV12A8C1444B5                                       0.0   \n",
              "\n",
              "user_id             fff4e1a7dacbe9c13051c08f09bf66d76cbee35e  \\\n",
              "song_id                                                        \n",
              "SOAAAGQ12A8C1420C8                                       0.0   \n",
              "SOAACPJ12A81C21360                                       0.0   \n",
              "SOAACSG12AB018DC80                                       0.0   \n",
              "SOAAEJI12AB0188AB5                                       0.0   \n",
              "SOAAFAC12A67ADF7EB                                       0.0   \n",
              "...                                                      ...   \n",
              "SOZZTNF12A8C139916                                       0.0   \n",
              "SOZZVWB12AB0189C30                                       0.0   \n",
              "SOZZWZV12A67AE140F                                       0.0   \n",
              "SOZZYAO12A6701FF36                                       0.0   \n",
              "SOZZZPV12A8C1444B5                                       0.0   \n",
              "\n",
              "user_id             fff543db7918cb8f4f56f7470903eb2f1d5a6dd8  \\\n",
              "song_id                                                        \n",
              "SOAAAGQ12A8C1420C8                                       0.0   \n",
              "SOAACPJ12A81C21360                                       0.0   \n",
              "SOAACSG12AB018DC80                                       0.0   \n",
              "SOAAEJI12AB0188AB5                                       0.0   \n",
              "SOAAFAC12A67ADF7EB                                       0.0   \n",
              "...                                                      ...   \n",
              "SOZZTNF12A8C139916                                       0.0   \n",
              "SOZZVWB12AB0189C30                                       0.0   \n",
              "SOZZWZV12A67AE140F                                       0.0   \n",
              "SOZZYAO12A6701FF36                                       0.0   \n",
              "SOZZZPV12A8C1444B5                                       0.0   \n",
              "\n",
              "user_id             fff6c30c773e6ffafcac213c9afd9666afaf6d63  \\\n",
              "song_id                                                        \n",
              "SOAAAGQ12A8C1420C8                                       0.0   \n",
              "SOAACPJ12A81C21360                                       0.0   \n",
              "SOAACSG12AB018DC80                                       0.0   \n",
              "SOAAEJI12AB0188AB5                                       0.0   \n",
              "SOAAFAC12A67ADF7EB                                       0.0   \n",
              "...                                                      ...   \n",
              "SOZZTNF12A8C139916                                       0.0   \n",
              "SOZZVWB12AB0189C30                                       0.0   \n",
              "SOZZWZV12A67AE140F                                       0.0   \n",
              "SOZZYAO12A6701FF36                                       0.0   \n",
              "SOZZZPV12A8C1444B5                                       0.0   \n",
              "\n",
              "user_id             fffb701ee87a32eff67eb040ed59146121f01571  \\\n",
              "song_id                                                        \n",
              "SOAAAGQ12A8C1420C8                                       0.0   \n",
              "SOAACPJ12A81C21360                                       0.0   \n",
              "SOAACSG12AB018DC80                                       0.0   \n",
              "SOAAEJI12AB0188AB5                                       0.0   \n",
              "SOAAFAC12A67ADF7EB                                       0.0   \n",
              "...                                                      ...   \n",
              "SOZZTNF12A8C139916                                       0.0   \n",
              "SOZZVWB12AB0189C30                                       0.0   \n",
              "SOZZWZV12A67AE140F                                       0.0   \n",
              "SOZZYAO12A6701FF36                                       0.0   \n",
              "SOZZZPV12A8C1444B5                                       0.0   \n",
              "\n",
              "user_id             fffc0df75a48d823ad5abfaf2a1ee61eb1e3302c  \\\n",
              "song_id                                                        \n",
              "SOAAAGQ12A8C1420C8                                       0.0   \n",
              "SOAACPJ12A81C21360                                       0.0   \n",
              "SOAACSG12AB018DC80                                       0.0   \n",
              "SOAAEJI12AB0188AB5                                       0.0   \n",
              "SOAAFAC12A67ADF7EB                                       0.0   \n",
              "...                                                      ...   \n",
              "SOZZTNF12A8C139916                                       0.0   \n",
              "SOZZVWB12AB0189C30                                       0.0   \n",
              "SOZZWZV12A67AE140F                                       0.0   \n",
              "SOZZYAO12A6701FF36                                       0.0   \n",
              "SOZZZPV12A8C1444B5                                       0.0   \n",
              "\n",
              "user_id             fffce9c1537fbc350ea68823d956eaa8f5236dbe  \\\n",
              "song_id                                                        \n",
              "SOAAAGQ12A8C1420C8                                       0.0   \n",
              "SOAACPJ12A81C21360                                       0.0   \n",
              "SOAACSG12AB018DC80                                       0.0   \n",
              "SOAAEJI12AB0188AB5                                       0.0   \n",
              "SOAAFAC12A67ADF7EB                                       0.0   \n",
              "...                                                      ...   \n",
              "SOZZTNF12A8C139916                                       0.0   \n",
              "SOZZVWB12AB0189C30                                       0.0   \n",
              "SOZZWZV12A67AE140F                                       0.0   \n",
              "SOZZYAO12A6701FF36                                       0.0   \n",
              "SOZZZPV12A8C1444B5                                       0.0   \n",
              "\n",
              "user_id             fffd9635b33f412de8ed02e44e6564e3644cf3c6  \\\n",
              "song_id                                                        \n",
              "SOAAAGQ12A8C1420C8                                       0.0   \n",
              "SOAACPJ12A81C21360                                       0.0   \n",
              "SOAACSG12AB018DC80                                       0.0   \n",
              "SOAAEJI12AB0188AB5                                       0.0   \n",
              "SOAAFAC12A67ADF7EB                                       0.0   \n",
              "...                                                      ...   \n",
              "SOZZTNF12A8C139916                                       0.0   \n",
              "SOZZVWB12AB0189C30                                       0.0   \n",
              "SOZZWZV12A67AE140F                                       0.0   \n",
              "SOZZYAO12A6701FF36                                       0.0   \n",
              "SOZZZPV12A8C1444B5                                       0.0   \n",
              "\n",
              "user_id             fffea3d509760c984e7d40789804c0e5e289cc86  \n",
              "song_id                                                       \n",
              "SOAAAGQ12A8C1420C8                                       0.0  \n",
              "SOAACPJ12A81C21360                                       0.0  \n",
              "SOAACSG12AB018DC80                                       0.0  \n",
              "SOAAEJI12AB0188AB5                                       0.0  \n",
              "SOAAFAC12A67ADF7EB                                       0.0  \n",
              "...                                                      ...  \n",
              "SOZZTNF12A8C139916                                       0.0  \n",
              "SOZZVWB12AB0189C30                                       0.0  \n",
              "SOZZWZV12A67AE140F                                       0.0  \n",
              "SOZZYAO12A6701FF36                                       0.0  \n",
              "SOZZZPV12A8C1444B5                                       0.0  \n",
              "\n",
              "[10000 rows x 36561 columns]"
            ]
          },
          "execution_count": 289,
          "metadata": {},
          "output_type": "execute_result"
        }
      ],
      "source": [
        "user_song_interactions_matrix"
      ]
    },
    {
      "cell_type": "code",
      "execution_count": null,
      "metadata": {
        "id": "zl5U28JmZ_OY",
        "outputId": "18e0f5eb-19af-4e97-cf33-9e67136da1e4"
      },
      "outputs": [
        {
          "data": {
            "text/plain": [
              "NearestNeighbors(algorithm='brute', metric='cosine')"
            ]
          },
          "execution_count": 290,
          "metadata": {},
          "output_type": "execute_result"
        }
      ],
      "source": [
        "from scipy.sparse import csr_matrix\n",
        "from sklearn.neighbors import NearestNeighbors\n",
        "\n",
        "\n",
        "user_song_interactions = csr_matrix(user_song_interactions_matrix.values)\n",
        "knn_model = NearestNeighbors(metric='cosine',algorithm='brute')\n",
        "knn_model.fit(user_song_interactions)"
      ]
    },
    {
      "cell_type": "code",
      "execution_count": null,
      "metadata": {
        "id": "lDMG2sxXZ_OY"
      },
      "outputs": [],
      "source": []
    },
    {
      "cell_type": "code",
      "execution_count": null,
      "metadata": {
        "id": "gN3Tk97vZ_OY"
      },
      "outputs": [],
      "source": [
        "song_id = 'SOAAEJI12AB0188AB5'"
      ]
    },
    {
      "cell_type": "code",
      "execution_count": null,
      "metadata": {
        "id": "CZ3TeWNVZ_OY"
      },
      "outputs": [],
      "source": [
        "song_features = user_song_interactions_matrix.loc[song_id].values\n",
        "k = 6"
      ]
    },
    {
      "cell_type": "code",
      "execution_count": null,
      "metadata": {
        "id": "ovSivNhnZ_OY"
      },
      "outputs": [],
      "source": [
        "distances,indices = knn_model.kneighbors(song_features.reshape(1,-1),n_neighbors=k+1)"
      ]
    },
    {
      "cell_type": "code",
      "execution_count": null,
      "metadata": {
        "id": "GctuDH1MZ_OZ",
        "outputId": "86e1938b-7bd6-4cdf-92e1-5e7ee00d9b17"
      },
      "outputs": [
        {
          "data": {
            "text/plain": [
              "array([[1.11022302e-16, 8.25176795e-01, 8.53691164e-01, 8.54207886e-01,\n",
              "        8.60920505e-01, 8.78092495e-01, 8.97759559e-01]])"
            ]
          },
          "execution_count": 294,
          "metadata": {},
          "output_type": "execute_result"
        }
      ],
      "source": [
        "distances"
      ]
    },
    {
      "cell_type": "code",
      "execution_count": null,
      "metadata": {
        "id": "p9HeEq3DZ_OZ"
      },
      "outputs": [],
      "source": [
        "k_similar_songs_matrix = user_song_interactions_matrix.iloc[indices.tolist()[0][1:]]"
      ]
    },
    {
      "cell_type": "code",
      "execution_count": null,
      "metadata": {
        "id": "O68roQ9UZ_OZ"
      },
      "outputs": [],
      "source": [
        "k_similar_songs_ids = list(k_similar_songs_matrix.index)"
      ]
    },
    {
      "cell_type": "code",
      "execution_count": null,
      "metadata": {
        "id": "OGZvfe7BZ_OZ",
        "outputId": "942bbe07-7de7-4d1f-93b7-f015377339db"
      },
      "outputs": [
        {
          "data": {
            "text/plain": [
              "['SORGBIT12A6D4F7AC5',\n",
              " 'SOXSTRR12AB018DB42',\n",
              " 'SOJITNW12A8C13D951',\n",
              " 'SOIQHPL12A6701F061',\n",
              " 'SOMYODU12AB017D9E9',\n",
              " 'SORJKSL12AB017D9F4']"
            ]
          },
          "execution_count": 297,
          "metadata": {},
          "output_type": "execute_result"
        }
      ],
      "source": [
        "k_similar_songs_ids"
      ]
    },
    {
      "cell_type": "code",
      "execution_count": null,
      "metadata": {
        "id": "-ze77kHXZ_OZ"
      },
      "outputs": [],
      "source": [
        "k_similar_songs = list(song_analysis_df[song_analysis_df['song_id'].isin(k_similar_songs_ids)]['title'].values)\n",
        "given_song = song_analysis_df[song_analysis_df['song_id'] == song_id]['title']\n",
        "given_song = given_song.values[0]"
      ]
    },
    {
      "cell_type": "code",
      "execution_count": null,
      "metadata": {
        "id": "jRApEwGIZ_OZ",
        "outputId": "56fcfbb3-f16c-40ce-cbc6-4cec0e75439c"
      },
      "outputs": [
        {
          "name": "stdout",
          "output_type": "stream",
          "text": [
            "6 similar songs to 'Godlovesugly' are\n",
            "\n",
            "The Penalty\n",
            "Never Before\n",
            "Dysfunctional (feat. Big Scoob & Krizz Kaliko)\n",
            "In This World\n",
            "Swing Tree\n",
            "So Insane\n"
          ]
        }
      ],
      "source": [
        "print(f\"{k} similar songs to '{given_song}' are\\n\")\n",
        "\n",
        "for song in k_similar_songs:\n",
        "    print(song)"
      ]
    },
    {
      "cell_type": "code",
      "execution_count": null,
      "metadata": {
        "id": "-aP7OaiAZ_OZ"
      },
      "outputs": [],
      "source": []
    },
    {
      "cell_type": "code",
      "execution_count": null,
      "metadata": {
        "id": "knK7oba2Z_OZ"
      },
      "outputs": [],
      "source": []
    }
  ],
  "metadata": {
    "accelerator": "GPU",
    "colab": {
      "provenance": [],
      "collapsed_sections": [
        "Ey3GT7J0Z_ON",
        "bmpMDWxuZ_OQ",
        "20oL_1VAZ_OS",
        "zyiPJCykZ_OT",
        "J642rjTbZ_OU",
        "BMNBSeFTZ_OV",
        "loxofnRIZ_OW",
        "LR2I1erlZ_OX",
        "WMKdowQyZ_OX"
      ]
    },
    "gpuClass": "standard",
    "kernelspec": {
      "display_name": "Python 3 (ipykernel)",
      "language": "python",
      "name": "python3"
    },
    "language_info": {
      "codemirror_mode": {
        "name": "ipython",
        "version": 3
      },
      "file_extension": ".py",
      "mimetype": "text/x-python",
      "name": "python",
      "nbconvert_exporter": "python",
      "pygments_lexer": "ipython3",
      "version": "3.9.12"
    }
  },
  "nbformat": 4,
  "nbformat_minor": 0
}