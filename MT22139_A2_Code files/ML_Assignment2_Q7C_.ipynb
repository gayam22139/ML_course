{
  "nbformat": 4,
  "nbformat_minor": 0,
  "metadata": {
    "colab": {
      "provenance": [],
      "collapsed_sections": []
    },
    "kernelspec": {
      "name": "python3",
      "display_name": "Python 3"
    },
    "language_info": {
      "name": "python"
    }
  },
  "cells": [
    {
      "cell_type": "markdown",
      "source": [
        "### **Finding the metrics of given data** "
      ],
      "metadata": {
        "id": "IyqLm5ZaERDU"
      }
    },
    {
      "cell_type": "code",
      "execution_count": null,
      "metadata": {
        "colab": {
          "base_uri": "https://localhost:8080/"
        },
        "id": "oS9rtJfq-SiP",
        "outputId": "0337ae11-0138-42b8-95a5-2ebdce8848ea"
      },
      "outputs": [
        {
          "output_type": "stream",
          "name": "stdout",
          "text": [
            "Precision score is :  0.5\n",
            "Recall score is :  1.0\n",
            "F-0.5 Score  is :  0.5555555555555556\n",
            "F-1 Score is :  0.6666666666666666\n",
            "F-5 Score is :  0.9629629629629629\n",
            "true_pos 5\n",
            "true_neg 0\n",
            "false_pos 5\n",
            "false_neg 0\n",
            "precision value is 0.5\n",
            "recall value is 1.0\n",
            "f1_score is 0.6666666666666666\n",
            "f5_score is 0.9629629629629629\n",
            "fhalf_score is 0.56\n"
          ]
        }
      ],
      "source": [
        "ytrue = [1, 1, 1, 1, 1, 0, 0, 0, 0, 0]\n",
        "ypred = [1, 1, 1, 1, 1, 1, 1, 1, 1, 1]\n",
        "\n",
        "#By using standard functions\n",
        "from sklearn.metrics import precision_score\n",
        "precision = precision_score(ytrue,ypred)\n",
        "print(\"Precision score is : \", precision)\n",
        "\n",
        "from sklearn.metrics import recall_score\n",
        "recall = recall_score(ytrue,ypred)\n",
        "print(\"Recall score is : \", recall)\n",
        "\n",
        "from sklearn.metrics import fbeta_score\n",
        "Fhalf_score = fbeta_score(ytrue, ypred, beta=0.5)\n",
        "print(\"F-0.5 Score  is : \",Fhalf_score)\n",
        "F1_score = fbeta_score(ytrue, ypred, beta=1)\n",
        "print(\"F-1 Score is : \",F1_score)\n",
        "F5_score = fbeta_score(ytrue, ypred, beta=5)\n",
        "print(\"F-5 Score is : \",F5_score)\n",
        "\n",
        "# By using formulas from scratch \n",
        "true_pos = 0\n",
        "true_neg = 0\n",
        "false_pos = 0\n",
        "false_neg = 0\n",
        "for i in range(len(ypred)):\n",
        "  if ypred[i] == 0:#true value is negative\n",
        "    if (ytrue[i] == ypred[i]):\n",
        "      true_neg+=1\n",
        "    else:\n",
        "      false_neg+=1\n",
        "  if (ypred[i] == 1):\n",
        "    if (ytrue[i] == ypred[i]):\n",
        "      true_pos+=1\n",
        "    else:\n",
        "      false_pos+=1\n",
        "\n",
        "print(\"true_pos\",true_pos)\n",
        "print(\"true_neg\",true_neg)\n",
        "print(\"false_pos\",false_pos)\n",
        "print(\"false_neg\",false_neg)\n",
        "    \n",
        "precision = (true_pos)/(true_pos+false_pos)\n",
        "print(\"precision value is\",precision)\n",
        "\n",
        "recall = (true_pos)/(true_pos+false_neg)\n",
        "print(\"recall value is\",recall)\n",
        "\n",
        "f1_score_func = 2/((1/recall)+(1/precision))\n",
        "print(\"f1_score is\",f1_score_func)\n",
        "\n",
        "f5_score_func =((26)*precision*recall)/((25*precision)+recall)\n",
        "print(\"f5_score is\",f5_score_func)\n",
        "\n",
        "fhalf_score_func =(((1.26)*precision*recall))/((0.25*precision)+recall)\n",
        "print(\"fhalf_score is\",fhalf_score_func)"
      ]
    }
  ]
}