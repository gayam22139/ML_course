{
  "nbformat": 4,
  "nbformat_minor": 0,
  "metadata": {
    "colab": {
      "provenance": [],
      "collapsed_sections": []
    },
    "kernelspec": {
      "name": "python3",
      "display_name": "Python 3"
    },
    "language_info": {
      "name": "python"
    }
  },
  "cells": [
    {
      "cell_type": "markdown",
      "source": [
        "### **Importing Libraries**"
      ],
      "metadata": {
        "id": "F0hV7L7P1El-"
      }
    },
    {
      "cell_type": "code",
      "execution_count": null,
      "metadata": {
        "id": "zBeb0x_5ohsb"
      },
      "outputs": [],
      "source": [
        "import gzip\n",
        "import numpy as np\n",
        "import pandas as pd "
      ]
    },
    {
      "cell_type": "markdown",
      "source": [
        "### **Importing data**"
      ],
      "metadata": {
        "id": "79IXynZ43jJg"
      }
    },
    {
      "cell_type": "code",
      "source": [
        "x_train_images = '/content/train-images-idx3-ubyte.gz'\n",
        "y_train_labels = '/content/train-labels-idx1-ubyte.gz'\n",
        "\n",
        "x_test_images = '/content/t10k-images-idx3-ubyte.gz'\n",
        "y_test_labels = '/content/t10k-labels-idx1-ubyte.gz'\n",
        "\n",
        "with gzip.open(y_train_labels, 'rb') as trainlabelspath:\n",
        "     y_train_labels_mod = np.frombuffer(trainlabelspath.read(), dtype=np.uint8,\n",
        "                               offset=8)\n",
        "with gzip.open(x_train_images, 'rb') as trainimagespath:\n",
        "     x_train_images_mod = np.frombuffer(trainimagespath.read(), dtype=np.uint8,\n",
        "                               offset=16).reshape(len(y_train_labels_mod), 784)\n",
        "\n",
        "with gzip.open(y_test_labels, 'rb') as testlabelspath:\n",
        "     y_test_labels_mod = np.frombuffer(testlabelspath.read(), dtype=np.uint8,\n",
        "                               offset=8)\n",
        "\n",
        "with gzip.open(x_test_images, 'rb') as testimagespath:\n",
        "     x_test_images_mod = np.frombuffer(testimagespath.read(), dtype=np.uint8,\n",
        "                               offset=16).reshape(len(y_test_labels_mod), 784)    "
      ],
      "metadata": {
        "id": "QfSXmz73o8vu"
      },
      "execution_count": null,
      "outputs": []
    },
    {
      "cell_type": "code",
      "source": [
        "print(y_train_labels_mod.shape)\n",
        "print(x_train_images_mod.shape)\n",
        "print(y_test_labels_mod.shape)\n",
        "print(x_test_images_mod.shape)"
      ],
      "metadata": {
        "colab": {
          "base_uri": "https://localhost:8080/"
        },
        "id": "Zi3sxeLJqW-g",
        "outputId": "7144a50a-50a1-49df-d94d-1f476c9ada6d"
      },
      "execution_count": null,
      "outputs": [
        {
          "output_type": "stream",
          "name": "stdout",
          "text": [
            "(60000,)\n",
            "(60000, 784)\n",
            "(10000,)\n",
            "(10000, 784)\n"
          ]
        }
      ]
    },
    {
      "cell_type": "markdown",
      "source": [
        "### **Combining imported data**"
      ],
      "metadata": {
        "id": "ypKQOzPf32OO"
      }
    },
    {
      "cell_type": "code",
      "source": [
        "x,y = np.r_[x_train_images_mod,x_test_images_mod], np.r_[y_train_labels_mod,y_test_labels_mod]"
      ],
      "metadata": {
        "id": "C3IJTGHxFKlE"
      },
      "execution_count": null,
      "outputs": []
    },
    {
      "cell_type": "code",
      "source": [
        "samples = 7000 #for each class there are 7000 images\n",
        "x = x[:samples]/255\n",
        "y = y[:samples].astype('int')"
      ],
      "metadata": {
        "id": "DU9gXtaUqX3L"
      },
      "execution_count": null,
      "outputs": []
    },
    {
      "cell_type": "code",
      "source": [
        "print(x.shape)\n",
        "print(y.shape)"
      ],
      "metadata": {
        "colab": {
          "base_uri": "https://localhost:8080/"
        },
        "id": "v_mU0vi7qfuK",
        "outputId": "473d06a1-86f6-48ca-d40d-60a9b2bc1688"
      },
      "execution_count": null,
      "outputs": [
        {
          "output_type": "stream",
          "name": "stdout",
          "text": [
            "(7000, 784)\n",
            "(7000,)\n"
          ]
        }
      ]
    },
    {
      "cell_type": "markdown",
      "source": [
        "### **Visualizing the data**"
      ],
      "metadata": {
        "id": "rONyA-P34EfX"
      }
    },
    {
      "cell_type": "code",
      "source": [
        "import scipy.cluster.hierarchy as sch\n",
        "import matplotlib.pyplot as plt\n",
        "#To find the no.of optimum clusters here it is 3\n",
        "plt.figure(figsize=(10, 7))\n",
        "dendrogram = sch.dendrogram(sch.linkage(x, method  = \"ward\"))\n",
        "plt.title('Dendrogram')\n",
        "plt.ylabel('Euclidean distances')\n",
        "plt.show()"
      ],
      "metadata": {
        "colab": {
          "base_uri": "https://localhost:8080/",
          "height": 447
        },
        "id": "Zew2fIaLqgJs",
        "outputId": "3b6cccbb-86db-42af-dc76-185f5cb86d81"
      },
      "execution_count": null,
      "outputs": [
        {
          "output_type": "display_data",
          "data": {
            "text/plain": [
              "<Figure size 720x504 with 1 Axes>"
            ],
            "image/png": "[encoded data removed]"
          },
          "metadata": {
            "needs_background": "light"
          }
        }
      ]
    },
    {
      "cell_type": "markdown",
      "source": [
        "### **Splitting the data**"
      ],
      "metadata": {
        "id": "oen-hj5v44_p"
      }
    },
    {
      "cell_type": "code",
      "source": [
        "from sklearn.model_selection import train_test_split"
      ],
      "metadata": {
        "id": "FUs0_5i2qgZV"
      },
      "execution_count": null,
      "outputs": []
    },
    {
      "cell_type": "code",
      "source": [
        "# splitting dataset inro train and test and val (70:20:10)\n",
        "X_train, x_test, Y_train, y_test = train_test_split(x,y, test_size=0.2, shuffle = True, random_state = 42)#x,y are \n",
        "#considering 1/8 part of x and y train into validation i.e., (1/8)*0.8 = 0.1 (10% is validation set)\n",
        "x_train, x_valid, y_train, y_valid = train_test_split(X_train, Y_train, test_size=1/8, random_state= 42) "
      ],
      "metadata": {
        "id": "yURChmXJqglj"
      },
      "execution_count": null,
      "outputs": []
    },
    {
      "cell_type": "code",
      "source": [
        "print(x_train.shape)\n",
        "print(y_train.shape)\n",
        "\n",
        "print(x_test.shape)\n",
        "print(y_test.shape)\n",
        "\n",
        "print(x_valid.shape)\n",
        "print(y_valid.shape)"
      ],
      "metadata": {
        "colab": {
          "base_uri": "https://localhost:8080/"
        },
        "id": "Ud_E8vrlqgxx",
        "outputId": "f419e201-cc4c-48bc-87f3-40d064bb8bb4"
      },
      "execution_count": null,
      "outputs": [
        {
          "output_type": "stream",
          "name": "stdout",
          "text": [
            "(4900, 784)\n",
            "(4900,)\n",
            "(1400, 784)\n",
            "(1400,)\n",
            "(700, 784)\n",
            "(700,)\n"
          ]
        }
      ]
    },
    {
      "cell_type": "markdown",
      "source": [
        "### **Principle component Analysis**"
      ],
      "metadata": {
        "id": "AdFZB7xoESeC"
      }
    },
    {
      "cell_type": "code",
      "source": [
        "from sklearn.decomposition import PCA"
      ],
      "metadata": {
        "id": "A4_GVJglq2G0"
      },
      "execution_count": null,
      "outputs": []
    },
    {
      "cell_type": "code",
      "source": [
        "pca = PCA(0.95)\n",
        "x_train_pca = pca.fit_transform(x_train,y_train)\n",
        "x_valid_pca = pca.fit_transform(x_valid,y_valid)\n",
        "x_test_pca = pca.fit_transform(x_test,y_test)\n",
        "\n",
        "print(x_train_pca.shape)\n",
        "print(x_valid_pca.shape)\n",
        "print(x_test_pca.shape)"
      ],
      "metadata": {
        "colab": {
          "base_uri": "https://localhost:8080/"
        },
        "id": "lwAUl1bJq2dA",
        "outputId": "e822f23e-0d83-457e-9a54-5df93a2782da"
      },
      "execution_count": null,
      "outputs": [
        {
          "output_type": "stream",
          "name": "stdout",
          "text": [
            "(4900, 176)\n",
            "(700, 131)\n",
            "(1400, 150)\n"
          ]
        }
      ]
    },
    {
      "cell_type": "code",
      "source": [
        "## creating a dataframe for storing results later\n",
        "df = pd.DataFrame(columns=['Clustering Method','homogeneity_score_train','completeness_score_train',\n",
        "                           'homogeneity_score_val','completeness_score_validation',\n",
        "                           'homogeneity_score_test','completeness_score_test'])"
      ],
      "metadata": {
        "id": "9HSVQ2RrsspM"
      },
      "execution_count": null,
      "outputs": []
    },
    {
      "cell_type": "markdown",
      "source": [
        "### **Hierarchical agglomerative clustering**"
      ],
      "metadata": {
        "id": "FwO0lwNFJ5Gr"
      }
    },
    {
      "cell_type": "code",
      "source": [
        "from sklearn.cluster import AgglomerativeClustering\n",
        "AG_cluster = AgglomerativeClustering(n_clusters = 10)\n",
        "x_train_hac = AG_cluster.fit(x_train_pca) \n",
        "#hac = hierarchical agglomerative clustering\n",
        "\n",
        "AG_cluster = AgglomerativeClustering(n_clusters = 10)\n",
        "x_valid_hac = AG_cluster.fit(x_valid_pca)\n",
        "\n",
        "AG_cluster = AgglomerativeClustering(n_clusters = 10)\n",
        "x_test_hac = AG_cluster.fit(x_test_pca)"
      ],
      "metadata": {
        "id": "vbjlIirzq2o_"
      },
      "execution_count": null,
      "outputs": []
    },
    {
      "cell_type": "code",
      "source": [
        "print(x_train_hac.labels_.shape)\n",
        "print(x_valid_hac.labels_.shape)\n",
        "print(x_test_hac.labels_.shape)"
      ],
      "metadata": {
        "colab": {
          "base_uri": "https://localhost:8080/"
        },
        "id": "R5Wo1hfPr7CK",
        "outputId": "8f1efb2d-2847-4219-8f07-5ac91ee1e695"
      },
      "execution_count": null,
      "outputs": [
        {
          "output_type": "stream",
          "name": "stdout",
          "text": [
            "(4900,)\n",
            "(700,)\n",
            "(1400,)\n"
          ]
        }
      ]
    },
    {
      "cell_type": "code",
      "source": [
        "from sklearn.metrics.cluster import completeness_score,homogeneity_score\n",
        "from sklearn.metrics import silhouette_score\n",
        "\n",
        "#Evaluating the metrics\n",
        "#ac = agglomerative clustering\n",
        "train_homogeneity_score_ac = homogeneity_score(y_train,x_train_hac.labels_)\n",
        "val_homogeneity_score_ac = homogeneity_score(y_valid,x_valid_hac.labels_)\n",
        "test_homogeneity_score_ac = homogeneity_score(y_test,x_test_hac.labels_)\n",
        "\n",
        "train_completeness_score_ac = completeness_score(y_train,x_train_hac.labels_)\n",
        "val_completeness_score_ac = completeness_score(y_valid,x_valid_hac.labels_)\n",
        "test_completeness_score_ac = completeness_score(y_test,x_test_hac.labels_)\n",
        "\n",
        "print(\"Training Set Homogenity Score     : \", train_homogeneity_score_ac)\n",
        "print(\"Training Set Completeness Score   : \", train_completeness_score_ac)\n",
        "\n",
        "print(\"\\nValidation Set Homogenity Score   : \", val_homogeneity_score_ac)\n",
        "print(\"Validation Set Completeness Score : \", val_completeness_score_ac)\n",
        "\n",
        "print(\"\\nTesting Set Homogenity Score      : \", test_homogeneity_score_ac)\n",
        "print(\"Testing Set Completeness Score    : \", test_completeness_score_ac)\n",
        "\n",
        "print(\"\\nTraining Set Silhouette Metrics   : \",silhouette_score(X=x_train_pca,labels=x_train_hac.labels_))\n",
        "print(\"Validation Set Silhouette Metrics : \",silhouette_score(X=x_valid_pca,labels=x_valid_hac.labels_))\n",
        "print(\"Testing Set Silhouette Metrics    : \",silhouette_score(X=x_test_pca,labels=x_test_hac.labels_)) "
      ],
      "metadata": {
        "colab": {
          "base_uri": "https://localhost:8080/"
        },
        "id": "FKcEhVsgr9L_",
        "outputId": "262062dc-3b7b-472f-b91d-06b886a83fb0"
      },
      "execution_count": null,
      "outputs": [
        {
          "output_type": "stream",
          "name": "stdout",
          "text": [
            "Training Set Homogenity Score     :  0.5572235389350423\n",
            "Training Set Completeness Score   :  0.5992157128323033\n",
            "\n",
            "Validation Set Homogenity Score   :  0.5092033703459481\n",
            "Validation Set Completeness Score :  0.5341460060471556\n",
            "\n",
            "Testing Set Homogenity Score      :  0.5669629272561987\n",
            "Testing Set Completeness Score    :  0.6010277309174249\n",
            "\n",
            "Training Set Silhouette Metrics   :  0.14178155647271432\n",
            "Validation Set Silhouette Metrics :  0.13513221657032434\n",
            "Testing Set Silhouette Metrics    :  0.16364359632173983\n"
          ]
        }
      ]
    },
    {
      "cell_type": "markdown",
      "source": [
        "### **Density based Clustering**"
      ],
      "metadata": {
        "id": "fF_ge-Y0K2O2"
      }
    },
    {
      "cell_type": "code",
      "source": [
        "df.loc[len(df)] = ['Agglomerative Clustering',train_homogeneity_score_ac,train_completeness_score_ac,\n",
        "                   val_homogeneity_score_ac,val_completeness_score_ac,test_homogeneity_score_ac,test_completeness_score_ac]\n",
        "#storing the results in the dataframe "
      ],
      "metadata": {
        "id": "i49RIhGzr9YA"
      },
      "execution_count": null,
      "outputs": []
    },
    {
      "cell_type": "code",
      "source": [
        "from sklearn.cluster import DBSCAN\n",
        "\n",
        "eps = 8\n",
        "\n",
        "DB_Cluster = DBSCAN(eps=eps, min_samples=3,n_jobs=-1)\n",
        "train_set_DBSCAN = DB_Cluster.fit(x_train_pca)\n",
        "\n",
        "DB_Cluster = DBSCAN(eps=eps, min_samples=3,n_jobs=-1)\n",
        "val_set_DBSCAN = DB_Cluster.fit(x_valid_pca)\n",
        "\n",
        "DB_Cluster = DBSCAN(eps=eps, min_samples=3,n_jobs=-1)\n",
        "test_set_DBSCAN = DB_Cluster.fit(x_test_pca)"
      ],
      "metadata": {
        "id": "VoJDLRqSr9jR"
      },
      "execution_count": null,
      "outputs": []
    },
    {
      "cell_type": "code",
      "source": [
        "train_homogeneity_score = homogeneity_score(y_train,train_set_DBSCAN.labels_)\n",
        "val_homogeneity_score = homogeneity_score(y_valid,val_set_DBSCAN.labels_)\n",
        "test_homogeneity_score = homogeneity_score(y_test,test_set_DBSCAN.labels_)\n",
        "\n",
        "train_completeness_score = completeness_score(y_train,train_set_DBSCAN.labels_)\n",
        "val_completeness_score = completeness_score(y_valid,val_set_DBSCAN.labels_)\n",
        "test_completeness_score = completeness_score(y_test,test_set_DBSCAN.labels_)\n",
        "\n",
        "print(\"Homogenity Score of Training Set : \", train_homogeneity_score)\n",
        "print(\"Completeness Score of Training Set : \", train_completeness_score)\n",
        "\n",
        "print(\"\\nHomogenity Score of Validation Set  : \", val_homogeneity_score)\n",
        "print(\"Completeness Score of Validation Set : \", val_completeness_score)\n",
        "\n",
        "print(\"\\nTesting Set Homogenity Score of Testing Set : \", test_homogeneity_score)\n",
        "print(\"Completeness Score of Testing Set    : \", test_completeness_score)\n",
        "\n",
        "# If the cluster has a score of 1, it is more dense and well-distributed than other clusters. \n",
        "# A number close to 0 denotes clusters that overlap and have samples that are very near the decision border of the adjacent clusters. \n",
        "# A low score [-1, 0] denotes the possibility that the samples were placed in the incorrect clusters.\n",
        "\n",
        "print(\"\\nTraining Set Silhouette Metrics   : \",silhouette_score(X=x_train_pca,labels=train_set_DBSCAN.labels_))\n",
        "print(\"Validation Set Silhouette Metrics : \",silhouette_score(X=x_valid_pca,labels=val_set_DBSCAN.labels_))\n",
        "print(\"Testing Set Silhouette Metrics    : \",silhouette_score(X=x_test_pca,labels=test_set_DBSCAN.labels_)) "
      ],
      "metadata": {
        "colab": {
          "base_uri": "https://localhost:8080/"
        },
        "id": "ap25Mzunr9ut",
        "outputId": "b17cb667-f4f7-49b4-972c-bcd2c5b69959"
      },
      "execution_count": null,
      "outputs": [
        {
          "output_type": "stream",
          "name": "stdout",
          "text": [
            "Homogenity Score of Training Set :  0.0005216764715432699\n",
            "Completeness Score of Training Set :  0.12729393653171306\n",
            "\n",
            "Homogenity Score of Validation Set  :  0.002110118525807517\n",
            "Completeness Score of Validation Set :  0.24763425404251316\n",
            "\n",
            "Testing Set Homogenity Score of Testing Set :  0.003051874341711339\n",
            "Completeness Score of Testing Set    :  0.22297137690778612\n",
            "\n",
            "Training Set Silhouette Metrics   :  0.10598937553583603\n",
            "Validation Set Silhouette Metrics :  0.15405730846438392\n",
            "Testing Set Silhouette Metrics    :  0.10905680084778686\n"
          ]
        }
      ]
    },
    {
      "cell_type": "code",
      "source": [
        "df.loc[len(df)] = ['DBSCAN Clustering',train_homogeneity_score,train_completeness_score,\n",
        "                   val_homogeneity_score,val_completeness_score,test_homogeneity_score,test_completeness_score]\n",
        "#storing the results in the dataframe"
      ],
      "metadata": {
        "id": "EqlEis5or96A"
      },
      "execution_count": null,
      "outputs": []
    },
    {
      "cell_type": "markdown",
      "source": [
        "### **Summary table**"
      ],
      "metadata": {
        "id": "NuJInS4VNHL_"
      }
    },
    {
      "cell_type": "code",
      "source": [
        "df"
      ],
      "metadata": {
        "colab": {
          "base_uri": "https://localhost:8080/",
          "height": 228
        },
        "id": "D8h3Eg6rs7qg",
        "outputId": "2173a3ec-bcf4-4822-a28e-901902b4530b"
      },
      "execution_count": null,
      "outputs": [
        {
          "output_type": "execute_result",
          "data": {
            "text/plain": [
              "          Clustering Method  homogeneity_score_train  \\\n",
              "0  Agglomerative Clustering                 0.557224   \n",
              "1         DBSCAN Clustering                 0.000522   \n",
              "\n",
              "   completeness_score_train  homogeneity_score_val  \\\n",
              "0                  0.599216               0.509203   \n",
              "1                  0.127294               0.002110   \n",
              "\n",
              "   completeness_score_validation  homogeneity_score_test  \\\n",
              "0                       0.534146                0.566963   \n",
              "1                       0.247634                0.003052   \n",
              "\n",
              "   completeness_score_test  \n",
              "0                 0.601028  \n",
              "1                 0.222971  "
            ],
            "text/html": [
              "\n",
              "  <div id=\"df-63cedb55-f930-4ee2-a786-03cdfc746499\">\n",
              "    <div class=\"colab-df-container\">\n",
              "      <div>\n",
              "<style scoped>\n",
              "    .dataframe tbody tr th:only-of-type {\n",
              "        vertical-align: middle;\n",
              "    }\n",
              "\n",
              "    .dataframe tbody tr th {\n",
              "        vertical-align: top;\n",
              "    }\n",
              "\n",
              "    .dataframe thead th {\n",
              "        text-align: right;\n",
              "    }\n",
              "</style>\n",
              "<table border=\"1\" class=\"dataframe\">\n",
              "  <thead>\n",
              "    <tr style=\"text-align: right;\">\n",
              "      <th></th>\n",
              "      <th>Clustering Method</th>\n",
              "      <th>homogeneity_score_train</th>\n",
              "      <th>completeness_score_train</th>\n",
              "      <th>homogeneity_score_val</th>\n",
              "      <th>completeness_score_validation</th>\n",
              "      <th>homogeneity_score_test</th>\n",
              "      <th>completeness_score_test</th>\n",
              "    </tr>\n",
              "  </thead>\n",
              "  <tbody>\n",
              "    <tr>\n",
              "      <th>0</th>\n",
              "      <td>Agglomerative Clustering</td>\n",
              "      <td>0.557224</td>\n",
              "      <td>0.599216</td>\n",
              "      <td>0.509203</td>\n",
              "      <td>0.534146</td>\n",
              "      <td>0.566963</td>\n",
              "      <td>0.601028</td>\n",
              "    </tr>\n",
              "    <tr>\n",
              "      <th>1</th>\n",
              "      <td>DBSCAN Clustering</td>\n",
              "      <td>0.000522</td>\n",
              "      <td>0.127294</td>\n",
              "      <td>0.002110</td>\n",
              "      <td>0.247634</td>\n",
              "      <td>0.003052</td>\n",
              "      <td>0.222971</td>\n",
              "    </tr>\n",
              "  </tbody>\n",
              "</table>\n",
              "</div>\n",
              "      <button class=\"colab-df-convert\" onclick=\"convertToInteractive('df-63cedb55-f930-4ee2-a786-03cdfc746499')\"\n",
              "              title=\"Convert this dataframe to an interactive table.\"\n",
              "              style=\"display:none;\">\n",
              "        \n",
              "  <svg xmlns=\"http://www.w3.org/2000/svg\" height=\"24px\"viewBox=\"0 0 24 24\"\n",
              "       width=\"24px\">\n",
              "    <path d=\"M0 0h24v24H0V0z\" fill=\"none\"/>\n",
              "    <path d=\"M18.56 5.44l.94 2.06.94-2.06 2.06-.94-2.06-.94-.94-2.06-.94 2.06-2.06.94zm-11 1L8.5 8.5l.94-2.06 2.06-.94-2.06-.94L8.5 2.5l-.94 2.06-2.06.94zm10 10l.94 2.06.94-2.06 2.06-.94-2.06-.94-.94-2.06-.94 2.06-2.06.94z\"/><path d=\"M17.41 7.96l-1.37-1.37c-.4-.4-.92-.59-1.43-.59-.52 0-1.04.2-1.43.59L10.3 9.45l-7.72 7.72c-.78.78-.78 2.05 0 2.83L4 21.41c.39.39.9.59 1.41.59.51 0 1.02-.2 1.41-.59l7.78-7.78 2.81-2.81c.8-.78.8-2.07 0-2.86zM5.41 20L4 18.59l7.72-7.72 1.47 1.35L5.41 20z\"/>\n",
              "  </svg>\n",
              "      </button>\n",
              "      \n",
              "  <style>\n",
              "    .colab-df-container {\n",
              "      display:flex;\n",
              "      flex-wrap:wrap;\n",
              "      gap: 12px;\n",
              "    }\n",
              "\n",
              "    .colab-df-convert {\n",
              "      background-color: #E8F0FE;\n",
              "      border: none;\n",
              "      border-radius: 50%;\n",
              "      cursor: pointer;\n",
              "      display: none;\n",
              "      fill: #1967D2;\n",
              "      height: 32px;\n",
              "      padding: 0 0 0 0;\n",
              "      width: 32px;\n",
              "    }\n",
              "\n",
              "    .colab-df-convert:hover {\n",
              "      background-color: #E2EBFA;\n",
              "      box-shadow: 0px 1px 2px rgba(60, 64, 67, 0.3), 0px 1px 3px 1px rgba(60, 64, 67, 0.15);\n",
              "      fill: #174EA6;\n",
              "    }\n",
              "\n",
              "    [theme=dark] .colab-df-convert {\n",
              "      background-color: #3B4455;\n",
              "      fill: #D2E3FC;\n",
              "    }\n",
              "\n",
              "    [theme=dark] .colab-df-convert:hover {\n",
              "      background-color: #434B5C;\n",
              "      box-shadow: 0px 1px 3px 1px rgba(0, 0, 0, 0.15);\n",
              "      filter: drop-shadow(0px 1px 2px rgba(0, 0, 0, 0.3));\n",
              "      fill: #FFFFFF;\n",
              "    }\n",
              "  </style>\n",
              "\n",
              "      <script>\n",
              "        const buttonEl =\n",
              "          document.querySelector('#df-63cedb55-f930-4ee2-a786-03cdfc746499 button.colab-df-convert');\n",
              "        buttonEl.style.display =\n",
              "          google.colab.kernel.accessAllowed ? 'block' : 'none';\n",
              "\n",
              "        async function convertToInteractive(key) {\n",
              "          const element = document.querySelector('#df-63cedb55-f930-4ee2-a786-03cdfc746499');\n",
              "          const dataTable =\n",
              "            await google.colab.kernel.invokeFunction('convertToInteractive',\n",
              "                                                     [key], {});\n",
              "          if (!dataTable) return;\n",
              "\n",
              "          const docLinkHtml = 'Like what you see? Visit the ' +\n",
              "            '<a target=\"_blank\" href=https://colab.research.google.com/notebooks/data_table.ipynb>data table notebook</a>'\n",
              "            + ' to learn more about interactive tables.';\n",
              "          element.innerHTML = '';\n",
              "          dataTable['output_type'] = 'display_data';\n",
              "          await google.colab.output.renderOutput(dataTable, element);\n",
              "          const docLink = document.createElement('div');\n",
              "          docLink.innerHTML = docLinkHtml;\n",
              "          element.appendChild(docLink);\n",
              "        }\n",
              "      </script>\n",
              "    </div>\n",
              "  </div>\n",
              "  "
            ]
          },
          "metadata": {},
          "execution_count": 34
        }
      ]
    },
    {
      "cell_type": "markdown",
      "source": [
        "##  **Which of the two algorithms performed better?**"
      ],
      "metadata": {
        "id": "5FDalh21Q6Ee"
      }
    },
    {
      "cell_type": "markdown",
      "source": [
        "+ Compared to DBSCAN clustering, agglomerative clustering performs better. The Homogenity, Completeness, and Silhouette scores' obtained findings can be used to deduce this."
      ],
      "metadata": {
        "id": "g28Q0vu5OOnF"
      }
    },
    {
      "cell_type": "markdown",
      "source": [
        "+ Hierarchical agglomerative clustering performs on average more than 50% better than DBSCAN clustering."
      ],
      "metadata": {
        "id": "L0ipSJzVPEJw"
      }
    }
  ]
}